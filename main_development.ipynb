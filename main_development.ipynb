{
 "cells": [
  {
   "cell_type": "code",
   "id": "initial_id",
   "metadata": {
    "collapsed": true,
    "ExecuteTime": {
     "end_time": "2024-05-10T10:29:52.052503Z",
     "start_time": "2024-05-10T10:29:51.541615Z"
    }
   },
   "source": [
    "import numpy as np\n",
    "\n",
    "from feature_treatment import load_images_from_folder, feature_extraction_set, feature_matching_set, initialize_reconstruction\n",
    "from utils import connect_images, fill_pts3d, plot_model\n",
    "from read_write_model import rotmat2qvec, qvec2rotmat, Camera\n",
    "from camera_treatment import calculate_projection_matrix, reprojection_error\n",
    "from triangulation import following_img_reconstruction, alignment_of_kpts, triangulate_and_reproject\n",
    "from bundle_adjustment import bundleAd"
   ],
   "outputs": [],
   "execution_count": 1
  },
  {
   "cell_type": "code",
   "id": "b83d39c2f198f877",
   "metadata": {
    "ExecuteTime": {
     "end_time": "2024-05-10T10:29:52.067503Z",
     "start_time": "2024-05-10T10:29:52.053503Z"
    }
   },
   "source": [
    "cameras = {}\n",
    "punts3D = {}"
   ],
   "outputs": [],
   "execution_count": 2
  },
  {
   "cell_type": "code",
   "id": "97099aae",
   "metadata": {
    "ExecuteTime": {
     "end_time": "2024-05-10T10:29:52.235503Z",
     "start_time": "2024-05-10T10:29:52.145504Z"
    }
   },
   "source": [
    "images, img_db = load_images_from_folder('dinos')"
   ],
   "outputs": [],
   "execution_count": 3
  },
  {
   "cell_type": "code",
   "id": "668b5967b54a7b57",
   "metadata": {
    "ExecuteTime": {
     "end_time": "2024-05-10T10:30:45.617775Z",
     "start_time": "2024-05-10T10:29:52.300503Z"
    }
   },
   "source": [
    " # Feature extraction\n",
    "kp, des = feature_extraction_set(images, img_db)\n",
    "\n",
    "# Feature matching\n",
    "matches = feature_matching_set(kp, des)"
   ],
   "outputs": [],
   "execution_count": 4
  },
  {
   "cell_type": "code",
   "id": "2b34dc0b",
   "metadata": {
    "ExecuteTime": {
     "end_time": "2024-05-10T10:30:45.632775Z",
     "start_time": "2024-05-10T10:30:45.618777Z"
    }
   },
   "source": [
    "adj_matrix = connect_images(matches)"
   ],
   "outputs": [],
   "execution_count": 5
  },
  {
   "cell_type": "code",
   "id": "6a91f9204e80aa1f",
   "metadata": {
    "ExecuteTime": {
     "end_time": "2024-05-10T10:30:45.647774Z",
     "start_time": "2024-05-10T10:30:45.633775Z"
    }
   },
   "source": [
    "# Inicializar camara\n",
    "height, width = images.shape[1:3]\n",
    "K = np.array([  # for dino\n",
    "    [2360, 0, width / 2],\n",
    "    [0, 2360, height / 2],\n",
    "    [0, 0, 1]])\n",
    "\n",
    "cameras[1] = Camera(\n",
    "                id=1,\n",
    "                model=\"OPENCV\",\n",
    "                width=width,\n",
    "                height=height,\n",
    "                params=[2360, 2360, width / 2, height / 2, 0,0,0,0],\n",
    "            )\n",
    "punts3D = {}"
   ],
   "outputs": [],
   "execution_count": 6
  },
  {
   "cell_type": "code",
   "id": "e07fadc2",
   "metadata": {
    "ExecuteTime": {
     "end_time": "2024-05-10T10:30:46.559378Z",
     "start_time": "2024-05-10T10:30:45.649776Z"
    }
   },
   "source": [
    "initial_pair, RT1, RT2, pts_cloud = initialize_reconstruction(adj_matrix, matches, kp, K)\n",
    "img_db[initial_pair[0]].qvec = rotmat2qvec(RT1[:3, :3])\n",
    "img_db[initial_pair[0]].tvec = RT1[:3, -1]\n",
    "img_db[initial_pair[1]].qvec = rotmat2qvec(RT2[:3, :3])\n",
    "img_db[initial_pair[1]].tvec = RT2[:3, -1]\n",
    "fill_pts3d(img_db, punts3D, pts_cloud, kp[initial_pair[0]], matches, images, 0, 1)\n",
    "plot_model(punts3D)"
   ],
   "outputs": [
    {
     "ename": "ValueError",
     "evalue": "all the input arrays must have same number of dimensions, but the array at index 0 has 3 dimension(s) and the array at index 1 has 2 dimension(s)",
     "output_type": "error",
     "traceback": [
      "\u001B[1;31m---------------------------------------------------------------------------\u001B[0m",
      "\u001B[1;31mValueError\u001B[0m                                Traceback (most recent call last)",
      "Cell \u001B[1;32mIn[7], line 1\u001B[0m\n\u001B[1;32m----> 1\u001B[0m initial_pair, RT1, RT2, pts_cloud \u001B[38;5;241m=\u001B[39m \u001B[43minitialize_reconstruction\u001B[49m\u001B[43m(\u001B[49m\u001B[43madj_matrix\u001B[49m\u001B[43m,\u001B[49m\u001B[43m \u001B[49m\u001B[43mmatches\u001B[49m\u001B[43m,\u001B[49m\u001B[43m \u001B[49m\u001B[43mkp\u001B[49m\u001B[43m,\u001B[49m\u001B[43m \u001B[49m\u001B[43mK\u001B[49m\u001B[43m)\u001B[49m\n\u001B[0;32m      2\u001B[0m img_db[initial_pair[\u001B[38;5;241m0\u001B[39m]]\u001B[38;5;241m.\u001B[39mqvec \u001B[38;5;241m=\u001B[39m rotmat2qvec(RT1[:\u001B[38;5;241m3\u001B[39m, :\u001B[38;5;241m3\u001B[39m])\n\u001B[0;32m      3\u001B[0m img_db[initial_pair[\u001B[38;5;241m0\u001B[39m]]\u001B[38;5;241m.\u001B[39mtvec \u001B[38;5;241m=\u001B[39m RT1[:\u001B[38;5;241m3\u001B[39m, \u001B[38;5;241m-\u001B[39m\u001B[38;5;241m1\u001B[39m]\n",
      "File \u001B[1;32m~\\Desktop\\VC\\3D-Reconstruction\\feature_treatment.py:90\u001B[0m, in \u001B[0;36minitialize_reconstruction\u001B[1;34m(adj_matrix, matches, kp, K, top_percentage)\u001B[0m\n\u001B[0;32m     88\u001B[0m RT2s \u001B[38;5;241m=\u001B[39m pose_from_essential(E)\n\u001B[0;32m     89\u001B[0m pts3d \u001B[38;5;241m=\u001B[39m np\u001B[38;5;241m.\u001B[39marray([linear_triangulation(K, RT1, K, RT2, pts1, pts2) \u001B[38;5;28;01mfor\u001B[39;00m RT2 \u001B[38;5;129;01min\u001B[39;00m RT2s])\n\u001B[1;32m---> 90\u001B[0m RT2, pts_cloud \u001B[38;5;241m=\u001B[39m \u001B[43mdouble_disambiguation\u001B[49m\u001B[43m(\u001B[49m\u001B[43mK\u001B[49m\u001B[43m,\u001B[49m\u001B[43m \u001B[49m\u001B[43mRT1\u001B[49m\u001B[43m,\u001B[49m\u001B[43m \u001B[49m\u001B[43mK\u001B[49m\u001B[43m,\u001B[49m\u001B[43m \u001B[49m\u001B[43mRT2s\u001B[49m\u001B[43m,\u001B[49m\u001B[43m \u001B[49m\u001B[43mpts1\u001B[49m\u001B[43m,\u001B[49m\u001B[43m \u001B[49m\u001B[43mpts2\u001B[49m\u001B[43m,\u001B[49m\u001B[43m \u001B[49m\u001B[43mpts3d\u001B[49m\u001B[43m)\u001B[49m\n\u001B[0;32m     91\u001B[0m rvec, _ \u001B[38;5;241m=\u001B[39m cv2\u001B[38;5;241m.\u001B[39mRodrigues(RT2[:\u001B[38;5;241m3\u001B[39m, :\u001B[38;5;241m3\u001B[39m])\n\u001B[0;32m     92\u001B[0m rot_angle \u001B[38;5;241m=\u001B[39m \u001B[38;5;28mabs\u001B[39m(rvec[\u001B[38;5;241m0\u001B[39m]) \u001B[38;5;241m+\u001B[39m \u001B[38;5;28mabs\u001B[39m(rvec[\u001B[38;5;241m1\u001B[39m]) \u001B[38;5;241m+\u001B[39m \u001B[38;5;28mabs\u001B[39m(rvec[\u001B[38;5;241m2\u001B[39m])\n",
      "File \u001B[1;32m~\\Desktop\\VC\\3D-Reconstruction\\camera_treatment.py:118\u001B[0m, in \u001B[0;36mdouble_disambiguation\u001B[1;34m(K1, RT1, K2, RT2s, pts1, pts2, pts3d)\u001B[0m\n\u001B[0;32m    116\u001B[0m \u001B[38;5;28;01mfor\u001B[39;00m i \u001B[38;5;129;01min\u001B[39;00m \u001B[38;5;28mrange\u001B[39m(RT2s\u001B[38;5;241m.\u001B[39mshape[\u001B[38;5;241m0\u001B[39m]):\n\u001B[0;32m    117\u001B[0m     num_positive_z \u001B[38;5;241m=\u001B[39m np\u001B[38;5;241m.\u001B[39msum(pts3d[i][\u001B[38;5;241m2\u001B[39m, :] \u001B[38;5;241m>\u001B[39m \u001B[38;5;241m0\u001B[39m)\n\u001B[1;32m--> 118\u001B[0m     repr_err1, _ \u001B[38;5;241m=\u001B[39m \u001B[43mreprojection_error\u001B[49m\u001B[43m(\u001B[49m\u001B[43mK1\u001B[49m\u001B[43m,\u001B[49m\u001B[43m \u001B[49m\u001B[43mRT1\u001B[49m\u001B[43m,\u001B[49m\u001B[43m \u001B[49m\u001B[43mpts3d\u001B[49m\u001B[43m,\u001B[49m\u001B[43m \u001B[49m\u001B[43mpts1\u001B[49m\u001B[43m)\u001B[49m\n\u001B[0;32m    119\u001B[0m     repr_err2, _ \u001B[38;5;241m=\u001B[39m reprojection_error(K2, RT2s[i], pts3d, pts2)\n\u001B[0;32m    120\u001B[0m     repr_err \u001B[38;5;241m=\u001B[39m repr_err1 \u001B[38;5;241m+\u001B[39m repr_err2\n",
      "File \u001B[1;32m~\\Desktop\\VC\\3D-Reconstruction\\camera_treatment.py:98\u001B[0m, in \u001B[0;36mreprojection_error\u001B[1;34m(K, RT, pts3d, pts2d, rep_threshold)\u001B[0m\n\u001B[0;32m     96\u001B[0m \u001B[38;5;28;01mdef\u001B[39;00m \u001B[38;5;21mreprojection_error\u001B[39m(K, RT, pts3d, pts2d, rep_threshold \u001B[38;5;241m=\u001B[39m \u001B[38;5;241m5\u001B[39m):\n\u001B[0;32m     97\u001B[0m     P1 \u001B[38;5;241m=\u001B[39m K \u001B[38;5;241m@\u001B[39m RT\n\u001B[1;32m---> 98\u001B[0m     pts2d_repr \u001B[38;5;241m=\u001B[39m \u001B[43mreprojection\u001B[49m\u001B[43m(\u001B[49m\u001B[43mP1\u001B[49m\u001B[43m,\u001B[49m\u001B[43m \u001B[49m\u001B[43mpts3d\u001B[49m\u001B[43m)\u001B[49m\n\u001B[0;32m    100\u001B[0m     error_list \u001B[38;5;241m=\u001B[39m np\u001B[38;5;241m.\u001B[39msquare(pts2d_repr \u001B[38;5;241m-\u001B[39m pts2d)\n\u001B[0;32m    101\u001B[0m     error \u001B[38;5;241m=\u001B[39m np\u001B[38;5;241m.\u001B[39msum(error_list, axis\u001B[38;5;241m=\u001B[39m\u001B[38;5;241m0\u001B[39m)\n",
      "File \u001B[1;32m~\\Desktop\\VC\\3D-Reconstruction\\camera_treatment.py:91\u001B[0m, in \u001B[0;36mreprojection\u001B[1;34m(P, pts3d)\u001B[0m\n\u001B[0;32m     88\u001B[0m \u001B[38;5;28;01mif\u001B[39;00m num_pts3d \u001B[38;5;241m==\u001B[39m \u001B[38;5;241m1\u001B[39m:\n\u001B[0;32m     89\u001B[0m     local_pts3d \u001B[38;5;241m=\u001B[39m pts3d[:,np\u001B[38;5;241m.\u001B[39mnewaxis]\n\u001B[1;32m---> 91\u001B[0m pts3d_homo \u001B[38;5;241m=\u001B[39m \u001B[43mnp\u001B[49m\u001B[38;5;241;43m.\u001B[39;49m\u001B[43mvstack\u001B[49m\u001B[43m(\u001B[49m\u001B[43m(\u001B[49m\u001B[43mlocal_pts3d\u001B[49m\u001B[43m,\u001B[49m\u001B[43m \u001B[49m\u001B[43mnp\u001B[49m\u001B[38;5;241;43m.\u001B[39;49m\u001B[43mones\u001B[49m\u001B[43m(\u001B[49m\u001B[43mnum_pts3d\u001B[49m\u001B[43m,\u001B[49m\u001B[43m \u001B[49m\u001B[43mnp\u001B[49m\u001B[38;5;241;43m.\u001B[39;49m\u001B[43mnewaxis\u001B[49m\u001B[43m)\u001B[49m\u001B[43m)\u001B[49m\u001B[43m)\u001B[49m\n\u001B[0;32m     92\u001B[0m pts2d_homo \u001B[38;5;241m=\u001B[39m P \u001B[38;5;241m@\u001B[39m pts3d_homo\n\u001B[0;32m     93\u001B[0m \u001B[38;5;28;01mreturn\u001B[39;00m np\u001B[38;5;241m.\u001B[39msqueeze(pts2d_homo[:\u001B[38;5;241m2\u001B[39m]\u001B[38;5;241m/\u001B[39mpts2d_homo[\u001B[38;5;241m-\u001B[39m\u001B[38;5;241m1\u001B[39m])\n",
      "File \u001B[1;32m<__array_function__ internals>:200\u001B[0m, in \u001B[0;36mvstack\u001B[1;34m(*args, **kwargs)\u001B[0m\n",
      "File \u001B[1;32m~\\anaconda3\\lib\\site-packages\\numpy\\core\\shape_base.py:296\u001B[0m, in \u001B[0;36mvstack\u001B[1;34m(tup, dtype, casting)\u001B[0m\n\u001B[0;32m    294\u001B[0m \u001B[38;5;28;01mif\u001B[39;00m \u001B[38;5;129;01mnot\u001B[39;00m \u001B[38;5;28misinstance\u001B[39m(arrs, \u001B[38;5;28mlist\u001B[39m):\n\u001B[0;32m    295\u001B[0m     arrs \u001B[38;5;241m=\u001B[39m [arrs]\n\u001B[1;32m--> 296\u001B[0m \u001B[38;5;28;01mreturn\u001B[39;00m \u001B[43m_nx\u001B[49m\u001B[38;5;241;43m.\u001B[39;49m\u001B[43mconcatenate\u001B[49m\u001B[43m(\u001B[49m\u001B[43marrs\u001B[49m\u001B[43m,\u001B[49m\u001B[43m \u001B[49m\u001B[38;5;241;43m0\u001B[39;49m\u001B[43m,\u001B[49m\u001B[43m \u001B[49m\u001B[43mdtype\u001B[49m\u001B[38;5;241;43m=\u001B[39;49m\u001B[43mdtype\u001B[49m\u001B[43m,\u001B[49m\u001B[43m \u001B[49m\u001B[43mcasting\u001B[49m\u001B[38;5;241;43m=\u001B[39;49m\u001B[43mcasting\u001B[49m\u001B[43m)\u001B[49m\n",
      "File \u001B[1;32m<__array_function__ internals>:200\u001B[0m, in \u001B[0;36mconcatenate\u001B[1;34m(*args, **kwargs)\u001B[0m\n",
      "\u001B[1;31mValueError\u001B[0m: all the input arrays must have same number of dimensions, but the array at index 0 has 3 dimension(s) and the array at index 1 has 2 dimension(s)"
     ]
    }
   ],
   "execution_count": 7
  },
  {
   "cell_type": "code",
   "id": "50a0522e26a91abc",
   "metadata": {
    "ExecuteTime": {
     "end_time": "2024-05-10T10:21:17.501676Z",
     "start_time": "2024-05-10T10:21:17.501676Z"
    }
   },
   "source": [
    "processed_imgs = [initial_pair[0], initial_pair[1]]\n",
    "unprocessed_imgs = [i for i in range(len(images)) if not i in processed_imgs]"
   ],
   "outputs": [],
   "execution_count": null
  },
  {
   "cell_type": "code",
   "id": "e7d8e3746990ddf8",
   "metadata": {
    "ExecuteTime": {
     "end_time": "2024-05-10T10:21:17.503676Z",
     "start_time": "2024-05-10T10:21:17.502675Z"
    }
   },
   "source": [
    "BA_chkpts = [3,4,5,6] + [int(6*(1.34**i)) for i in range(25)]\n",
    "while len(unprocessed_imgs) > 0:\n",
    "    processed_idx, unprocessed_idx, prepend = following_img_reconstruction(images.shape[0], initial_pair, processed_imgs, unprocessed_imgs)\n",
    "    pts3d_idx = img_db[unprocessed_idx + 1].point3D_idxs != -1\n",
    "    if np.sum(pts3d_idx) < 12:\n",
    "        continue\n",
    "    \n",
    "    pts3d = img_db[unprocessed_idx + 1].point3D_idxs[pts3d_idx]\n",
    "    pts2d = img_db[unprocessed_idx + 1].xys[pts3d_idx]\n",
    "    \n",
    "    R1 = qvec2rotmat(img_db[unprocessed_idx + 1].qvec)\n",
    "    T1 = img_db[unprocessed_idx + 1].tvec\n",
    "    RT1 = np.hstack((R1, T1))\n",
    "    RT2 = calculate_projection_matrix(K, pts3d, pts2d)\n",
    "    \n",
    "    img_db[unprocessed_idx + 1].qvec = rotmat2qvec(RT2[:3, :3])\n",
    "    img_db[unprocessed_idx + 1].tvec = RT2[:3, -1]\n",
    "\n",
    "    if prepend: processed_imgs.insert(0, unprocessed_idx)\n",
    "    else: processed_imgs.append(unprocessed_idx)\n",
    "    unprocessed_imgs.remove(unprocessed_idx)\n",
    "    _, perc_inliers = reprojection_error(K, RT1, pts3d, pts2d)\n",
    "    \n",
    "    if processed_idx < unprocessed_idx:\n",
    "        kpts1, kpts2, kpts1_idx, kpts2_idx = alignment_of_kpts(kp, matches, processed_idx, unprocessed_idx)\n",
    "        if len(kpts1) > 0:\n",
    "            pts_cloud, avg_tri_err_l, avg_tri_err_r = triangulate_and_reproject(K, RT1, K, RT2, kpts1, kpts2)\n",
    "    else:\n",
    "        kpts1, kpts2, kpts1_idx, kpts2_idx = alignment_of_kpts(kp, matches, unprocessed_idx, processed_idx)\n",
    "        if len(kpts1) > 0:\n",
    "            pts_cloud, avg_tri_err_l, avg_tri_err_r = triangulate_and_reproject(K, RT2, K, RT1, kpts1, kpts2)\n",
    "        \n",
    "    if 0.8 < perc_inliers < 0.95 or 5 < avg_tri_err_l < 10 or 5 < avg_tri_err_r < 10: \n",
    "        bundleAd(punts3D, img_db, processed_imgs, K, ftol=1e0)\n",
    "        \n",
    "    if len(processed_imgs) in BA_chkpts or len(unprocessed_imgs) == 0 or perc_inliers <= 0.8 or avg_tri_err_l >= 10 or avg_tri_err_r >= 10:\n",
    "        bundleAd(punts3D, img_db, processed_imgs, K, ftol=1e-1)"
   ],
   "outputs": [],
   "execution_count": null
  },
  {
   "cell_type": "code",
   "id": "4aabe236",
   "metadata": {
    "ExecuteTime": {
     "end_time": "2024-05-10T10:21:17.504675Z",
     "start_time": "2024-05-10T10:21:17.503676Z"
    }
   },
   "source": [
    "plot_model(punts3D)"
   ],
   "outputs": [],
   "execution_count": null
  },
  {
   "cell_type": "code",
   "id": "018c26bc",
   "metadata": {},
   "source": "",
   "outputs": [],
   "execution_count": null
  },
  {
   "cell_type": "code",
   "id": "8d66f8ab",
   "metadata": {},
   "source": [
    "# for i in range(2, len(img_db)):\n",
    "#     # Get projection matrix, rotation and translation\n",
    "#     pts2d = np.array([pt for pt, idx in zip(img_db[i+1].xys, img_db[i+1].point3D_idxs) if idx != -1])\n",
    "#     pts3d = np.array([punts3D[idx].xyz for idx in img_db[i+1].point3D_idxs if idx != -1])\n",
    "#     P = calculate_projection_matrix(K, pts3d, pts2d)\n",
    "#     RT = np.linalg.inv(K) @ P\n",
    "#     img_db[i+1].qvec = rotmat2qvec(RT[:, :3])\n",
    "#     img_db[i+1].tvec = RT[:, -1]\n",
    "    \n",
    "#     # Triangulate all matches with previous images and\n",
    "#     for j in range(i):\n",
    "#         if len(matches[(j,i)]) == 0:\n",
    "#             continue\n",
    "        \n",
    "#         pts2d1_idxs = np.array([m.queryIdx for m in matches[(j,i)] if img_db[i+1].point3D_idxs[m.trainIdx] == -1]).astype(int)\n",
    "#         pts2d2_idxs = np.array([m.trainIdx for m in matches[(j,i)] if img_db[i+1].point3D_idxs[m.trainIdx] == -1]).astype(int)\n",
    "\n",
    "#         RTj = np.hstack((qvec2rotmat(img_db[j+1].qvec), img_db[j+1].tvec[:, np.newaxis]))\n",
    "#         RTi = RT\n",
    "        \n",
    "#         pts_cloud = linear_triangulation(K, RTj, K, RT, img_db[j+1].xys[pts2d1_idxs, :].T, img_db[i+1].xys[pts2d2_idxs, :].T)\n",
    "\n",
    "#         fill_pts3d(img_db, punts3D, pts_cloud, kp[j], matches, images, j, i)\n"
   ],
   "outputs": [],
   "execution_count": null
  },
  {
   "cell_type": "code",
   "id": "ba2990de",
   "metadata": {},
   "source": "",
   "outputs": [],
   "execution_count": null
  }
 ],
 "metadata": {
  "kernelspec": {
   "display_name": "Python 3",
   "language": "python",
   "name": "python3"
  },
  "language_info": {
   "codemirror_mode": {
    "name": "ipython",
    "version": 3
   },
   "file_extension": ".py",
   "mimetype": "text/x-python",
   "name": "python",
   "nbconvert_exporter": "python",
   "pygments_lexer": "ipython3",
   "version": "3.11.5"
  }
 },
 "nbformat": 4,
 "nbformat_minor": 5
}
