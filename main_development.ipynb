{
 "cells": [
  {
   "cell_type": "code",
   "id": "initial_id",
   "metadata": {
    "collapsed": true,
    "ExecuteTime": {
     "end_time": "2024-05-08T17:44:04.424778Z",
     "start_time": "2024-05-08T17:44:03.687066Z"
    }
   },
   "source": [
    "from functions import *\n",
    "from output_classes import *"
   ],
   "outputs": [],
   "execution_count": 1
  },
  {
   "metadata": {
    "ExecuteTime": {
     "end_time": "2024-05-08T17:44:04.500720Z",
     "start_time": "2024-05-08T17:44:04.426770Z"
    }
   },
   "cell_type": "code",
   "source": [
    "cameras = {}\n",
    "punts3D = {}\n",
    "\n",
    "## COLMAP\n",
    "\n",
    "images, img_db = load_images_from_folder('dinos')"
   ],
   "id": "b83d39c2f198f877",
   "outputs": [],
   "execution_count": 2
  },
  {
   "metadata": {
    "ExecuteTime": {
     "end_time": "2024-05-08T17:44:55.746434Z",
     "start_time": "2024-05-08T17:44:04.501656Z"
    }
   },
   "cell_type": "code",
   "source": [
    " # Feature extraction\n",
    "kp, des = feature_extraction_set(images, img_db)\n",
    "\n",
    "# Feature matching\n",
    "matches = feature_matching_set(kp, des)"
   ],
   "id": "668b5967b54a7b57",
   "outputs": [],
   "execution_count": 3
  },
  {
   "metadata": {
    "ExecuteTime": {
     "end_time": "2024-05-08T17:44:55.751420Z",
     "start_time": "2024-05-08T17:44:55.747434Z"
    }
   },
   "cell_type": "code",
   "source": [
    "# Inicializar camara\n",
    "height, width = images.shape[1:3]\n",
    "K = np.array([  # for dino\n",
    "    [2360, 0, width / 2],\n",
    "    [0, 2360, height / 2],\n",
    "    [0, 0, 1]])\n",
    "\n",
    "cameras[1] = Camera(\n",
    "                id=1,\n",
    "                model=\"OPENCV\",\n",
    "                width=width,\n",
    "                height=height,\n",
    "                params=[2360, 2360, width / 2, height / 2, 0,0,0,0],\n",
    "            )"
   ],
   "id": "6a91f9204e80aa1f",
   "outputs": [],
   "execution_count": 4
  },
  {
   "metadata": {
    "ExecuteTime": {
     "end_time": "2024-05-08T17:44:55.770936Z",
     "start_time": "2024-05-08T17:44:55.752413Z"
    }
   },
   "cell_type": "code",
   "source": [
    " # Fundamental matrix\n",
    "pts1 = np.transpose([kp[0][m.queryIdx].pt for m in matches[(0, 1)]])\n",
    "pts2 = np.transpose([kp[1][m.trainIdx].pt for m in matches[(0, 1)]])\n",
    "\n",
    "F = eight_point_algorithm(pts1, pts2)\n",
    "\n",
    "# Essential matrix\n",
    "E = essential_from_fundamental(K, F, K)  # In this case, the same intrinsic values apply to all images\n",
    "\n",
    "# Get camera extrinsics from Essential matrix\n",
    "RT2s = pose_from_essential(E)"
   ],
   "id": "50a0522e26a91abc",
   "outputs": [],
   "execution_count": 5
  },
  {
   "metadata": {
    "ExecuteTime": {
     "end_time": "2024-05-08T17:44:55.835632Z",
     "start_time": "2024-05-08T17:44:55.772927Z"
    }
   },
   "cell_type": "code",
   "source": [
    "# Define RT for camera 1 (center at world origin and matching orientation)\n",
    "RT1 = np.hstack((np.eye(3), np.zeros((3, 1))))\n",
    "img_db[1].qvec = rotmat2qvec(np.eye(3))\n",
    "img_db[1].tvec = np.zeros((3,))\n",
    "\n",
    "K1, K2 = K, K\n",
    "RT2 = RT2s[0]\n",
    "\n",
    "pts3d = np.array([linear_triangulation(K, RT1, K, RT2, pts1, pts2) for RT2 in RT2s])\n",
    "\n",
    "RT2, pts_cloud = double_disambiguation(K, RT1, K, RT2s, pts1, pts2, pts3d)\n",
    "pts_cloud = pts_cloud[:, pts_cloud[2, :] > 0]"
   ],
   "id": "e7d8e3746990ddf8",
   "outputs": [],
   "execution_count": 6
  },
  {
   "metadata": {
    "ExecuteTime": {
     "end_time": "2024-05-08T17:49:26.376418Z",
     "start_time": "2024-05-08T17:49:26.373109Z"
    }
   },
   "cell_type": "code",
   "source": "punts3D = {}",
   "id": "2a392f98f77ad1b7",
   "outputs": [],
   "execution_count": 13
  },
  {
   "metadata": {
    "ExecuteTime": {
     "end_time": "2024-05-08T17:49:29.591636Z",
     "start_time": "2024-05-08T17:49:29.409854Z"
    }
   },
   "cell_type": "code",
   "source": [
    "for p in pts_cloud.T:\n",
    "    point_idx = len(punts3D)\n",
    "    index1 = kp[0][matches[(0,1)][point_idx].queryIdx].pt\n",
    "    im_pts_idx = np.concatenate(([(1, matches[(0,1)][point_idx].queryIdx)], [(j+1, m.trainIdx) for j in range(1, images.shape[0]) for m in matches[(0,j)] if m.queryIdx == matches[(0,1)][point_idx].queryIdx]))\n",
    "    punts3D[point_idx] = Point3D(\n",
    "        id=point_idx,\n",
    "        xyz=p,\n",
    "        rgb=images[0, int(index1[1]), int(index1[0]), :],\n",
    "        error=0,        \n",
    "        image_ids=im_pts_idx[:][0],\n",
    "        point2D_idxs=im_pts_idx[:][1],\n",
    "    )\n",
    "    for im_pts in im_pts_idx:\n",
    "        img_db[im_pts[0]].point3D_idxs[im_pts[1]] = point_idx\n",
    "        "
   ],
   "id": "1f68b581e3b6ddaf",
   "outputs": [],
   "execution_count": 14
  }
 ],
 "metadata": {
  "kernelspec": {
   "display_name": "Python 3",
   "language": "python",
   "name": "python3"
  },
  "language_info": {
   "codemirror_mode": {
    "name": "ipython",
    "version": 2
   },
   "file_extension": ".py",
   "mimetype": "text/x-python",
   "name": "python",
   "nbconvert_exporter": "python",
   "pygments_lexer": "ipython2",
   "version": "2.7.6"
  }
 },
 "nbformat": 4,
 "nbformat_minor": 5
}
