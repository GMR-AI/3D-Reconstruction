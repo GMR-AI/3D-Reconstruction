{
 "cells": [
  {
   "cell_type": "code",
   "execution_count": 107,
   "metadata": {},
   "outputs": [],
   "source": [
    "import numpy as np\n",
    "import matplotlib.pyplot as plt\n",
    "\n",
    "import cv2\n",
    "import os"
   ]
  },
  {
   "cell_type": "code",
   "execution_count": 108,
   "metadata": {},
   "outputs": [],
   "source": [
    "def load_images_from_folder(folder):\n",
    "    images = []\n",
    "    for filename in os.listdir(folder):\n",
    "        img = cv2.imread(os.path.join(folder, filename))\n",
    "        if img is not None:\n",
    "            images.append(img)\n",
    "    return images\n",
    "\n",
    "images = np.array(load_images_from_folder('dinos'))[2:4]"
   ]
  },
  {
   "cell_type": "code",
   "execution_count": 109,
   "metadata": {},
   "outputs": [],
   "source": [
    "K = np.loadtxt(\"intrinsic_matrix.txt\", dtype=float)"
   ]
  },
  {
   "cell_type": "code",
   "execution_count": 110,
   "metadata": {},
   "outputs": [],
   "source": [
    "# height, width, ch = images.shape[1:4]\n",
    "# K = np.array([  # for dino\n",
    "#     [2360, 0, width / 2],\n",
    "#     [0, 2360, height / 2],\n",
    "#     [0, 0, 1]])"
   ]
  },
  {
   "cell_type": "code",
   "execution_count": 111,
   "metadata": {},
   "outputs": [],
   "source": [
    "# def load_data(path='cameras'):\n",
    "\n",
    "#     C1 = np.load(f'{path}/cam1.npz')\n",
    "#     C2 = np.load(f'{path}/cam2.npz')\n",
    "#     K1 = C1['K']\n",
    "#     K2 = C2['K']\n",
    "\n",
    "#     return K1\n",
    "\n",
    "# K = load_data()"
   ]
  },
  {
   "cell_type": "code",
   "execution_count": 112,
   "metadata": {},
   "outputs": [
    {
     "name": "stdout",
     "output_type": "stream",
     "text": [
      "1508\n",
      "(1508, 128)\n"
     ]
    }
   ],
   "source": [
    "# Feature extraction\n",
    "orb = cv2.SIFT_create()\n",
    "\n",
    "kp, des = [], []\n",
    "for im in images:\n",
    "    kp_tmp, des_tmp = orb.detectAndCompute(im, None)\n",
    "    kp.append(kp_tmp)\n",
    "    des.append(des_tmp)\n",
    "print(len(kp[0])) #kp.shape = n_images x n_keypoints\n",
    "print(des[0].shape) #des.shape = n_images x n_keypoints x descriptor_size"
   ]
  },
  {
   "cell_type": "code",
   "execution_count": 113,
   "metadata": {},
   "outputs": [
    {
     "name": "stdout",
     "output_type": "stream",
     "text": [
      "Número de inliers: 354\n"
     ]
    }
   ],
   "source": [
    "# Inicializar el emparejador FLANN\n",
    "FLANN_INDEX_KDTREE = 0\n",
    "index_params = dict(algorithm = FLANN_INDEX_KDTREE, trees = 5)\n",
    "search_params = dict(checks=50)\n",
    "flann = cv2.FlannBasedMatcher(index_params, search_params)\n",
    "\n",
    "matches = {}\n",
    "# Comparar cada imagen con todas las demás\n",
    "for i in range(len(images)):\n",
    "    for j in range(i+1, len(images)):\n",
    "        # Emparejar descriptores\n",
    "        matches_tmp = flann.knnMatch(des[i], des[j], k=2)\n",
    "\n",
    "        # Aplicar la prueba de ratio para encontrar buenos emparejamientos (prueba de ratio de Lowe)\n",
    "        good_matches = [m for m, n in matches_tmp if m.distance < 0.7 * n.distance]\n",
    "\n",
    "        # Comprobar si hay suficientes buenos emparejamientos\n",
    "        if len(good_matches) >= 4:\n",
    "            # Aplicar RANSAC para encontrar la matriz de homografía y obtener la máscara de inliers\n",
    "            src_pts = np.float32([kp[i][m.queryIdx].pt for m in good_matches]).reshape(-1, 1, 2)\n",
    "            dst_pts = np.float32([kp[j][m.trainIdx].pt for m in good_matches]).reshape(-1, 1, 2)\n",
    "            M, mask = cv2.findHomography(src_pts, dst_pts, cv2.RANSAC, 5.0)\n",
    "\n",
    "            # Obtener solo los inliers\n",
    "            inliers = [good_matches[k] for k in range(len(good_matches)) if mask[k]==1]\n",
    "            matches[(i,j)] = inliers\n",
    "            \n",
    "            # Ahora la variable 'inliers' contiene solo los emparejamientos inliers\n",
    "            print(f'Número de inliers: {len(inliers)}')\n",
    "        else:\n",
    "            matches[(i,j)] = []\n",
    "            print(f\"No hay suficientes buenos emparejamientos entre las imágenes para calcular la homografía.\")"
   ]
  },
  {
   "cell_type": "code",
   "execution_count": 114,
   "metadata": {},
   "outputs": [
    {
     "data": {
      "application/javascript": "/* Put everything inside the global mpl namespace */\n/* global mpl */\nwindow.mpl = {};\n\nmpl.get_websocket_type = function () {\n    if (typeof WebSocket !== 'undefined') {\n        return WebSocket;\n    } else if (typeof MozWebSocket !== 'undefined') {\n        return MozWebSocket;\n    } else {\n        alert(\n            'Your browser does not have WebSocket support. ' +\n                'Please try Chrome, Safari or Firefox ≥ 6. ' +\n                'Firefox 4 and 5 are also supported but you ' +\n                'have to enable WebSockets in about:config.'\n        );\n    }\n};\n\nmpl.figure = function (figure_id, websocket, ondownload, parent_element) {\n    this.id = figure_id;\n\n    this.ws = websocket;\n\n    this.supports_binary = this.ws.binaryType !== undefined;\n\n    if (!this.supports_binary) {\n        var warnings = document.getElementById('mpl-warnings');\n        if (warnings) {\n            warnings.style.display = 'block';\n            warnings.textContent =\n                'This browser does not support binary websocket messages. ' +\n                'Performance may be slow.';\n        }\n    }\n\n    this.imageObj = new Image();\n\n    this.context = undefined;\n    this.message = undefined;\n    this.canvas = undefined;\n    this.rubberband_canvas = undefined;\n    this.rubberband_context = undefined;\n    this.format_dropdown = undefined;\n\n    this.image_mode = 'full';\n\n    this.root = document.createElement('div');\n    this.root.setAttribute('style', 'display: inline-block');\n    this._root_extra_style(this.root);\n\n    parent_element.appendChild(this.root);\n\n    this._init_header(this);\n    this._init_canvas(this);\n    this._init_toolbar(this);\n\n    var fig = this;\n\n    this.waiting = false;\n\n    this.ws.onopen = function () {\n        fig.send_message('supports_binary', { value: fig.supports_binary });\n        fig.send_message('send_image_mode', {});\n        if (fig.ratio !== 1) {\n            fig.send_message('set_device_pixel_ratio', {\n                device_pixel_ratio: fig.ratio,\n            });\n        }\n        fig.send_message('refresh', {});\n    };\n\n    this.imageObj.onload = function () {\n        if (fig.image_mode === 'full') {\n            // Full images could contain transparency (where diff images\n            // almost always do), so we need to clear the canvas so that\n            // there is no ghosting.\n            fig.context.clearRect(0, 0, fig.canvas.width, fig.canvas.height);\n        }\n        fig.context.drawImage(fig.imageObj, 0, 0);\n    };\n\n    this.imageObj.onunload = function () {\n        fig.ws.close();\n    };\n\n    this.ws.onmessage = this._make_on_message_function(this);\n\n    this.ondownload = ondownload;\n};\n\nmpl.figure.prototype._init_header = function () {\n    var titlebar = document.createElement('div');\n    titlebar.classList =\n        'ui-dialog-titlebar ui-widget-header ui-corner-all ui-helper-clearfix';\n    var titletext = document.createElement('div');\n    titletext.classList = 'ui-dialog-title';\n    titletext.setAttribute(\n        'style',\n        'width: 100%; text-align: center; padding: 3px;'\n    );\n    titlebar.appendChild(titletext);\n    this.root.appendChild(titlebar);\n    this.header = titletext;\n};\n\nmpl.figure.prototype._canvas_extra_style = function (_canvas_div) {};\n\nmpl.figure.prototype._root_extra_style = function (_canvas_div) {};\n\nmpl.figure.prototype._init_canvas = function () {\n    var fig = this;\n\n    var canvas_div = (this.canvas_div = document.createElement('div'));\n    canvas_div.setAttribute('tabindex', '0');\n    canvas_div.setAttribute(\n        'style',\n        'border: 1px solid #ddd;' +\n            'box-sizing: content-box;' +\n            'clear: both;' +\n            'min-height: 1px;' +\n            'min-width: 1px;' +\n            'outline: 0;' +\n            'overflow: hidden;' +\n            'position: relative;' +\n            'resize: both;' +\n            'z-index: 2;'\n    );\n\n    function on_keyboard_event_closure(name) {\n        return function (event) {\n            return fig.key_event(event, name);\n        };\n    }\n\n    canvas_div.addEventListener(\n        'keydown',\n        on_keyboard_event_closure('key_press')\n    );\n    canvas_div.addEventListener(\n        'keyup',\n        on_keyboard_event_closure('key_release')\n    );\n\n    this._canvas_extra_style(canvas_div);\n    this.root.appendChild(canvas_div);\n\n    var canvas = (this.canvas = document.createElement('canvas'));\n    canvas.classList.add('mpl-canvas');\n    canvas.setAttribute(\n        'style',\n        'box-sizing: content-box;' +\n            'pointer-events: none;' +\n            'position: relative;' +\n            'z-index: 0;'\n    );\n\n    this.context = canvas.getContext('2d');\n\n    var backingStore =\n        this.context.backingStorePixelRatio ||\n        this.context.webkitBackingStorePixelRatio ||\n        this.context.mozBackingStorePixelRatio ||\n        this.context.msBackingStorePixelRatio ||\n        this.context.oBackingStorePixelRatio ||\n        this.context.backingStorePixelRatio ||\n        1;\n\n    this.ratio = (window.devicePixelRatio || 1) / backingStore;\n\n    var rubberband_canvas = (this.rubberband_canvas = document.createElement(\n        'canvas'\n    ));\n    rubberband_canvas.setAttribute(\n        'style',\n        'box-sizing: content-box;' +\n            'left: 0;' +\n            'pointer-events: none;' +\n            'position: absolute;' +\n            'top: 0;' +\n            'z-index: 1;'\n    );\n\n    // Apply a ponyfill if ResizeObserver is not implemented by browser.\n    if (this.ResizeObserver === undefined) {\n        if (window.ResizeObserver !== undefined) {\n            this.ResizeObserver = window.ResizeObserver;\n        } else {\n            var obs = _JSXTOOLS_RESIZE_OBSERVER({});\n            this.ResizeObserver = obs.ResizeObserver;\n        }\n    }\n\n    this.resizeObserverInstance = new this.ResizeObserver(function (entries) {\n        var nentries = entries.length;\n        for (var i = 0; i < nentries; i++) {\n            var entry = entries[i];\n            var width, height;\n            if (entry.contentBoxSize) {\n                if (entry.contentBoxSize instanceof Array) {\n                    // Chrome 84 implements new version of spec.\n                    width = entry.contentBoxSize[0].inlineSize;\n                    height = entry.contentBoxSize[0].blockSize;\n                } else {\n                    // Firefox implements old version of spec.\n                    width = entry.contentBoxSize.inlineSize;\n                    height = entry.contentBoxSize.blockSize;\n                }\n            } else {\n                // Chrome <84 implements even older version of spec.\n                width = entry.contentRect.width;\n                height = entry.contentRect.height;\n            }\n\n            // Keep the size of the canvas and rubber band canvas in sync with\n            // the canvas container.\n            if (entry.devicePixelContentBoxSize) {\n                // Chrome 84 implements new version of spec.\n                canvas.setAttribute(\n                    'width',\n                    entry.devicePixelContentBoxSize[0].inlineSize\n                );\n                canvas.setAttribute(\n                    'height',\n                    entry.devicePixelContentBoxSize[0].blockSize\n                );\n            } else {\n                canvas.setAttribute('width', width * fig.ratio);\n                canvas.setAttribute('height', height * fig.ratio);\n            }\n            /* This rescales the canvas back to display pixels, so that it\n             * appears correct on HiDPI screens. */\n            canvas.style.width = width + 'px';\n            canvas.style.height = height + 'px';\n\n            rubberband_canvas.setAttribute('width', width);\n            rubberband_canvas.setAttribute('height', height);\n\n            // And update the size in Python. We ignore the initial 0/0 size\n            // that occurs as the element is placed into the DOM, which should\n            // otherwise not happen due to the minimum size styling.\n            if (fig.ws.readyState == 1 && width != 0 && height != 0) {\n                fig.request_resize(width, height);\n            }\n        }\n    });\n    this.resizeObserverInstance.observe(canvas_div);\n\n    function on_mouse_event_closure(name) {\n        /* User Agent sniffing is bad, but WebKit is busted:\n         * https://bugs.webkit.org/show_bug.cgi?id=144526\n         * https://bugs.webkit.org/show_bug.cgi?id=181818\n         * The worst that happens here is that they get an extra browser\n         * selection when dragging, if this check fails to catch them.\n         */\n        var UA = navigator.userAgent;\n        var isWebKit = /AppleWebKit/.test(UA) && !/Chrome/.test(UA);\n        if(isWebKit) {\n            return function (event) {\n                /* This prevents the web browser from automatically changing to\n                 * the text insertion cursor when the button is pressed. We\n                 * want to control all of the cursor setting manually through\n                 * the 'cursor' event from matplotlib */\n                event.preventDefault()\n                return fig.mouse_event(event, name);\n            };\n        } else {\n            return function (event) {\n                return fig.mouse_event(event, name);\n            };\n        }\n    }\n\n    canvas_div.addEventListener(\n        'mousedown',\n        on_mouse_event_closure('button_press')\n    );\n    canvas_div.addEventListener(\n        'mouseup',\n        on_mouse_event_closure('button_release')\n    );\n    canvas_div.addEventListener(\n        'dblclick',\n        on_mouse_event_closure('dblclick')\n    );\n    // Throttle sequential mouse events to 1 every 20ms.\n    canvas_div.addEventListener(\n        'mousemove',\n        on_mouse_event_closure('motion_notify')\n    );\n\n    canvas_div.addEventListener(\n        'mouseenter',\n        on_mouse_event_closure('figure_enter')\n    );\n    canvas_div.addEventListener(\n        'mouseleave',\n        on_mouse_event_closure('figure_leave')\n    );\n\n    canvas_div.addEventListener('wheel', function (event) {\n        if (event.deltaY < 0) {\n            event.step = 1;\n        } else {\n            event.step = -1;\n        }\n        on_mouse_event_closure('scroll')(event);\n    });\n\n    canvas_div.appendChild(canvas);\n    canvas_div.appendChild(rubberband_canvas);\n\n    this.rubberband_context = rubberband_canvas.getContext('2d');\n    this.rubberband_context.strokeStyle = '#000000';\n\n    this._resize_canvas = function (width, height, forward) {\n        if (forward) {\n            canvas_div.style.width = width + 'px';\n            canvas_div.style.height = height + 'px';\n        }\n    };\n\n    // Disable right mouse context menu.\n    canvas_div.addEventListener('contextmenu', function (_e) {\n        event.preventDefault();\n        return false;\n    });\n\n    function set_focus() {\n        canvas.focus();\n        canvas_div.focus();\n    }\n\n    window.setTimeout(set_focus, 100);\n};\n\nmpl.figure.prototype._init_toolbar = function () {\n    var fig = this;\n\n    var toolbar = document.createElement('div');\n    toolbar.classList = 'mpl-toolbar';\n    this.root.appendChild(toolbar);\n\n    function on_click_closure(name) {\n        return function (_event) {\n            return fig.toolbar_button_onclick(name);\n        };\n    }\n\n    function on_mouseover_closure(tooltip) {\n        return function (event) {\n            if (!event.currentTarget.disabled) {\n                return fig.toolbar_button_onmouseover(tooltip);\n            }\n        };\n    }\n\n    fig.buttons = {};\n    var buttonGroup = document.createElement('div');\n    buttonGroup.classList = 'mpl-button-group';\n    for (var toolbar_ind in mpl.toolbar_items) {\n        var name = mpl.toolbar_items[toolbar_ind][0];\n        var tooltip = mpl.toolbar_items[toolbar_ind][1];\n        var image = mpl.toolbar_items[toolbar_ind][2];\n        var method_name = mpl.toolbar_items[toolbar_ind][3];\n\n        if (!name) {\n            /* Instead of a spacer, we start a new button group. */\n            if (buttonGroup.hasChildNodes()) {\n                toolbar.appendChild(buttonGroup);\n            }\n            buttonGroup = document.createElement('div');\n            buttonGroup.classList = 'mpl-button-group';\n            continue;\n        }\n\n        var button = (fig.buttons[name] = document.createElement('button'));\n        button.classList = 'mpl-widget';\n        button.setAttribute('role', 'button');\n        button.setAttribute('aria-disabled', 'false');\n        button.addEventListener('click', on_click_closure(method_name));\n        button.addEventListener('mouseover', on_mouseover_closure(tooltip));\n\n        var icon_img = document.createElement('img');\n        icon_img.src = '_images/' + image + '.png';\n        icon_img.srcset = '_images/' + image + '_large.png 2x';\n        icon_img.alt = tooltip;\n        button.appendChild(icon_img);\n\n        buttonGroup.appendChild(button);\n    }\n\n    if (buttonGroup.hasChildNodes()) {\n        toolbar.appendChild(buttonGroup);\n    }\n\n    var fmt_picker = document.createElement('select');\n    fmt_picker.classList = 'mpl-widget';\n    toolbar.appendChild(fmt_picker);\n    this.format_dropdown = fmt_picker;\n\n    for (var ind in mpl.extensions) {\n        var fmt = mpl.extensions[ind];\n        var option = document.createElement('option');\n        option.selected = fmt === mpl.default_extension;\n        option.innerHTML = fmt;\n        fmt_picker.appendChild(option);\n    }\n\n    var status_bar = document.createElement('span');\n    status_bar.classList = 'mpl-message';\n    toolbar.appendChild(status_bar);\n    this.message = status_bar;\n};\n\nmpl.figure.prototype.request_resize = function (x_pixels, y_pixels) {\n    // Request matplotlib to resize the figure. Matplotlib will then trigger a resize in the client,\n    // which will in turn request a refresh of the image.\n    this.send_message('resize', { width: x_pixels, height: y_pixels });\n};\n\nmpl.figure.prototype.send_message = function (type, properties) {\n    properties['type'] = type;\n    properties['figure_id'] = this.id;\n    this.ws.send(JSON.stringify(properties));\n};\n\nmpl.figure.prototype.send_draw_message = function () {\n    if (!this.waiting) {\n        this.waiting = true;\n        this.ws.send(JSON.stringify({ type: 'draw', figure_id: this.id }));\n    }\n};\n\nmpl.figure.prototype.handle_save = function (fig, _msg) {\n    var format_dropdown = fig.format_dropdown;\n    var format = format_dropdown.options[format_dropdown.selectedIndex].value;\n    fig.ondownload(fig, format);\n};\n\nmpl.figure.prototype.handle_resize = function (fig, msg) {\n    var size = msg['size'];\n    if (size[0] !== fig.canvas.width || size[1] !== fig.canvas.height) {\n        fig._resize_canvas(size[0], size[1], msg['forward']);\n        fig.send_message('refresh', {});\n    }\n};\n\nmpl.figure.prototype.handle_rubberband = function (fig, msg) {\n    var x0 = msg['x0'] / fig.ratio;\n    var y0 = (fig.canvas.height - msg['y0']) / fig.ratio;\n    var x1 = msg['x1'] / fig.ratio;\n    var y1 = (fig.canvas.height - msg['y1']) / fig.ratio;\n    x0 = Math.floor(x0) + 0.5;\n    y0 = Math.floor(y0) + 0.5;\n    x1 = Math.floor(x1) + 0.5;\n    y1 = Math.floor(y1) + 0.5;\n    var min_x = Math.min(x0, x1);\n    var min_y = Math.min(y0, y1);\n    var width = Math.abs(x1 - x0);\n    var height = Math.abs(y1 - y0);\n\n    fig.rubberband_context.clearRect(\n        0,\n        0,\n        fig.canvas.width / fig.ratio,\n        fig.canvas.height / fig.ratio\n    );\n\n    fig.rubberband_context.strokeRect(min_x, min_y, width, height);\n};\n\nmpl.figure.prototype.handle_figure_label = function (fig, msg) {\n    // Updates the figure title.\n    fig.header.textContent = msg['label'];\n};\n\nmpl.figure.prototype.handle_cursor = function (fig, msg) {\n    fig.canvas_div.style.cursor = msg['cursor'];\n};\n\nmpl.figure.prototype.handle_message = function (fig, msg) {\n    fig.message.textContent = msg['message'];\n};\n\nmpl.figure.prototype.handle_draw = function (fig, _msg) {\n    // Request the server to send over a new figure.\n    fig.send_draw_message();\n};\n\nmpl.figure.prototype.handle_image_mode = function (fig, msg) {\n    fig.image_mode = msg['mode'];\n};\n\nmpl.figure.prototype.handle_history_buttons = function (fig, msg) {\n    for (var key in msg) {\n        if (!(key in fig.buttons)) {\n            continue;\n        }\n        fig.buttons[key].disabled = !msg[key];\n        fig.buttons[key].setAttribute('aria-disabled', !msg[key]);\n    }\n};\n\nmpl.figure.prototype.handle_navigate_mode = function (fig, msg) {\n    if (msg['mode'] === 'PAN') {\n        fig.buttons['Pan'].classList.add('active');\n        fig.buttons['Zoom'].classList.remove('active');\n    } else if (msg['mode'] === 'ZOOM') {\n        fig.buttons['Pan'].classList.remove('active');\n        fig.buttons['Zoom'].classList.add('active');\n    } else {\n        fig.buttons['Pan'].classList.remove('active');\n        fig.buttons['Zoom'].classList.remove('active');\n    }\n};\n\nmpl.figure.prototype.updated_canvas_event = function () {\n    // Called whenever the canvas gets updated.\n    this.send_message('ack', {});\n};\n\n// A function to construct a web socket function for onmessage handling.\n// Called in the figure constructor.\nmpl.figure.prototype._make_on_message_function = function (fig) {\n    return function socket_on_message(evt) {\n        if (evt.data instanceof Blob) {\n            var img = evt.data;\n            if (img.type !== 'image/png') {\n                /* FIXME: We get \"Resource interpreted as Image but\n                 * transferred with MIME type text/plain:\" errors on\n                 * Chrome.  But how to set the MIME type?  It doesn't seem\n                 * to be part of the websocket stream */\n                img.type = 'image/png';\n            }\n\n            /* Free the memory for the previous frames */\n            if (fig.imageObj.src) {\n                (window.URL || window.webkitURL).revokeObjectURL(\n                    fig.imageObj.src\n                );\n            }\n\n            fig.imageObj.src = (window.URL || window.webkitURL).createObjectURL(\n                img\n            );\n            fig.updated_canvas_event();\n            fig.waiting = false;\n            return;\n        } else if (\n            typeof evt.data === 'string' &&\n            evt.data.slice(0, 21) === 'data:image/png;base64'\n        ) {\n            fig.imageObj.src = evt.data;\n            fig.updated_canvas_event();\n            fig.waiting = false;\n            return;\n        }\n\n        var msg = JSON.parse(evt.data);\n        var msg_type = msg['type'];\n\n        // Call the  \"handle_{type}\" callback, which takes\n        // the figure and JSON message as its only arguments.\n        try {\n            var callback = fig['handle_' + msg_type];\n        } catch (e) {\n            console.log(\n                \"No handler for the '\" + msg_type + \"' message type: \",\n                msg\n            );\n            return;\n        }\n\n        if (callback) {\n            try {\n                // console.log(\"Handling '\" + msg_type + \"' message: \", msg);\n                callback(fig, msg);\n            } catch (e) {\n                console.log(\n                    \"Exception inside the 'handler_\" + msg_type + \"' callback:\",\n                    e,\n                    e.stack,\n                    msg\n                );\n            }\n        }\n    };\n};\n\nfunction getModifiers(event) {\n    var mods = [];\n    if (event.ctrlKey) {\n        mods.push('ctrl');\n    }\n    if (event.altKey) {\n        mods.push('alt');\n    }\n    if (event.shiftKey) {\n        mods.push('shift');\n    }\n    if (event.metaKey) {\n        mods.push('meta');\n    }\n    return mods;\n}\n\n/*\n * return a copy of an object with only non-object keys\n * we need this to avoid circular references\n * https://stackoverflow.com/a/24161582/3208463\n */\nfunction simpleKeys(original) {\n    return Object.keys(original).reduce(function (obj, key) {\n        if (typeof original[key] !== 'object') {\n            obj[key] = original[key];\n        }\n        return obj;\n    }, {});\n}\n\nmpl.figure.prototype.mouse_event = function (event, name) {\n    if (name === 'button_press') {\n        this.canvas.focus();\n        this.canvas_div.focus();\n    }\n\n    // from https://stackoverflow.com/q/1114465\n    var boundingRect = this.canvas.getBoundingClientRect();\n    var x = (event.clientX - boundingRect.left) * this.ratio;\n    var y = (event.clientY - boundingRect.top) * this.ratio;\n\n    this.send_message(name, {\n        x: x,\n        y: y,\n        button: event.button,\n        step: event.step,\n        modifiers: getModifiers(event),\n        guiEvent: simpleKeys(event),\n    });\n\n    return false;\n};\n\nmpl.figure.prototype._key_event_extra = function (_event, _name) {\n    // Handle any extra behaviour associated with a key event\n};\n\nmpl.figure.prototype.key_event = function (event, name) {\n    // Prevent repeat events\n    if (name === 'key_press') {\n        if (event.key === this._key) {\n            return;\n        } else {\n            this._key = event.key;\n        }\n    }\n    if (name === 'key_release') {\n        this._key = null;\n    }\n\n    var value = '';\n    if (event.ctrlKey && event.key !== 'Control') {\n        value += 'ctrl+';\n    }\n    else if (event.altKey && event.key !== 'Alt') {\n        value += 'alt+';\n    }\n    else if (event.shiftKey && event.key !== 'Shift') {\n        value += 'shift+';\n    }\n\n    value += 'k' + event.key;\n\n    this._key_event_extra(event, name);\n\n    this.send_message(name, { key: value, guiEvent: simpleKeys(event) });\n    return false;\n};\n\nmpl.figure.prototype.toolbar_button_onclick = function (name) {\n    if (name === 'download') {\n        this.handle_save(this, null);\n    } else {\n        this.send_message('toolbar_button', { name: name });\n    }\n};\n\nmpl.figure.prototype.toolbar_button_onmouseover = function (tooltip) {\n    this.message.textContent = tooltip;\n};\n\n///////////////// REMAINING CONTENT GENERATED BY embed_js.py /////////////////\n// prettier-ignore\nvar _JSXTOOLS_RESIZE_OBSERVER=function(A){var t,i=new WeakMap,n=new WeakMap,a=new WeakMap,r=new WeakMap,o=new Set;function s(e){if(!(this instanceof s))throw new TypeError(\"Constructor requires 'new' operator\");i.set(this,e)}function h(){throw new TypeError(\"Function is not a constructor\")}function c(e,t,i,n){e=0 in arguments?Number(arguments[0]):0,t=1 in arguments?Number(arguments[1]):0,i=2 in arguments?Number(arguments[2]):0,n=3 in arguments?Number(arguments[3]):0,this.right=(this.x=this.left=e)+(this.width=i),this.bottom=(this.y=this.top=t)+(this.height=n),Object.freeze(this)}function d(){t=requestAnimationFrame(d);var s=new WeakMap,p=new Set;o.forEach((function(t){r.get(t).forEach((function(i){var r=t instanceof window.SVGElement,o=a.get(t),d=r?0:parseFloat(o.paddingTop),f=r?0:parseFloat(o.paddingRight),l=r?0:parseFloat(o.paddingBottom),u=r?0:parseFloat(o.paddingLeft),g=r?0:parseFloat(o.borderTopWidth),m=r?0:parseFloat(o.borderRightWidth),w=r?0:parseFloat(o.borderBottomWidth),b=u+f,F=d+l,v=(r?0:parseFloat(o.borderLeftWidth))+m,W=g+w,y=r?0:t.offsetHeight-W-t.clientHeight,E=r?0:t.offsetWidth-v-t.clientWidth,R=b+v,z=F+W,M=r?t.width:parseFloat(o.width)-R-E,O=r?t.height:parseFloat(o.height)-z-y;if(n.has(t)){var k=n.get(t);if(k[0]===M&&k[1]===O)return}n.set(t,[M,O]);var S=Object.create(h.prototype);S.target=t,S.contentRect=new c(u,d,M,O),s.has(i)||(s.set(i,[]),p.add(i)),s.get(i).push(S)}))})),p.forEach((function(e){i.get(e).call(e,s.get(e),e)}))}return s.prototype.observe=function(i){if(i instanceof window.Element){r.has(i)||(r.set(i,new Set),o.add(i),a.set(i,window.getComputedStyle(i)));var n=r.get(i);n.has(this)||n.add(this),cancelAnimationFrame(t),t=requestAnimationFrame(d)}},s.prototype.unobserve=function(i){if(i instanceof window.Element&&r.has(i)){var n=r.get(i);n.has(this)&&(n.delete(this),n.size||(r.delete(i),o.delete(i))),n.size||r.delete(i),o.size||cancelAnimationFrame(t)}},A.DOMRectReadOnly=c,A.ResizeObserver=s,A.ResizeObserverEntry=h,A}; // eslint-disable-line\nmpl.toolbar_items = [[\"Home\", \"Reset original view\", \"fa fa-home\", \"home\"], [\"Back\", \"Back to previous view\", \"fa fa-arrow-left\", \"back\"], [\"Forward\", \"Forward to next view\", \"fa fa-arrow-right\", \"forward\"], [\"\", \"\", \"\", \"\"], [\"Pan\", \"Left button pans, Right button zooms\\nx/y fixes axis, CTRL fixes aspect\", \"fa fa-arrows\", \"pan\"], [\"Zoom\", \"Zoom to rectangle\\nx/y fixes axis\", \"fa fa-square-o\", \"zoom\"], [\"\", \"\", \"\", \"\"], [\"Download\", \"Download plot\", \"fa fa-floppy-o\", \"download\"]];\n\nmpl.extensions = [\"eps\", \"jpeg\", \"pgf\", \"pdf\", \"png\", \"ps\", \"raw\", \"svg\", \"tif\", \"webp\"];\n\nmpl.default_extension = \"png\";/* global mpl */\n\nvar comm_websocket_adapter = function (comm) {\n    // Create a \"websocket\"-like object which calls the given IPython comm\n    // object with the appropriate methods. Currently this is a non binary\n    // socket, so there is still some room for performance tuning.\n    var ws = {};\n\n    ws.binaryType = comm.kernel.ws.binaryType;\n    ws.readyState = comm.kernel.ws.readyState;\n    function updateReadyState(_event) {\n        if (comm.kernel.ws) {\n            ws.readyState = comm.kernel.ws.readyState;\n        } else {\n            ws.readyState = 3; // Closed state.\n        }\n    }\n    comm.kernel.ws.addEventListener('open', updateReadyState);\n    comm.kernel.ws.addEventListener('close', updateReadyState);\n    comm.kernel.ws.addEventListener('error', updateReadyState);\n\n    ws.close = function () {\n        comm.close();\n    };\n    ws.send = function (m) {\n        //console.log('sending', m);\n        comm.send(m);\n    };\n    // Register the callback with on_msg.\n    comm.on_msg(function (msg) {\n        //console.log('receiving', msg['content']['data'], msg);\n        var data = msg['content']['data'];\n        if (data['blob'] !== undefined) {\n            data = {\n                data: new Blob(msg['buffers'], { type: data['blob'] }),\n            };\n        }\n        // Pass the mpl event to the overridden (by mpl) onmessage function.\n        ws.onmessage(data);\n    });\n    return ws;\n};\n\nmpl.mpl_figure_comm = function (comm, msg) {\n    // This is the function which gets called when the mpl process\n    // starts-up an IPython Comm through the \"matplotlib\" channel.\n\n    var id = msg.content.data.id;\n    // Get hold of the div created by the display call when the Comm\n    // socket was opened in Python.\n    var element = document.getElementById(id);\n    var ws_proxy = comm_websocket_adapter(comm);\n\n    function ondownload(figure, _format) {\n        window.open(figure.canvas.toDataURL());\n    }\n\n    var fig = new mpl.figure(id, ws_proxy, ondownload, element);\n\n    // Call onopen now - mpl needs it, as it is assuming we've passed it a real\n    // web socket which is closed, not our websocket->open comm proxy.\n    ws_proxy.onopen();\n\n    fig.parent_element = element;\n    fig.cell_info = mpl.find_output_cell(\"<div id='\" + id + \"'></div>\");\n    if (!fig.cell_info) {\n        console.error('Failed to find cell for figure', id, fig);\n        return;\n    }\n    fig.cell_info[0].output_area.element.on(\n        'cleared',\n        { fig: fig },\n        fig._remove_fig_handler\n    );\n};\n\nmpl.figure.prototype.handle_close = function (fig, msg) {\n    var width = fig.canvas.width / fig.ratio;\n    fig.cell_info[0].output_area.element.off(\n        'cleared',\n        fig._remove_fig_handler\n    );\n    fig.resizeObserverInstance.unobserve(fig.canvas_div);\n\n    // Update the output cell to use the data from the current canvas.\n    fig.push_to_output();\n    var dataURL = fig.canvas.toDataURL();\n    // Re-enable the keyboard manager in IPython - without this line, in FF,\n    // the notebook keyboard shortcuts fail.\n    IPython.keyboard_manager.enable();\n    fig.parent_element.innerHTML =\n        '<img src=\"' + dataURL + '\" width=\"' + width + '\">';\n    fig.close_ws(fig, msg);\n};\n\nmpl.figure.prototype.close_ws = function (fig, msg) {\n    fig.send_message('closing', msg);\n    // fig.ws.close()\n};\n\nmpl.figure.prototype.push_to_output = function (_remove_interactive) {\n    // Turn the data on the canvas into data in the output cell.\n    var width = this.canvas.width / this.ratio;\n    var dataURL = this.canvas.toDataURL();\n    this.cell_info[1]['text/html'] =\n        '<img src=\"' + dataURL + '\" width=\"' + width + '\">';\n};\n\nmpl.figure.prototype.updated_canvas_event = function () {\n    // Tell IPython that the notebook contents must change.\n    IPython.notebook.set_dirty(true);\n    this.send_message('ack', {});\n    var fig = this;\n    // Wait a second, then push the new image to the DOM so\n    // that it is saved nicely (might be nice to debounce this).\n    setTimeout(function () {\n        fig.push_to_output();\n    }, 1000);\n};\n\nmpl.figure.prototype._init_toolbar = function () {\n    var fig = this;\n\n    var toolbar = document.createElement('div');\n    toolbar.classList = 'btn-toolbar';\n    this.root.appendChild(toolbar);\n\n    function on_click_closure(name) {\n        return function (_event) {\n            return fig.toolbar_button_onclick(name);\n        };\n    }\n\n    function on_mouseover_closure(tooltip) {\n        return function (event) {\n            if (!event.currentTarget.disabled) {\n                return fig.toolbar_button_onmouseover(tooltip);\n            }\n        };\n    }\n\n    fig.buttons = {};\n    var buttonGroup = document.createElement('div');\n    buttonGroup.classList = 'btn-group';\n    var button;\n    for (var toolbar_ind in mpl.toolbar_items) {\n        var name = mpl.toolbar_items[toolbar_ind][0];\n        var tooltip = mpl.toolbar_items[toolbar_ind][1];\n        var image = mpl.toolbar_items[toolbar_ind][2];\n        var method_name = mpl.toolbar_items[toolbar_ind][3];\n\n        if (!name) {\n            /* Instead of a spacer, we start a new button group. */\n            if (buttonGroup.hasChildNodes()) {\n                toolbar.appendChild(buttonGroup);\n            }\n            buttonGroup = document.createElement('div');\n            buttonGroup.classList = 'btn-group';\n            continue;\n        }\n\n        button = fig.buttons[name] = document.createElement('button');\n        button.classList = 'btn btn-default';\n        button.href = '#';\n        button.title = name;\n        button.innerHTML = '<i class=\"fa ' + image + ' fa-lg\"></i>';\n        button.addEventListener('click', on_click_closure(method_name));\n        button.addEventListener('mouseover', on_mouseover_closure(tooltip));\n        buttonGroup.appendChild(button);\n    }\n\n    if (buttonGroup.hasChildNodes()) {\n        toolbar.appendChild(buttonGroup);\n    }\n\n    // Add the status bar.\n    var status_bar = document.createElement('span');\n    status_bar.classList = 'mpl-message pull-right';\n    toolbar.appendChild(status_bar);\n    this.message = status_bar;\n\n    // Add the close button to the window.\n    var buttongrp = document.createElement('div');\n    buttongrp.classList = 'btn-group inline pull-right';\n    button = document.createElement('button');\n    button.classList = 'btn btn-mini btn-primary';\n    button.href = '#';\n    button.title = 'Stop Interaction';\n    button.innerHTML = '<i class=\"fa fa-power-off icon-remove icon-large\"></i>';\n    button.addEventListener('click', function (_evt) {\n        fig.handle_close(fig, {});\n    });\n    button.addEventListener(\n        'mouseover',\n        on_mouseover_closure('Stop Interaction')\n    );\n    buttongrp.appendChild(button);\n    var titlebar = this.root.querySelector('.ui-dialog-titlebar');\n    titlebar.insertBefore(buttongrp, titlebar.firstChild);\n};\n\nmpl.figure.prototype._remove_fig_handler = function (event) {\n    var fig = event.data.fig;\n    if (event.target !== this) {\n        // Ignore bubbled events from children.\n        return;\n    }\n    fig.close_ws(fig, {});\n};\n\nmpl.figure.prototype._root_extra_style = function (el) {\n    el.style.boxSizing = 'content-box'; // override notebook setting of border-box.\n};\n\nmpl.figure.prototype._canvas_extra_style = function (el) {\n    // this is important to make the div 'focusable\n    el.setAttribute('tabindex', 0);\n    // reach out to IPython and tell the keyboard manager to turn it's self\n    // off when our div gets focus\n\n    // location in version 3\n    if (IPython.notebook.keyboard_manager) {\n        IPython.notebook.keyboard_manager.register_events(el);\n    } else {\n        // location in version 2\n        IPython.keyboard_manager.register_events(el);\n    }\n};\n\nmpl.figure.prototype._key_event_extra = function (event, _name) {\n    // Check for shift+enter\n    if (event.shiftKey && event.which === 13) {\n        this.canvas_div.blur();\n        // select the cell after this one\n        var index = IPython.notebook.find_cell_index(this.cell_info[0]);\n        IPython.notebook.select(index + 1);\n    }\n};\n\nmpl.figure.prototype.handle_save = function (fig, _msg) {\n    fig.ondownload(fig, null);\n};\n\nmpl.find_output_cell = function (html_output) {\n    // Return the cell and output element which can be found *uniquely* in the notebook.\n    // Note - this is a bit hacky, but it is done because the \"notebook_saving.Notebook\"\n    // IPython event is triggered only after the cells have been serialised, which for\n    // our purposes (turning an active figure into a static one), is too late.\n    var cells = IPython.notebook.get_cells();\n    var ncells = cells.length;\n    for (var i = 0; i < ncells; i++) {\n        var cell = cells[i];\n        if (cell.cell_type === 'code') {\n            for (var j = 0; j < cell.output_area.outputs.length; j++) {\n                var data = cell.output_area.outputs[j];\n                if (data.data) {\n                    // IPython >= 3 moved mimebundle to data attribute of output\n                    data = data.data;\n                }\n                if (data['text/html'] === html_output) {\n                    return [cell, data, j];\n                }\n            }\n        }\n    }\n};\n\n// Register the function which deals with the matplotlib target/channel.\n// The kernel may be null if the page has been refreshed.\nif (IPython.notebook.kernel !== null) {\n    IPython.notebook.kernel.comm_manager.register_target(\n        'matplotlib',\n        mpl.mpl_figure_comm\n    );\n}\n",
      "text/plain": [
       "<IPython.core.display.Javascript object>"
      ]
     },
     "metadata": {},
     "output_type": "display_data"
    },
    {
     "data": {
      "text/html": [
       "<div id='28aacf43-6922-4257-94a0-d8a685a9ab6a'></div>"
      ],
      "text/plain": [
       "<IPython.core.display.HTML object>"
      ]
     },
     "metadata": {},
     "output_type": "display_data"
    }
   ],
   "source": [
    "pts1 = np.array([kp[0][m.queryIdx].pt for m in matches[(0,1)]]).T\n",
    "pts2 = np.array([kp[1][m.trainIdx].pt for m in matches[(0,1)]]).T\n",
    "\n",
    "fig, ax = plt.subplots(1, 2)\n",
    "ax[0].autoscale_view('tight')\n",
    "ax[0].imshow(cv2.cvtColor(images[0], cv2.COLOR_BGR2RGB))\n",
    "ax[0].plot(pts1[0], pts1[1], 'r.')\n",
    "ax[1].autoscale_view('tight')\n",
    "ax[1].imshow(cv2.cvtColor(images[1], cv2.COLOR_BGR2RGB))\n",
    "ax[1].plot(pts2[0], pts2[1], 'r.')\n",
    "fig.show()"
   ]
  },
  {
   "cell_type": "code",
   "execution_count": 115,
   "metadata": {},
   "outputs": [],
   "source": [
    "# Fundamental Matrix\n",
    "\n",
    "def normalize_points(pts):\n",
    "    centroid = np.mean(pts, axis=0)\n",
    "    pts = pts-centroid\n",
    "    scale=np.sqrt(2)/np.mean(np.sqrt(np.sum(pts**2, axis=1)))\n",
    "    pts = pts * scale\n",
    "    T = np.array([[scale, 0, -scale*centroid[0]], [0, scale, -scale*centroid[1]], [0, 0, 1]])\n",
    "    return pts, T\n",
    "\n",
    "def eight_point_algorithm(pts1, pts2):\n",
    "    # Normalize the points\n",
    "    pts1, T1 = normalize_points(pts1)\n",
    "    pts2, T2 = normalize_points(pts2)\n",
    "\n",
    "    # Create constraint matrix A (Af=0), each A element is [(xi, xi),(xi)\n",
    "    A = np.zeros((len(pts1), 9))\n",
    "    for i in range(len(pts1)):\n",
    "        A[i] = [pts1[i,0]*pts2[i,0], pts1[i,1]*pts2[i,0], 1*pts2[i,0],\n",
    "                pts1[i,0]*pts2[i,1], pts1[i,1]*pts2[i,1], 1*pts2[i,1],\n",
    "                pts1[i,0]*1,            pts1[i,1]*2,         1*1]\n",
    "    \n",
    "    # f is equal to last column of V from svd of A\n",
    "    _, _, V = np.linalg.svd(A)\n",
    "    F = np.reshape(V[-1], (3, 3))\n",
    "\n",
    "    # Enforce rank 2 constraint F=U * diag(S) * V.T\n",
    "    U, S, V = np.linalg.svd(F)\n",
    "    S[-1] = 0\n",
    "    F = U @ np.diag(S) @ V.T\n",
    "\n",
    "    return F\n",
    "\n",
    "fundamental_matrices = []\n",
    "for i in range(len(kp) - 1):\n",
    "    pts1 = np.array([kp[i][m.queryIdx].pt for m in matches[(i,i+1)]])\n",
    "    pts2 = np.array([kp[i+1][m.trainIdx].pt for m in matches[(i,i+1)]])\n",
    "    F = eight_point_algorithm(pts1, pts2)\n",
    "    fundamental_matrices.append(F)\n",
    "fundamental_matrices = np.array(fundamental_matrices) # fundamental_matrices.shape = n_images-1[skipped first image] x (3x3 -> F matrix)"
   ]
  },
  {
   "cell_type": "code",
   "execution_count": 116,
   "metadata": {},
   "outputs": [],
   "source": [
    "# Essential matrix\n",
    "def essential_from_fundamental(K, F):\n",
    "    return K.T @ F @ K\n",
    "\n",
    "essential_matrices = []\n",
    "for F in fundamental_matrices:\n",
    "    E = essential_from_fundamental(K, F)\n",
    "    essential_matrices.append(E)\n",
    "essential_matrices = np.array(essential_matrices) # essential_matrices.shape = n_images-1[skipping first image] x (3x3 -> E matrix)"
   ]
  },
  {
   "cell_type": "code",
   "execution_count": 117,
   "metadata": {},
   "outputs": [],
   "source": [
    "# First camera initializes at world center aligned\n",
    "Ps = np.zeros((images.shape[0], 3, 4))\n",
    "Ps[0] = K @ np.hstack((np.identity(3), np.zeros(3)[:, np.newaxis]))"
   ]
  },
  {
   "cell_type": "code",
   "execution_count": 118,
   "metadata": {},
   "outputs": [],
   "source": [
    "# Get Rotation and Translation\n",
    "\n",
    "def get_rot_trans(E):\n",
    "    U,S,V = np.linalg.svd(E)\n",
    "    m = S[:2].mean()\n",
    "    E = U @ np.array([[m, 0, 0], [0, m, 0], [0, 0, 0]]) @ V\n",
    "    U,S,V = np.linalg.svd(E)\n",
    "    W = np.array([[0,-1,0],[1,0,0],[0,0,1]])\n",
    "\n",
    "    RTs = np.zeros([3, 4, 4])\n",
    "    RTs[:, :, 0] = np.concatenate([U @ W @ V, U[:, 2].reshape([-1, 1]) / abs(U[:, 2]).max()], axis=1)\n",
    "    RTs[:, :, 1] = np.concatenate([U @ W @ V, -U[:, 2].reshape([-1, 1]) / abs(U[:, 2]).max()], axis=1)\n",
    "    RTs[:, :, 2] = np.concatenate([U @ W.T @ V, U[:, 2].reshape([-1, 1]) / abs(U[:, 2]).max()], axis=1)\n",
    "    RTs[:, :, 3] = np.concatenate([U @ W.T @ V, -U[:, 2].reshape([-1, 1]) / abs(U[:, 2]).max()], axis=1)\n",
    "    return RTs\n",
    "\n",
    "rot_trans_list = []\n",
    "for E in essential_matrices:\n",
    "    RTs = get_rot_trans(E)\n",
    "    rot_trans_list.append(RTs)\n",
    "rot_trans_list = np.array(rot_trans_list) # rot_trans_list.shape = n_images - 1 x (3x4 -> [R|t]) x 4 possibilities"
   ]
  },
  {
   "cell_type": "code",
   "execution_count": 119,
   "metadata": {},
   "outputs": [],
   "source": [
    "# Choose matrix that has all points in front and minimizes reprojection loss\n",
    "\n",
    "def triangulate(pts1, pts2, P1, P2):\n",
    "    # Calculate 3D point\n",
    "    pts4D = np.zeros((4, pts1.shape[1]))\n",
    "    pts4D = cv2.triangulatePoints(P1, P2, pts1, pts2, pts4D)\n",
    "    pts4D /= pts4D[-1, :]\n",
    "\n",
    "    # Calculate reprojection error\n",
    "    # First, get reprojections\n",
    "    pts1_reproj = P1 @ pts4D\n",
    "    pts2_reproj = P2 @ pts4D\n",
    "\n",
    "    pts1_reproj /= pts1_reproj[-1, :]\n",
    "    pts2_reproj /= pts2_reproj[-1, :]\n",
    "\n",
    "    # Second, homogenize every point to compare with the reprojection\n",
    "    # pts1 (2xN)\n",
    "    pts1_homo = np.concatenate((pts1, np.ones((1, pts1.shape[1]))), axis=0)\n",
    "    pts2_homo = np.concatenate((pts2, np.ones((1, pts2.shape[1]))), axis=0)\n",
    "\n",
    "    err1 = np.sum(np.square(pts1_reproj - pts1_homo))\n",
    "    err2 = np.sum(np.square(pts2_reproj - pts2_homo))\n",
    "\n",
    "    err = err1 + err2\n",
    "    return pts4D[:3, :], err\n",
    "\n",
    "for i in range(rot_trans_list.shape[0]):\n",
    "    RT = rot_trans_list[i]\n",
    "    best_RT = np.zeros((3, 4))\n",
    "    best_error = np.finfo('float').max\n",
    "    for j in range(RTs.shape[2]):\n",
    "        RT = RTs[:, :, j]\n",
    "        P2_tmp = K @ RT\n",
    "        pts1 = np.array([kp[i][m.queryIdx].pt for m in matches[(i, i+1)]]).astype('float').T\n",
    "        pts2 = np.array([kp[i+1][m.trainIdx].pt for m in matches[(i, i+1)]]).astype('float').T\n",
    "        X, err = triangulate(pts1, pts2, Ps[i], P2_tmp)\n",
    "        if err < best_error and np.all(X[-1, :] >= 0):\n",
    "            best_error = err\n",
    "            P = X\n",
    "            Ps[i+1] = P2_tmp\n",
    "            best_RT = RT\n",
    "\n",
    "Ps = np.array(Ps) # Ps.shape = n_images x (3x4 -> Projection Matrix)"
   ]
  },
  {
   "cell_type": "code",
   "execution_count": 120,
   "metadata": {},
   "outputs": [],
   "source": [
    "# Calculate 3D points\n",
    "tripoints3d = []\n",
    "correspondences = {}  # Dictionary to store corresponding 2D points for each 3D point\n",
    "for i in range(images.shape[0]):\n",
    "    for j in range(i+1, images.shape[0]):\n",
    "        if len(matches[(i,j)]) > 0:\n",
    "            pts1 = np.array([kp[i][m.queryIdx].pt for m in matches[(i,j)]]).astype('float').T\n",
    "            pts2 = np.array([kp[j][m.trainIdx].pt for m in matches[(i,j)]]).astype('float').T\n",
    "            P, _ = triangulate(pts1, pts2, Ps[i], Ps[j])\n",
    "            tripoints3d = [*tripoints3d, *(P.T)]\n",
    "            for k in range(P.shape[1]):\n",
    "                point_3d = tuple(P[:, k])\n",
    "                if point_3d not in correspondences:\n",
    "                    correspondences[point_3d] = []\n",
    "                correspondences[point_3d].append((i, tuple(pts1[:, k])))  # Add correspondence for image i\n",
    "                correspondences[point_3d].append((j, tuple(pts2[:, k])))  # Add correspondence for image j\n",
    "tripoints3d = np.array(tripoints3d).T"
   ]
  },
  {
   "cell_type": "code",
   "execution_count": 121,
   "metadata": {},
   "outputs": [
    {
     "data": {
      "application/vnd.plotly.v1+json": {
       "config": {
        "plotlyServerURL": "https://plot.ly"
       },
       "data": [
        {
         "marker": {
          "color": [
           0.5043783137825898,
           0.505310775248512,
           0.5019961394273762,
           0.4951462935605041,
           0.5026208937510726,
           0.5035648787418062,
           0.4944244289878105,
           0.5032542991264538,
           0.5063415936617817,
           0.5104959821396773,
           0.5104959821396773,
           0.49679935654935065,
           0.4951819638994828,
           0.5045430255425134,
           0.4950635536206509,
           0.5010043297486945,
           0.5038882781178972,
           0.4905784698532293,
           0.49499829484002067,
           0.5008654325665325,
           0.513740362591132,
           0.5045798361786669,
           0.5005431069065023,
           0.5071954751660274,
           0.496632872438611,
           0.496632872438611,
           0.496632872438611,
           0.5042357571747902,
           0.49629251167014654,
           0.49629251167014654,
           0.5171701857409873,
           0.49855969032236214,
           0.5023815001525422,
           0.5149433977500548,
           0.5273396572923014,
           0.5115496286244863,
           0.49504622280253996,
           0.4967075993332936,
           0.5092004103821728,
           0.4917292472455295,
           0.5253165846490822,
           0.5370206825864668,
           0.5184545945052718,
           0.5483231174137898,
           0.5449139395953329,
           0.5355615178738594,
           0.525052237143568,
           0.525052237143568,
           0.5074277677685749,
           0.5340197630722333,
           0.5450033045471961,
           0.5037346262144708,
           0.533946548384078,
           0.533946548384078,
           0.5397417456409235,
           0.5397417456409235,
           0.5478347550563758,
           0.5430224840813147,
           0.5204709335178328,
           0.5337711241551449,
           0.5442521884713984,
           0.5354633749907428,
           0.5183727569175368,
           0.5403584469475298,
           0.550224049714114,
           0.550224049714114,
           0.5484787749127447,
           0.5567553647063859,
           0.5521255017177696,
           0.5521255017177696,
           0.5539155276858972,
           0.5502226184586365,
           0.5567501282338801,
           0.5522106363337247,
           0.55693513735391,
           0.5597441085665981,
           0.5458380274650192,
           0.5458380274650192,
           0.549980609991883,
           0.5514578041817259,
           0.5493988233877918,
           0.5475311974487467,
           0.5497455894370398,
           0.5414555372810199,
           0.5419918175531556,
           0.5436027252515526,
           0.5486078074927117,
           0.5560330589004093,
           0.5474685415788525,
           0.5474685415788525,
           0.5502576944815368,
           0.5511212514210563,
           0.5399134753511551,
           0.5466104347811162,
           0.5448931852046494,
           0.5448931852046494,
           0.5439028812567209,
           0.5458774461570032,
           0.5505862870048303,
           0.5338268602771838,
           0.5496292409785432,
           0.5403099130937812,
           0.5374217275155346,
           0.5374217275155346,
           0.5240000810553986,
           0.5240000810553986,
           0.5403077672644235,
           0.5537406942379187,
           0.5372605936718223,
           0.44781671134208023,
           0.5435184008086035,
           0.560582271308873,
           0.5555005642116795,
           0.43709414894904836,
           0.5376245396259892,
           0.5513893887246253,
           0.3994702445954403,
           0.3994702445954403,
           0.5522038870353215,
           0.44335784977898207,
           0.5543701984085568,
           0.401935452140802,
           0.4047667736783494,
           0.4047667736783494,
           0.4799013365433923,
           0.4799013365433923,
           0.5453924600893815,
           0.5399648178267095,
           0.5399648178267095,
           0.525730500442372,
           0.3899664230249721,
           0.3899664230249721,
           0.530838566590043,
           0.55330375939266,
           0.430584608385069,
           0.5540284639752027,
           0.5051952316001861,
           0.5224617075622497,
           0.5410059021808613,
           0.5016172555380849,
           0.3573527343158642,
           0.5441948432456157,
           0.5228887761601496,
           0.528291410361981,
           0.5073265118214276,
           0.4861544991400007,
           0.5357795396415949,
           0.42778587348495634,
           0.5451107223645532,
           0.5414420424600853,
           0.537932320006497,
           0.4980622256233965,
           0.4980622256233965,
           0.502411882643467,
           0.4820129377051871,
           0.49516335496033653,
           0.538093035743474,
           0.5059080552123016,
           0.34453755941733744,
           0.5196411906438166,
           0.48019690738251586,
           0.5349826695754014,
           0.4447125827822458,
           0.46786017018407,
           0.42883591179783653,
           0.42883591179783653,
           0.5244659200862465,
           0.498865858727502,
           0.5377268474449728,
           0.5220604342607837,
           0.4470453062955745,
           0.4963203894379433,
           0.5387355713521375,
           0.3270555881640313,
           0.3270555881640313,
           0.5031458275964702,
           0.5198597822478377,
           0.4990019514550391,
           0.33309669362470673,
           0.48032620152444494,
           0.33547886898862184,
           0.5045844636719581,
           0.5045844636719581,
           0.5205040407132027,
           0.48862260125581336,
           0.48862260125581336,
           0.494790170624253,
           0.5238825699883831,
           0.46258387400911083,
           0.46258387400911083,
           0.525055697556257,
           0.525055697556257,
           0.41644184080182434,
           0.5214570902862777,
           0.5160487178167302,
           0.37136011634920546,
           0.4354545916190261,
           0.46803234486714207,
           0.41179122243384314,
           0.30960923155101755,
           0.5051311142168402,
           0.5224421320468522,
           0.4061636940567581,
           0.3171111979799564,
           0.5065756035584386,
           0.5065756035584386,
           0.3134525826724162,
           0.3134525826724162,
           0.42216507592572394,
           0.31590613296377545,
           0.3338163712600295,
           0.46217887942781755,
           0.46217887942781755,
           0.42068451133589296,
           0.41506036007964475,
           0.3625111883192316,
           0.42229938957965346,
           0.42229938957965346,
           0.45319265809313464,
           0.39563128917432766,
           0.3544862193514005,
           0.4488308279837638,
           0.37016591924758413,
           0.42701631274117263,
           0.4318944692521892,
           0.4396350632989617,
           0.31807832645832956,
           0.44234942652907944,
           0.421151089321211,
           0.4247304558479944,
           0.4247304558479944,
           0.452484653385974,
           0.3448383116647771,
           0.4410491434718489,
           0.4410491434718489,
           0.45290424393539735,
           0.4353727126284683,
           0.4353727126284683,
           0.4461851965721046,
           0.3553342242416407,
           0.3553342242416407,
           0.4335919435106471,
           0.4335919435106471,
           0.3240518839433921,
           0.333178106344153,
           0.4417893256447847,
           0.35223705311859804,
           0.44769260153166096,
           0.45247094034348084,
           0.43559010671205933,
           0.33181408010909147,
           0.32319995227115783,
           0.43792484269676096,
           0.4502693617211623,
           0.35456781844327934,
           0.4459138162878915,
           0.4459138162878915,
           0.5305917914616589,
           0.3342721536168499,
           0.44097859526923194,
           0.35269619853089446,
           0.4531353136420976,
           0.35997135003917585,
           0.3337709014346105,
           0.34988999265666826,
           0.3690198399341671,
           0.36780503574734064,
           0.36780503574734064,
           0.34988651661282655,
           0.34988651661282655,
           0.3441332521310763,
           0.3441332521310763,
           0.3672458907702698,
           0.36318301580115275,
           0.45723912164116126,
           0.3600887364861932,
           0.3493733440547098,
           0.37498033991464713,
           0.34551717302370244,
           0.3698871704556767,
           0.45931709197040677,
           0.3747563991464177,
           0.3420037526353514,
           0.4638579956087273,
           0.3363651685908297,
           0.36822475232600305,
           0.3384754711722311,
           0.3432787538715878,
           0.34884105153967476,
           0.3536066234087817,
           0.36312654320558574,
           0.4672852834560188,
           0.3929130562605546,
           0.3577704564434074,
           0.3544861718590819,
           0.3755970230488531,
           0.3755970230488531,
           0.346312932673314,
           0.36220069583329967,
           0.3658293168323297,
           0.3658293168323297,
           0.3541076735892438,
           0.34199647178956993,
           0.35100336413972794,
           0.35775765144139415,
           0.3472471551770899,
           0.3472471551770899,
           0.5591821693955644,
           0.34654103920376755,
           0.3477347079937343,
           0.3577216678010667,
           0.5654763983549186,
           0.34995730421466703,
           0.34995730421466703,
           0.35185073810957407,
           0.3601017934468966,
           0.35803627825659234,
           0.354648227590926,
           0.354648227590926,
           0.3545102932039873,
           0.38214986064146983,
           0.3621096485317543,
           0.5657897113978121,
           0.35895337764430785,
           0.3626204379861561,
           0.5676242153211662,
           0.36796028913645407,
           0.5655780904654717,
           0.3689916376411959,
           0.38504853160171976,
           0.3743574920950705,
           0.3779318163467308,
           0.3771983628862394,
           0.37592462573492635,
           0.37525655380566114,
           0.39541534313487875,
           0.381715090117757,
           0.383560213121084,
           0.388931654767492,
           0.388931654767492,
           0.39059273915461545,
           0.4131639048072481,
           0.4103141658680184,
           0.3967616607647358,
           0.3965687398567135,
           0.3965687398567135,
           0.3986940087922861,
           0.3999739514619028,
           0.39968035692262316,
           0.40088648985916103,
           0.4035214303644907,
           0.41167888675195785,
           0.4137687914698427,
           0.4154967130213773
          ],
          "colorscale": [
           [
            0,
            "#440154"
           ],
           [
            0.1111111111111111,
            "#482878"
           ],
           [
            0.2222222222222222,
            "#3e4989"
           ],
           [
            0.3333333333333333,
            "#31688e"
           ],
           [
            0.4444444444444444,
            "#26828e"
           ],
           [
            0.5555555555555556,
            "#1f9e89"
           ],
           [
            0.6666666666666666,
            "#35b779"
           ],
           [
            0.7777777777777778,
            "#6ece58"
           ],
           [
            0.8888888888888888,
            "#b5de2b"
           ],
           [
            1,
            "#fde725"
           ]
          ],
          "size": 2
         },
         "mode": "markers",
         "type": "scatter3d",
         "x": [
          -0.15184182788963235,
          -0.1517659113243169,
          -0.1497762233540994,
          -0.14739498826768238,
          -0.14811603834090264,
          -0.14767869517794802,
          -0.14519106455176115,
          -0.14665775392666291,
          -0.14609045770714543,
          -0.14676956068484054,
          -0.14676956068484054,
          -0.1435636555177414,
          -0.14241765545007057,
          -0.14350141487374973,
          -0.14126799727587325,
          -0.1420268670275503,
          -0.14190624887007044,
          -0.13904365194139637,
          -0.13967126428733612,
          -0.14038662857548806,
          -0.14250154274323262,
          -0.14060237212401178,
          -0.13884281690712472,
          -0.14027143307849846,
          -0.1379187380698734,
          -0.1379187380698734,
          -0.1379187380698734,
          -0.13906424940358217,
          -0.13714068081169417,
          -0.13714068081169417,
          -0.14122999227925992,
          -0.13745358818096187,
          -0.13820451216276353,
          -0.1398462457218969,
          -0.14204096624759277,
          -0.1378473801704191,
          -0.13441687079003975,
          -0.13442993086623725,
          -0.13655017979291997,
          -0.13317942649607242,
          -0.13915481196940355,
          -0.1405899387411156,
          -0.13725772723839683,
          -0.14249988601183355,
          -0.14200215572703717,
          -0.14004858022279726,
          -0.1373247094659281,
          -0.1373247094659281,
          -0.13390914843115448,
          -0.13881504021757984,
          -0.14066576142240483,
          -0.1330721439177746,
          -0.1380435772704407,
          -0.1380435772704407,
          -0.13892284755953502,
          -0.13892284755953502,
          -0.13999119061140297,
          -0.13919835727269414,
          -0.1349688490359173,
          -0.13739737913957412,
          -0.13883606835704548,
          -0.137249402562044,
          -0.13412036576317451,
          -0.13768040916913604,
          -0.13893303811074748,
          -0.13893303811074748,
          -0.1385973155448506,
          -0.13949141275021995,
          -0.13780385613561275,
          -0.13780385613561275,
          -0.13823219934579048,
          -0.13695407854639347,
          -0.13779248461764454,
          -0.1368415510446719,
          -0.13738037118447177,
          -0.1375547876550929,
          -0.1351202009965064,
          -0.1351202009965064,
          -0.13517503881472545,
          -0.13506850838518303,
          -0.1342068163243696,
          -0.13337687074397186,
          -0.13351255544026813,
          -0.13184588185592297,
          -0.13118176086345762,
          -0.13112324055398691,
          -0.13186235981060745,
          -0.13258802494199246,
          -0.13125226830526524,
          -0.13125226830526524,
          -0.13059811989480047,
          -0.13019065466185084,
          -0.127963113354709,
          -0.12852772855469305,
          -0.12774644591517095,
          -0.12774644591517095,
          -0.12754304288398546,
          -0.12669779276577192,
          -0.1268804774429604,
          -0.12468201121191316,
          -0.12594483513337332,
          -0.1242819684809306,
          -0.1237674629704567,
          -0.1237674629704567,
          -0.12144209361296734,
          -0.12144209361296734,
          -0.12333161029707901,
          -0.12500815480356742,
          -0.12256447262614287,
          -0.10807899812008223,
          -0.12269740633693153,
          -0.12496775937772091,
          -0.1238978962109405,
          -0.10573946650420346,
          -0.12107126732304435,
          -0.12301242712735974,
          -0.09908729691745714,
          -0.09908729691745714,
          -0.12277280999700278,
          -0.1063090602076745,
          -0.123036676267636,
          -0.09936170193829996,
          -0.09978450041712901,
          -0.09978450041712901,
          -0.1122168398200636,
          -0.1122168398200636,
          -0.12106199281148404,
          -0.1201909584833094,
          -0.1201909584833094,
          -0.11813101119331813,
          -0.0969113328938336,
          -0.0969113328938336,
          -0.11859604303688047,
          -0.12099187847480823,
          -0.10328826428032636,
          -0.12044354608556321,
          -0.11415705735149156,
          -0.11632067465165588,
          -0.11833022563460098,
          -0.11375590580544458,
          -0.091240357976001,
          -0.11834184716942302,
          -0.11541647605959707,
          -0.11607751891638443,
          -0.11276932557911766,
          -0.10975637305198334,
          -0.11622983460121793,
          -0.10187898876774759,
          -0.11746407963654823,
          -0.11692088811203605,
          -0.11646682195492633,
          -0.11161055537749123,
          -0.11161055537749123,
          -0.1120449722148697,
          -0.10862924495081748,
          -0.11052415769175217,
          -0.11580138545310112,
          -0.11173993371747229,
          -0.08954932244704024,
          -0.11316739732564887,
          -0.10815455404813756,
          -0.1145586995717774,
          -0.10255228389665853,
          -0.10565326380485157,
          -0.10105161477310122,
          -0.10105161477310122,
          -0.11283908573915663,
          -0.10932942455905026,
          -0.11424757442708286,
          -0.11209525444981057,
          -0.10236858667211336,
          -0.1085671733475523,
          -0.11401286938904003,
          -0.08819732404243572,
          -0.08819732404243572,
          -0.10912869959836954,
          -0.11123632983438489,
          -0.108243789111215,
          -0.08914484441042862,
          -0.105263490187945,
          -0.08900655436392935,
          -0.10858172684107453,
          -0.10858172684107453,
          -0.11068686757816096,
          -0.10616109276989337,
          -0.10616109276989337,
          -0.10667768995638952,
          -0.11051968116750223,
          -0.10193518849513805,
          -0.10193518849513805,
          -0.1104795991002306,
          -0.1104795991002306,
          -0.09723995016559828,
          -0.10989477367623474,
          -0.10918550303170581,
          -0.09261122574023802,
          -0.09901803877336693,
          -0.10196002635890701,
          -0.09622480749344106,
          -0.08848981116611954,
          -0.10703145239562814,
          -0.10942420460707283,
          -0.09580144807185613,
          -0.08922948203124335,
          -0.10706091372547955,
          -0.10706091372547955,
          -0.08924543412000678,
          -0.08924543412000678,
          -0.09699357256826087,
          -0.08939530354429616,
          -0.09172182475689605,
          -0.10079362445111777,
          -0.10079362445111777,
          -0.09660867588781435,
          -0.09609092727263993,
          -0.0916261125699428,
          -0.09663231339298513,
          -0.09663231339298513,
          -0.09948601191067628,
          -0.09389141107854763,
          -0.09119660016154925,
          -0.09898977027303021,
          -0.09200982599468979,
          -0.09692887654432086,
          -0.09722402614805783,
          -0.0980835742719639,
          -0.09147151403397781,
          -0.0981560872076837,
          -0.09619125360775843,
          -0.0965639886442412,
          -0.0965639886442412,
          -0.09887220272589163,
          -0.09274828956371275,
          -0.09787719037895554,
          -0.09787719037895554,
          -0.09875605481006693,
          -0.0972338197911301,
          -0.0972338197911301,
          -0.09806104821412445,
          -0.09252484685640562,
          -0.09252484685640562,
          -0.09695350883249425,
          -0.09695350883249425,
          -0.09446187028437206,
          -0.09349099932395978,
          -0.09765990153472523,
          -0.09257837449351103,
          -0.09793063206999099,
          -0.09822787086011532,
          -0.09703927299493226,
          -0.0945623513747615,
          -0.09545718681009933,
          -0.09716305057432287,
          -0.09822601130682197,
          -0.0926669145155443,
          -0.09785138087041444,
          -0.09785138087041444,
          -0.10505858652292697,
          -0.09381261841023208,
          -0.09738932141465083,
          -0.09278762251800184,
          -0.0981984505369747,
          -0.09305234911870734,
          -0.09410094303945014,
          -0.09350332803632336,
          -0.09283541832240838,
          -0.09322843959718768,
          -0.09322843959718768,
          -0.09440279244536616,
          -0.09440279244536616,
          -0.09493090065154511,
          -0.09493090065154511,
          -0.09359594784336889,
          -0.09446147035961562,
          -0.09844583596827149,
          -0.09496414375624718,
          -0.09584511637566,
          -0.09476105435058559,
          -0.09659373450597636,
          -0.09557517535232521,
          -0.09841762448183572,
          -0.09529915307452075,
          -0.09774012482630924,
          -0.09855251133061878,
          -0.09956270412260732,
          -0.09694322085929032,
          -0.09942283910485424,
          -0.09904762301654275,
          -0.09789630950134177,
          -0.09790251566989389,
          -0.09766851768340272,
          -0.09877011614289645,
          -0.09585080824524093,
          -0.0987572607468854,
          -0.0991583950135565,
          -0.09845341107629241,
          -0.09845341107629241,
          -0.10101762499415842,
          -0.09981333537911449,
          -0.09958275170503963,
          -0.09958275170503963,
          -0.10079990377242536,
          -0.10415737041663684,
          -0.10118444775386363,
          -0.10200207304972851,
          -0.10449653131096127,
          -0.10449653131096127,
          -0.10245972148156313,
          -0.1034080227266428,
          -0.1065800113067333,
          -0.10403249640423534,
          -0.1012541057278196,
          -0.10826163407804086,
          -0.10826163407804086,
          -0.10562058143240502,
          -0.10444233051734668,
          -0.10489190810262496,
          -0.10852596093006457,
          -0.10852596093006457,
          -0.11056569853321019,
          -0.10414422099201841,
          -0.10595315052858678,
          -0.09960651622171685,
          -0.10848705005221301,
          -0.10855313695191733,
          -0.09888163976423782,
          -0.1155554787084055,
          -0.09840856049227213,
          -0.11497457632128079,
          -0.10808063299124082,
          -0.11709443971730085,
          -0.11892408404576216,
          -0.11774407198137031,
          -0.11663363000219575,
          -0.11515648287993586,
          -0.10903894456313633,
          -0.11409245259457393,
          -0.11584938307457462,
          -0.11892436085568374,
          -0.11892436085568374,
          -0.11550442801135716,
          -0.11079110665591625,
          -0.11083617730322319,
          -0.11867418460717599,
          -0.11521677462340404,
          -0.11521677462340404,
          -0.11930820643950699,
          -0.11860921600421297,
          -0.11655862896643507,
          -0.11506900099121899,
          -0.11869683063550715,
          -0.11604955675273174,
          -0.1166109387841708,
          -0.11634700643542971
         ],
         "y": [
          -0.10262402979007962,
          -0.10246703168363737,
          -0.10281394130271015,
          -0.1031241871309065,
          -0.10283344707875193,
          -0.10294877174354446,
          -0.10330101440704248,
          -0.10323697561301952,
          -0.10310820905760701,
          -0.10338716931038126,
          -0.10338716931038126,
          -0.10374761234339422,
          -0.10422512109387101,
          -0.10383979779646219,
          -0.10436691429514795,
          -0.10416665878141033,
          -0.1043172493271513,
          -0.10491641966290093,
          -0.1047151302323252,
          -0.10461076833894536,
          -0.10431276437524156,
          -0.1047546655075863,
          -0.10496011257276718,
          -0.10492473699241311,
          -0.10560357845107371,
          -0.10560357845107371,
          -0.10560357845107371,
          -0.1052338439376906,
          -0.10545567461083873,
          -0.10545567461083873,
          -0.10466993605364655,
          -0.1057202731339946,
          -0.10555016374834923,
          -0.1050851308643084,
          -0.10420066229720991,
          -0.10594763495039294,
          -0.10705478811950427,
          -0.10665478630473992,
          -0.10648088446207449,
          -0.10744493677716356,
          -0.10530827029610507,
          -0.10387997014341596,
          -0.10650241990921258,
          -0.10255230822701793,
          -0.10329573250056023,
          -0.104629029735162,
          -0.1062844484709801,
          -0.1062844484709801,
          -0.10761126587448666,
          -0.10515789563209149,
          -0.10343672590482024,
          -0.10836514025063927,
          -0.10550149462502476,
          -0.10550149462502476,
          -0.10462007629959094,
          -0.10462007629959094,
          -0.10327644406278803,
          -0.10456574276496478,
          -0.10716462241082138,
          -0.10588509312266067,
          -0.10431535687620136,
          -0.10575367871644024,
          -0.10762832690529993,
          -0.10540282281941843,
          -0.1035801138652254,
          -0.1035801138652254,
          -0.10458436356514537,
          -0.1030801285040024,
          -0.104080189438339,
          -0.104080189438339,
          -0.10396067607657763,
          -0.10450345993239277,
          -0.1033754855138498,
          -0.10463365119242296,
          -0.10395294860949778,
          -0.10292264229760362,
          -0.10597150666380321,
          -0.10597150666380321,
          -0.10567644069832284,
          -0.10576338141620105,
          -0.10630847135530326,
          -0.1069580988615319,
          -0.10652297822994337,
          -0.10907075890521091,
          -0.10878051686653586,
          -0.10862403430050202,
          -0.10769357809719315,
          -0.10612700305173685,
          -0.10849359295766609,
          -0.10849359295766609,
          -0.10868085651960484,
          -0.10851079300073331,
          -0.11179256112451974,
          -0.11018338386222978,
          -0.11032720015816591,
          -0.11032720015816591,
          -0.11075784827992187,
          -0.11127905688303222,
          -0.11094634619087039,
          -0.11488203548947588,
          -0.11159621329878192,
          -0.11334707328156705,
          -0.11425407438334255,
          -0.11425407438334255,
          -0.11733533010285219,
          -0.11733533010285219,
          -0.1144148373413611,
          -0.11165620153282607,
          -0.1158548692710463,
          -0.12177881740154309,
          -0.11451972918371109,
          -0.11105966344875393,
          -0.11233842459599641,
          -0.12234401382510506,
          -0.1160924269042003,
          -0.11349729280779483,
          -0.12076656426059036,
          -0.12076656426059036,
          -0.11343463738656262,
          -0.12295893481092145,
          -0.11335272121556351,
          -0.12132659199736798,
          -0.12147479996416363,
          -0.12147479996416363,
          -0.12282691062546311,
          -0.12282691062546311,
          -0.11533696304942499,
          -0.11693479712712505,
          -0.11693479712712505,
          -0.11908596713067494,
          -0.12164406600244579,
          -0.12164406600244579,
          -0.1185794005353017,
          -0.11475713672084693,
          -0.12493331636869169,
          -0.11564801825646603,
          -0.12364840988600753,
          -0.12161512457698129,
          -0.11807178197955358,
          -0.12470722467006659,
          -0.12096150659582929,
          -0.11778408236052941,
          -0.12180202765347885,
          -0.12103184742667034,
          -0.12377586343736992,
          -0.12567208231015983,
          -0.12020215805505766,
          -0.12759996307128843,
          -0.1186989018040035,
          -0.11940379025725761,
          -0.12004230981005158,
          -0.12598718970844486,
          -0.12598718970844486,
          -0.12596597691649555,
          -0.1268452356358009,
          -0.12651700568712987,
          -0.12068905465819484,
          -0.12557597700251352,
          -0.12259416126964905,
          -0.12393260368012293,
          -0.12797432599929814,
          -0.12210396556483327,
          -0.1290233548638338,
          -0.12862790342097738,
          -0.12981396354889407,
          -0.12981396354889407,
          -0.12401491314418546,
          -0.12726472364873975,
          -0.12241943023245791,
          -0.1247213387250807,
          -0.1297986877977607,
          -0.12771510096716948,
          -0.12259284105100947,
          -0.12368151665405394,
          -0.12368151665405394,
          -0.1273935607997055,
          -0.12578184494829184,
          -0.12811996901598854,
          -0.12538836587284877,
          -0.12964635494291352,
          -0.1255760536520915,
          -0.1281841729405666,
          -0.1281841729405666,
          -0.12653329352916065,
          -0.12957373257820626,
          -0.12957373257820626,
          -0.12950409533857465,
          -0.12669644706653033,
          -0.13104809698874897,
          -0.13104809698874897,
          -0.12686702347092055,
          -0.12686702347092055,
          -0.13231941654378074,
          -0.1275463193132852,
          -0.1282667809497649,
          -0.13042335174898084,
          -0.13268024373289067,
          -0.1315272988664094,
          -0.13271140469070836,
          -0.1256203257088808,
          -0.13014305228415626,
          -0.12843248926854242,
          -0.13314656406084002,
          -0.12706378513341235,
          -0.13035705070957573,
          -0.13035705070957573,
          -0.12702280640963945,
          -0.12702280640963945,
          -0.13373146420834722,
          -0.12753372303750468,
          -0.13045480288374137,
          -0.13347574628754091,
          -0.13347574628754091,
          -0.13426735028342196,
          -0.13439790866100979,
          -0.13235978750694388,
          -0.1348467549123251,
          -0.1348467549123251,
          -0.13437019773637757,
          -0.13420459055543488,
          -0.13217719448104429,
          -0.13484506722564954,
          -0.13345085415158361,
          -0.13542991546630062,
          -0.13531487772335782,
          -0.13542078108373806,
          -0.13034119592844623,
          -0.1357165129920443,
          -0.13597311136224838,
          -0.1360485625773535,
          -0.1360485625773535,
          -0.13612987453192982,
          -0.13431926162667046,
          -0.13686875066472134,
          -0.13686875066472134,
          -0.13672455203255215,
          -0.13755692608845344,
          -0.13755692608845344,
          -0.13793336396307299,
          -0.1358403824065225,
          -0.1358403824065225,
          -0.13817098670184302,
          -0.13817098670184302,
          -0.13445562324427143,
          -0.13495269955021508,
          -0.13826662961961386,
          -0.13621343048573584,
          -0.138270963426078,
          -0.13814657040278197,
          -0.13885080533797625,
          -0.1359402186699621,
          -0.13559183085137858,
          -0.13928106821485448,
          -0.13907589125095826,
          -0.13699704946475794,
          -0.13925055658020857,
          -0.13925055658020857,
          -0.13121049852389322,
          -0.13628027390802905,
          -0.139516591457398,
          -0.13732938315483129,
          -0.13951764588736304,
          -0.13832810006687277,
          -0.13695929854482222,
          -0.13809838601499758,
          -0.13888485598670572,
          -0.13973405786523269,
          -0.13973405786523269,
          -0.1396618371522761,
          -0.1396618371522761,
          -0.13951550472841823,
          -0.13951550472841823,
          -0.14043452292077996,
          -0.14082688041227423,
          -0.14231576586410669,
          -0.14148859798442012,
          -0.14135070622358462,
          -0.14289402992001227,
          -0.14193496684573706,
          -0.1432902809325743,
          -0.14344179874470575,
          -0.14346754786388044,
          -0.14245266474960555,
          -0.14411585004828126,
          -0.14319376575335596,
          -0.14515096371785194,
          -0.14363714023805854,
          -0.14403642277446552,
          -0.14417595620056417,
          -0.14473669423956992,
          -0.1456049881909917,
          -0.14519613064710943,
          -0.14684874648454455,
          -0.14644184627706675,
          -0.14639760350557743,
          -0.14794674862866025,
          -0.14794674862866025,
          -0.14689857648589874,
          -0.1481645128659607,
          -0.14843014372532673,
          -0.14843014372532673,
          -0.14808838911085548,
          -0.14809855189511784,
          -0.14804894231137222,
          -0.15007581463225741,
          -0.14994269367481516,
          -0.14994269367481516,
          -0.1341415151080823,
          -0.14955166398432865,
          -0.15144451789069735,
          -0.151901313037181,
          -0.13210555606291707,
          -0.1527473436459903,
          -0.1527473436459903,
          -0.15237733147157737,
          -0.15303548547912987,
          -0.15309569294100467,
          -0.1541748663275561,
          -0.1541748663275561,
          -0.15522849780590542,
          -0.15614070554174553,
          -0.15523636221100168,
          -0.13454699030432157,
          -0.15612370595076586,
          -0.1570054580870269,
          -0.13504807320687504,
          -0.1610878522537251,
          -0.1355559648384241,
          -0.16149027418876766,
          -0.16110686645217898,
          -0.1634855265886869,
          -0.1648472562127673,
          -0.16436344198384523,
          -0.16413451677375873,
          -0.16371301840192884,
          -0.1640010510809354,
          -0.16512000332085894,
          -0.16611717879317853,
          -0.16823982133107665,
          -0.16823982133107665,
          -0.16810080102558725,
          -0.16823994258375996,
          -0.1680492701269655,
          -0.1708572847775746,
          -0.16976627417621687,
          -0.16976627417621687,
          -0.171816189831113,
          -0.1720877271146628,
          -0.1713779608323238,
          -0.17096723790595866,
          -0.17333985105570093,
          -0.17444281690047572,
          -0.1753157264346505,
          -0.17541624205568604
         ],
         "z": [
          0.5043783137825898,
          0.505310775248512,
          0.5019961394273762,
          0.4951462935605041,
          0.5026208937510726,
          0.5035648787418062,
          0.4944244289878105,
          0.5032542991264538,
          0.5063415936617817,
          0.5104959821396773,
          0.5104959821396773,
          0.49679935654935065,
          0.4951819638994828,
          0.5045430255425134,
          0.4950635536206509,
          0.5010043297486945,
          0.5038882781178972,
          0.4905784698532293,
          0.49499829484002067,
          0.5008654325665325,
          0.513740362591132,
          0.5045798361786669,
          0.5005431069065023,
          0.5071954751660274,
          0.496632872438611,
          0.496632872438611,
          0.496632872438611,
          0.5042357571747902,
          0.49629251167014654,
          0.49629251167014654,
          0.5171701857409873,
          0.49855969032236214,
          0.5023815001525422,
          0.5149433977500548,
          0.5273396572923014,
          0.5115496286244863,
          0.49504622280253996,
          0.4967075993332936,
          0.5092004103821728,
          0.4917292472455295,
          0.5253165846490822,
          0.5370206825864668,
          0.5184545945052718,
          0.5483231174137898,
          0.5449139395953329,
          0.5355615178738594,
          0.525052237143568,
          0.525052237143568,
          0.5074277677685749,
          0.5340197630722333,
          0.5450033045471961,
          0.5037346262144708,
          0.533946548384078,
          0.533946548384078,
          0.5397417456409235,
          0.5397417456409235,
          0.5478347550563758,
          0.5430224840813147,
          0.5204709335178328,
          0.5337711241551449,
          0.5442521884713984,
          0.5354633749907428,
          0.5183727569175368,
          0.5403584469475298,
          0.550224049714114,
          0.550224049714114,
          0.5484787749127447,
          0.5567553647063859,
          0.5521255017177696,
          0.5521255017177696,
          0.5539155276858972,
          0.5502226184586365,
          0.5567501282338801,
          0.5522106363337247,
          0.55693513735391,
          0.5597441085665981,
          0.5458380274650192,
          0.5458380274650192,
          0.549980609991883,
          0.5514578041817259,
          0.5493988233877918,
          0.5475311974487467,
          0.5497455894370398,
          0.5414555372810199,
          0.5419918175531556,
          0.5436027252515526,
          0.5486078074927117,
          0.5560330589004093,
          0.5474685415788525,
          0.5474685415788525,
          0.5502576944815368,
          0.5511212514210563,
          0.5399134753511551,
          0.5466104347811162,
          0.5448931852046494,
          0.5448931852046494,
          0.5439028812567209,
          0.5458774461570032,
          0.5505862870048303,
          0.5338268602771838,
          0.5496292409785432,
          0.5403099130937812,
          0.5374217275155346,
          0.5374217275155346,
          0.5240000810553986,
          0.5240000810553986,
          0.5403077672644235,
          0.5537406942379187,
          0.5372605936718223,
          0.44781671134208023,
          0.5435184008086035,
          0.560582271308873,
          0.5555005642116795,
          0.43709414894904836,
          0.5376245396259892,
          0.5513893887246253,
          0.3994702445954403,
          0.3994702445954403,
          0.5522038870353215,
          0.44335784977898207,
          0.5543701984085568,
          0.401935452140802,
          0.4047667736783494,
          0.4047667736783494,
          0.4799013365433923,
          0.4799013365433923,
          0.5453924600893815,
          0.5399648178267095,
          0.5399648178267095,
          0.525730500442372,
          0.3899664230249721,
          0.3899664230249721,
          0.530838566590043,
          0.55330375939266,
          0.430584608385069,
          0.5540284639752027,
          0.5051952316001861,
          0.5224617075622497,
          0.5410059021808613,
          0.5016172555380849,
          0.3573527343158642,
          0.5441948432456157,
          0.5228887761601496,
          0.528291410361981,
          0.5073265118214276,
          0.4861544991400007,
          0.5357795396415949,
          0.42778587348495634,
          0.5451107223645532,
          0.5414420424600853,
          0.537932320006497,
          0.4980622256233965,
          0.4980622256233965,
          0.502411882643467,
          0.4820129377051871,
          0.49516335496033653,
          0.538093035743474,
          0.5059080552123016,
          0.34453755941733744,
          0.5196411906438166,
          0.48019690738251586,
          0.5349826695754014,
          0.4447125827822458,
          0.46786017018407,
          0.42883591179783653,
          0.42883591179783653,
          0.5244659200862465,
          0.498865858727502,
          0.5377268474449728,
          0.5220604342607837,
          0.4470453062955745,
          0.4963203894379433,
          0.5387355713521375,
          0.3270555881640313,
          0.3270555881640313,
          0.5031458275964702,
          0.5198597822478377,
          0.4990019514550391,
          0.33309669362470673,
          0.48032620152444494,
          0.33547886898862184,
          0.5045844636719581,
          0.5045844636719581,
          0.5205040407132027,
          0.48862260125581336,
          0.48862260125581336,
          0.494790170624253,
          0.5238825699883831,
          0.46258387400911083,
          0.46258387400911083,
          0.525055697556257,
          0.525055697556257,
          0.41644184080182434,
          0.5214570902862777,
          0.5160487178167302,
          0.37136011634920546,
          0.4354545916190261,
          0.46803234486714207,
          0.41179122243384314,
          0.30960923155101755,
          0.5051311142168402,
          0.5224421320468522,
          0.4061636940567581,
          0.3171111979799564,
          0.5065756035584386,
          0.5065756035584386,
          0.3134525826724162,
          0.3134525826724162,
          0.42216507592572394,
          0.31590613296377545,
          0.3338163712600295,
          0.46217887942781755,
          0.46217887942781755,
          0.42068451133589296,
          0.41506036007964475,
          0.3625111883192316,
          0.42229938957965346,
          0.42229938957965346,
          0.45319265809313464,
          0.39563128917432766,
          0.3544862193514005,
          0.4488308279837638,
          0.37016591924758413,
          0.42701631274117263,
          0.4318944692521892,
          0.4396350632989617,
          0.31807832645832956,
          0.44234942652907944,
          0.421151089321211,
          0.4247304558479944,
          0.4247304558479944,
          0.452484653385974,
          0.3448383116647771,
          0.4410491434718489,
          0.4410491434718489,
          0.45290424393539735,
          0.4353727126284683,
          0.4353727126284683,
          0.4461851965721046,
          0.3553342242416407,
          0.3553342242416407,
          0.4335919435106471,
          0.4335919435106471,
          0.3240518839433921,
          0.333178106344153,
          0.4417893256447847,
          0.35223705311859804,
          0.44769260153166096,
          0.45247094034348084,
          0.43559010671205933,
          0.33181408010909147,
          0.32319995227115783,
          0.43792484269676096,
          0.4502693617211623,
          0.35456781844327934,
          0.4459138162878915,
          0.4459138162878915,
          0.5305917914616589,
          0.3342721536168499,
          0.44097859526923194,
          0.35269619853089446,
          0.4531353136420976,
          0.35997135003917585,
          0.3337709014346105,
          0.34988999265666826,
          0.3690198399341671,
          0.36780503574734064,
          0.36780503574734064,
          0.34988651661282655,
          0.34988651661282655,
          0.3441332521310763,
          0.3441332521310763,
          0.3672458907702698,
          0.36318301580115275,
          0.45723912164116126,
          0.3600887364861932,
          0.3493733440547098,
          0.37498033991464713,
          0.34551717302370244,
          0.3698871704556767,
          0.45931709197040677,
          0.3747563991464177,
          0.3420037526353514,
          0.4638579956087273,
          0.3363651685908297,
          0.36822475232600305,
          0.3384754711722311,
          0.3432787538715878,
          0.34884105153967476,
          0.3536066234087817,
          0.36312654320558574,
          0.4672852834560188,
          0.3929130562605546,
          0.3577704564434074,
          0.3544861718590819,
          0.3755970230488531,
          0.3755970230488531,
          0.346312932673314,
          0.36220069583329967,
          0.3658293168323297,
          0.3658293168323297,
          0.3541076735892438,
          0.34199647178956993,
          0.35100336413972794,
          0.35775765144139415,
          0.3472471551770899,
          0.3472471551770899,
          0.5591821693955644,
          0.34654103920376755,
          0.3477347079937343,
          0.3577216678010667,
          0.5654763983549186,
          0.34995730421466703,
          0.34995730421466703,
          0.35185073810957407,
          0.3601017934468966,
          0.35803627825659234,
          0.354648227590926,
          0.354648227590926,
          0.3545102932039873,
          0.38214986064146983,
          0.3621096485317543,
          0.5657897113978121,
          0.35895337764430785,
          0.3626204379861561,
          0.5676242153211662,
          0.36796028913645407,
          0.5655780904654717,
          0.3689916376411959,
          0.38504853160171976,
          0.3743574920950705,
          0.3779318163467308,
          0.3771983628862394,
          0.37592462573492635,
          0.37525655380566114,
          0.39541534313487875,
          0.381715090117757,
          0.383560213121084,
          0.388931654767492,
          0.388931654767492,
          0.39059273915461545,
          0.4131639048072481,
          0.4103141658680184,
          0.3967616607647358,
          0.3965687398567135,
          0.3965687398567135,
          0.3986940087922861,
          0.3999739514619028,
          0.39968035692262316,
          0.40088648985916103,
          0.4035214303644907,
          0.41167888675195785,
          0.4137687914698427,
          0.4154967130213773
         ]
        }
       ],
       "layout": {
        "scene": {
         "xaxis": {
          "title": {
           "text": "X"
          }
         },
         "yaxis": {
          "title": {
           "text": "Y"
          }
         },
         "zaxis": {
          "title": {
           "text": "Z"
          }
         }
        },
        "template": {
         "data": {
          "bar": [
           {
            "error_x": {
             "color": "#2a3f5f"
            },
            "error_y": {
             "color": "#2a3f5f"
            },
            "marker": {
             "line": {
              "color": "#E5ECF6",
              "width": 0.5
             },
             "pattern": {
              "fillmode": "overlay",
              "size": 10,
              "solidity": 0.2
             }
            },
            "type": "bar"
           }
          ],
          "barpolar": [
           {
            "marker": {
             "line": {
              "color": "#E5ECF6",
              "width": 0.5
             },
             "pattern": {
              "fillmode": "overlay",
              "size": 10,
              "solidity": 0.2
             }
            },
            "type": "barpolar"
           }
          ],
          "carpet": [
           {
            "aaxis": {
             "endlinecolor": "#2a3f5f",
             "gridcolor": "white",
             "linecolor": "white",
             "minorgridcolor": "white",
             "startlinecolor": "#2a3f5f"
            },
            "baxis": {
             "endlinecolor": "#2a3f5f",
             "gridcolor": "white",
             "linecolor": "white",
             "minorgridcolor": "white",
             "startlinecolor": "#2a3f5f"
            },
            "type": "carpet"
           }
          ],
          "choropleth": [
           {
            "colorbar": {
             "outlinewidth": 0,
             "ticks": ""
            },
            "type": "choropleth"
           }
          ],
          "contour": [
           {
            "colorbar": {
             "outlinewidth": 0,
             "ticks": ""
            },
            "colorscale": [
             [
              0,
              "#0d0887"
             ],
             [
              0.1111111111111111,
              "#46039f"
             ],
             [
              0.2222222222222222,
              "#7201a8"
             ],
             [
              0.3333333333333333,
              "#9c179e"
             ],
             [
              0.4444444444444444,
              "#bd3786"
             ],
             [
              0.5555555555555556,
              "#d8576b"
             ],
             [
              0.6666666666666666,
              "#ed7953"
             ],
             [
              0.7777777777777778,
              "#fb9f3a"
             ],
             [
              0.8888888888888888,
              "#fdca26"
             ],
             [
              1,
              "#f0f921"
             ]
            ],
            "type": "contour"
           }
          ],
          "contourcarpet": [
           {
            "colorbar": {
             "outlinewidth": 0,
             "ticks": ""
            },
            "type": "contourcarpet"
           }
          ],
          "heatmap": [
           {
            "colorbar": {
             "outlinewidth": 0,
             "ticks": ""
            },
            "colorscale": [
             [
              0,
              "#0d0887"
             ],
             [
              0.1111111111111111,
              "#46039f"
             ],
             [
              0.2222222222222222,
              "#7201a8"
             ],
             [
              0.3333333333333333,
              "#9c179e"
             ],
             [
              0.4444444444444444,
              "#bd3786"
             ],
             [
              0.5555555555555556,
              "#d8576b"
             ],
             [
              0.6666666666666666,
              "#ed7953"
             ],
             [
              0.7777777777777778,
              "#fb9f3a"
             ],
             [
              0.8888888888888888,
              "#fdca26"
             ],
             [
              1,
              "#f0f921"
             ]
            ],
            "type": "heatmap"
           }
          ],
          "heatmapgl": [
           {
            "colorbar": {
             "outlinewidth": 0,
             "ticks": ""
            },
            "colorscale": [
             [
              0,
              "#0d0887"
             ],
             [
              0.1111111111111111,
              "#46039f"
             ],
             [
              0.2222222222222222,
              "#7201a8"
             ],
             [
              0.3333333333333333,
              "#9c179e"
             ],
             [
              0.4444444444444444,
              "#bd3786"
             ],
             [
              0.5555555555555556,
              "#d8576b"
             ],
             [
              0.6666666666666666,
              "#ed7953"
             ],
             [
              0.7777777777777778,
              "#fb9f3a"
             ],
             [
              0.8888888888888888,
              "#fdca26"
             ],
             [
              1,
              "#f0f921"
             ]
            ],
            "type": "heatmapgl"
           }
          ],
          "histogram": [
           {
            "marker": {
             "pattern": {
              "fillmode": "overlay",
              "size": 10,
              "solidity": 0.2
             }
            },
            "type": "histogram"
           }
          ],
          "histogram2d": [
           {
            "colorbar": {
             "outlinewidth": 0,
             "ticks": ""
            },
            "colorscale": [
             [
              0,
              "#0d0887"
             ],
             [
              0.1111111111111111,
              "#46039f"
             ],
             [
              0.2222222222222222,
              "#7201a8"
             ],
             [
              0.3333333333333333,
              "#9c179e"
             ],
             [
              0.4444444444444444,
              "#bd3786"
             ],
             [
              0.5555555555555556,
              "#d8576b"
             ],
             [
              0.6666666666666666,
              "#ed7953"
             ],
             [
              0.7777777777777778,
              "#fb9f3a"
             ],
             [
              0.8888888888888888,
              "#fdca26"
             ],
             [
              1,
              "#f0f921"
             ]
            ],
            "type": "histogram2d"
           }
          ],
          "histogram2dcontour": [
           {
            "colorbar": {
             "outlinewidth": 0,
             "ticks": ""
            },
            "colorscale": [
             [
              0,
              "#0d0887"
             ],
             [
              0.1111111111111111,
              "#46039f"
             ],
             [
              0.2222222222222222,
              "#7201a8"
             ],
             [
              0.3333333333333333,
              "#9c179e"
             ],
             [
              0.4444444444444444,
              "#bd3786"
             ],
             [
              0.5555555555555556,
              "#d8576b"
             ],
             [
              0.6666666666666666,
              "#ed7953"
             ],
             [
              0.7777777777777778,
              "#fb9f3a"
             ],
             [
              0.8888888888888888,
              "#fdca26"
             ],
             [
              1,
              "#f0f921"
             ]
            ],
            "type": "histogram2dcontour"
           }
          ],
          "mesh3d": [
           {
            "colorbar": {
             "outlinewidth": 0,
             "ticks": ""
            },
            "type": "mesh3d"
           }
          ],
          "parcoords": [
           {
            "line": {
             "colorbar": {
              "outlinewidth": 0,
              "ticks": ""
             }
            },
            "type": "parcoords"
           }
          ],
          "pie": [
           {
            "automargin": true,
            "type": "pie"
           }
          ],
          "scatter": [
           {
            "fillpattern": {
             "fillmode": "overlay",
             "size": 10,
             "solidity": 0.2
            },
            "type": "scatter"
           }
          ],
          "scatter3d": [
           {
            "line": {
             "colorbar": {
              "outlinewidth": 0,
              "ticks": ""
             }
            },
            "marker": {
             "colorbar": {
              "outlinewidth": 0,
              "ticks": ""
             }
            },
            "type": "scatter3d"
           }
          ],
          "scattercarpet": [
           {
            "marker": {
             "colorbar": {
              "outlinewidth": 0,
              "ticks": ""
             }
            },
            "type": "scattercarpet"
           }
          ],
          "scattergeo": [
           {
            "marker": {
             "colorbar": {
              "outlinewidth": 0,
              "ticks": ""
             }
            },
            "type": "scattergeo"
           }
          ],
          "scattergl": [
           {
            "marker": {
             "colorbar": {
              "outlinewidth": 0,
              "ticks": ""
             }
            },
            "type": "scattergl"
           }
          ],
          "scattermapbox": [
           {
            "marker": {
             "colorbar": {
              "outlinewidth": 0,
              "ticks": ""
             }
            },
            "type": "scattermapbox"
           }
          ],
          "scatterpolar": [
           {
            "marker": {
             "colorbar": {
              "outlinewidth": 0,
              "ticks": ""
             }
            },
            "type": "scatterpolar"
           }
          ],
          "scatterpolargl": [
           {
            "marker": {
             "colorbar": {
              "outlinewidth": 0,
              "ticks": ""
             }
            },
            "type": "scatterpolargl"
           }
          ],
          "scatterternary": [
           {
            "marker": {
             "colorbar": {
              "outlinewidth": 0,
              "ticks": ""
             }
            },
            "type": "scatterternary"
           }
          ],
          "surface": [
           {
            "colorbar": {
             "outlinewidth": 0,
             "ticks": ""
            },
            "colorscale": [
             [
              0,
              "#0d0887"
             ],
             [
              0.1111111111111111,
              "#46039f"
             ],
             [
              0.2222222222222222,
              "#7201a8"
             ],
             [
              0.3333333333333333,
              "#9c179e"
             ],
             [
              0.4444444444444444,
              "#bd3786"
             ],
             [
              0.5555555555555556,
              "#d8576b"
             ],
             [
              0.6666666666666666,
              "#ed7953"
             ],
             [
              0.7777777777777778,
              "#fb9f3a"
             ],
             [
              0.8888888888888888,
              "#fdca26"
             ],
             [
              1,
              "#f0f921"
             ]
            ],
            "type": "surface"
           }
          ],
          "table": [
           {
            "cells": {
             "fill": {
              "color": "#EBF0F8"
             },
             "line": {
              "color": "white"
             }
            },
            "header": {
             "fill": {
              "color": "#C8D4E3"
             },
             "line": {
              "color": "white"
             }
            },
            "type": "table"
           }
          ]
         },
         "layout": {
          "annotationdefaults": {
           "arrowcolor": "#2a3f5f",
           "arrowhead": 0,
           "arrowwidth": 1
          },
          "autotypenumbers": "strict",
          "coloraxis": {
           "colorbar": {
            "outlinewidth": 0,
            "ticks": ""
           }
          },
          "colorscale": {
           "diverging": [
            [
             0,
             "#8e0152"
            ],
            [
             0.1,
             "#c51b7d"
            ],
            [
             0.2,
             "#de77ae"
            ],
            [
             0.3,
             "#f1b6da"
            ],
            [
             0.4,
             "#fde0ef"
            ],
            [
             0.5,
             "#f7f7f7"
            ],
            [
             0.6,
             "#e6f5d0"
            ],
            [
             0.7,
             "#b8e186"
            ],
            [
             0.8,
             "#7fbc41"
            ],
            [
             0.9,
             "#4d9221"
            ],
            [
             1,
             "#276419"
            ]
           ],
           "sequential": [
            [
             0,
             "#0d0887"
            ],
            [
             0.1111111111111111,
             "#46039f"
            ],
            [
             0.2222222222222222,
             "#7201a8"
            ],
            [
             0.3333333333333333,
             "#9c179e"
            ],
            [
             0.4444444444444444,
             "#bd3786"
            ],
            [
             0.5555555555555556,
             "#d8576b"
            ],
            [
             0.6666666666666666,
             "#ed7953"
            ],
            [
             0.7777777777777778,
             "#fb9f3a"
            ],
            [
             0.8888888888888888,
             "#fdca26"
            ],
            [
             1,
             "#f0f921"
            ]
           ],
           "sequentialminus": [
            [
             0,
             "#0d0887"
            ],
            [
             0.1111111111111111,
             "#46039f"
            ],
            [
             0.2222222222222222,
             "#7201a8"
            ],
            [
             0.3333333333333333,
             "#9c179e"
            ],
            [
             0.4444444444444444,
             "#bd3786"
            ],
            [
             0.5555555555555556,
             "#d8576b"
            ],
            [
             0.6666666666666666,
             "#ed7953"
            ],
            [
             0.7777777777777778,
             "#fb9f3a"
            ],
            [
             0.8888888888888888,
             "#fdca26"
            ],
            [
             1,
             "#f0f921"
            ]
           ]
          },
          "colorway": [
           "#636efa",
           "#EF553B",
           "#00cc96",
           "#ab63fa",
           "#FFA15A",
           "#19d3f3",
           "#FF6692",
           "#B6E880",
           "#FF97FF",
           "#FECB52"
          ],
          "font": {
           "color": "#2a3f5f"
          },
          "geo": {
           "bgcolor": "white",
           "lakecolor": "white",
           "landcolor": "#E5ECF6",
           "showlakes": true,
           "showland": true,
           "subunitcolor": "white"
          },
          "hoverlabel": {
           "align": "left"
          },
          "hovermode": "closest",
          "mapbox": {
           "style": "light"
          },
          "paper_bgcolor": "white",
          "plot_bgcolor": "#E5ECF6",
          "polar": {
           "angularaxis": {
            "gridcolor": "white",
            "linecolor": "white",
            "ticks": ""
           },
           "bgcolor": "#E5ECF6",
           "radialaxis": {
            "gridcolor": "white",
            "linecolor": "white",
            "ticks": ""
           }
          },
          "scene": {
           "xaxis": {
            "backgroundcolor": "#E5ECF6",
            "gridcolor": "white",
            "gridwidth": 2,
            "linecolor": "white",
            "showbackground": true,
            "ticks": "",
            "zerolinecolor": "white"
           },
           "yaxis": {
            "backgroundcolor": "#E5ECF6",
            "gridcolor": "white",
            "gridwidth": 2,
            "linecolor": "white",
            "showbackground": true,
            "ticks": "",
            "zerolinecolor": "white"
           },
           "zaxis": {
            "backgroundcolor": "#E5ECF6",
            "gridcolor": "white",
            "gridwidth": 2,
            "linecolor": "white",
            "showbackground": true,
            "ticks": "",
            "zerolinecolor": "white"
           }
          },
          "shapedefaults": {
           "line": {
            "color": "#2a3f5f"
           }
          },
          "ternary": {
           "aaxis": {
            "gridcolor": "white",
            "linecolor": "white",
            "ticks": ""
           },
           "baxis": {
            "gridcolor": "white",
            "linecolor": "white",
            "ticks": ""
           },
           "bgcolor": "#E5ECF6",
           "caxis": {
            "gridcolor": "white",
            "linecolor": "white",
            "ticks": ""
           }
          },
          "title": {
           "x": 0.05
          },
          "xaxis": {
           "automargin": true,
           "gridcolor": "white",
           "linecolor": "white",
           "ticks": "",
           "title": {
            "standoff": 15
           },
           "zerolinecolor": "white",
           "zerolinewidth": 2
          },
          "yaxis": {
           "automargin": true,
           "gridcolor": "white",
           "linecolor": "white",
           "ticks": "",
           "title": {
            "standoff": 15
           },
           "zerolinecolor": "white",
           "zerolinewidth": 2
          }
         }
        }
       }
      }
     },
     "metadata": {},
     "output_type": "display_data"
    }
   ],
   "source": [
    "import plotly.graph_objects as go\n",
    "\n",
    "# Assuming points_3D is your array of 3D points\n",
    "x = tripoints3d[0]\n",
    "y = tripoints3d[1]\n",
    "z = tripoints3d[2]\n",
    "\n",
    "fig = go.Figure(data=[go.Scatter3d(x=x, y=y, z=z,\n",
    "                                   mode='markers',\n",
    "                                   marker=dict(size=2, color=z, colorscale='Viridis'))])\n",
    "\n",
    "fig.update_layout(scene=dict(xaxis_title='X',\n",
    "                             yaxis_title='Y',\n",
    "                             zaxis_title='Z'))\n",
    "\n",
    "fig.show()"
   ]
  },
  {
   "cell_type": "code",
   "execution_count": 122,
   "metadata": {},
   "outputs": [
    {
     "ename": "NameError",
     "evalue": "name 'points_2d' is not defined",
     "output_type": "error",
     "traceback": [
      "\u001b[1;31m---------------------------------------------------------------------------\u001b[0m",
      "\u001b[1;31mNameError\u001b[0m                                 Traceback (most recent call last)",
      "Cell \u001b[1;32mIn[122], line 42\u001b[0m\n\u001b[0;32m     38\u001b[0m         optimized_poses\u001b[38;5;241m.\u001b[39mappend(optimizer\u001b[38;5;241m.\u001b[39mvertex(i)\u001b[38;5;241m.\u001b[39mestimate()\u001b[38;5;241m.\u001b[39mmatrix())\n\u001b[0;32m     40\u001b[0m     \u001b[38;5;28;01mreturn\u001b[39;00m optimized_poses\n\u001b[1;32m---> 42\u001b[0m optimized_poses \u001b[38;5;241m=\u001b[39m bundle_adjustment(Ps, tripoints3d, points_2d)\n",
      "\u001b[1;31mNameError\u001b[0m: name 'points_2d' is not defined"
     ]
    }
   ],
   "source": [
    "import g2o\n",
    "\n",
    "# Bundle Adjustment\n",
    "def bundle_adjustment(Ps, points_3d, points_2d):\n",
    "    optimizer = g2o.SparseOptimizer()\n",
    "    solver = g2o.BlockSolverSE3(g2o.LinearSolverCholmodSE3())\n",
    "    solver = g2o.OptimizationAlgorithmLevenberg(solver)\n",
    "    optimizer.set_algorithm(solver)\n",
    "\n",
    "    for i in range(len(Ps)):\n",
    "        pose = g2o.Isometry3d(Ps[i])\n",
    "        vertex_pose = g2o.VertexSE3Expmap(pose)\n",
    "        vertex_pose.set_id(i)\n",
    "        optimizer.add_vertex(vertex_pose)\n",
    "\n",
    "    point_id = len(Ps)\n",
    "    for i in range(len(points_3d)):\n",
    "        point_3d = points_3d[i]\n",
    "        for j in range(len(point_3d)):\n",
    "            if point_3d[j] is not None:\n",
    "                vertex_point = g2o.VertexSBAPointXYZ(point_3d[j])\n",
    "                vertex_point.set_id(point_id)\n",
    "                vertex_point.set_marginalized(True)\n",
    "                optimizer.add_vertex(vertex_point)\n",
    "\n",
    "                edge = g2o.EdgeProjectP2MC(points_2d[i][j], K)\n",
    "                edge.set_vertex(0, vertex_point)\n",
    "                edge.set_vertex(1, optimizer.vertex(j))\n",
    "                edge.set_information(np.eye(2))\n",
    "                optimizer.add_edge(edge)\n",
    "                point_id += 1\n",
    "\n",
    "    optimizer.initialize_optimization()\n",
    "    optimizer.optimize(10)\n",
    "\n",
    "    optimized_poses = []\n",
    "    for i in range(len(Ps)):\n",
    "        optimized_poses.append(optimizer.vertex(i).estimate().matrix())\n",
    "\n",
    "    return optimized_poses\n",
    "\n",
    "optimized_poses = bundle_adjustment(Ps, tripoints3d, points_2d)"
   ]
  }
 ],
 "metadata": {
  "kernelspec": {
   "display_name": "base",
   "language": "python",
   "name": "python3"
  },
  "language_info": {
   "codemirror_mode": {
    "name": "ipython",
    "version": 3
   },
   "file_extension": ".py",
   "mimetype": "text/x-python",
   "name": "python",
   "nbconvert_exporter": "python",
   "pygments_lexer": "ipython3",
   "version": "3.11.5"
  }
 },
 "nbformat": 4,
 "nbformat_minor": 2
}
