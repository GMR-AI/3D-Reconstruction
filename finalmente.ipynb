{
 "cells": [
  {
   "cell_type": "code",
   "execution_count": 1,
   "metadata": {},
   "outputs": [],
   "source": [
    "import numpy as np\n",
    "import matplotlib.pyplot as plt\n",
    "import matplotlib.animation as animation\n",
    "\n",
    "import cv2\n",
    "import os"
   ]
  },
  {
   "cell_type": "markdown",
   "metadata": {},
   "source": [
    "## Load Dataset and Setup Pipeline"
   ]
  },
  {
   "cell_type": "code",
   "execution_count": 2,
   "metadata": {},
   "outputs": [],
   "source": [
    "def load_images_from_folder(folder):\n",
    "    images = []\n",
    "    for filename in os.listdir(folder):\n",
    "        img = cv2.imread(os.path.join(folder, filename))\n",
    "        if img is not None:\n",
    "            images.append(img)\n",
    "    return images"
   ]
  },
  {
   "cell_type": "code",
   "execution_count": 3,
   "metadata": {},
   "outputs": [],
   "source": [
    "def feature_extraction_set(images):\n",
    "    sift = cv2.SIFT_create()\n",
    "\n",
    "    kp, des = [], []\n",
    "    for im in images:\n",
    "        kp_tmp, des_tmp = sift.detectAndCompute(im, None) # This assumes the extraction method to be from the CV2 library\n",
    "        kp.append(kp_tmp)\n",
    "        des.append(des_tmp)\n",
    "    return kp, des # Can't turn them into a np array since their shape can be inhomogeneous"
   ]
  },
  {
   "cell_type": "code",
   "execution_count": 4,
   "metadata": {},
   "outputs": [],
   "source": [
    "def feature_matching_set(kp, des):\n",
    "    # Initialize FLANN matching\n",
    "    FLANN_INDEX_KDTREE = 0\n",
    "    index_params = dict(algorithm = FLANN_INDEX_KDTREE, trees = 5)\n",
    "    search_params = dict(checks=50)\n",
    "    flann = cv2.FlannBasedMatcher(index_params, search_params)\n",
    "\n",
    "    matches = {} # Dict for easier access to each match\n",
    "    for i in range(len(kp)):\n",
    "        for j in range(i+1, len(kp)): # Only match each image with the rest, we don't need the full matrix\n",
    "            matches_tmp = flann.knnMatch(des[i], des[j], k=2)\n",
    "\n",
    "            # Lowe's ratio test\n",
    "            good_matches = [m for m, n in matches_tmp if m.distance < 0.7 * n.distance]\n",
    "\n",
    "            if len(good_matches) >= 4:\n",
    "                # RANSAC to find homography and get inlier's mask\n",
    "                pts1 = np.float32([kp[i][m.queryIdx].pt for m in good_matches]).reshape(-1, 1, 2)\n",
    "                pts2 = np.float32([kp[j][m.trainIdx].pt for m in good_matches]).reshape(-1, 1, 2)\n",
    "                _, mask = cv2.findHomography(pts1, pts2, cv2.RANSAC, 5.0)\n",
    "\n",
    "                inliers = [good_matches[k] for k in range(len(good_matches)) if mask[k]==1]\n",
    "                matches[(i,j)] = inliers\n",
    "            else:\n",
    "                matches[(i,j)] = []\n",
    "    \n",
    "    return matches"
   ]
  },
  {
   "cell_type": "code",
   "execution_count": 5,
   "metadata": {},
   "outputs": [],
   "source": [
    "def normalize(pts):\n",
    "    x_mean = np.mean(pts[:, 0])\n",
    "    y_mean = np.mean(pts[:, 1])\n",
    "    sigma = np.mean(np.sqrt((pts[:, 0] - x_mean) ** 2 + (pts[:, 1] - y_mean) ** 2))\n",
    "    M = np.sqrt(2) / sigma\n",
    "    T = np.array([\n",
    "        [M, 0, -M * x_mean],\n",
    "        [0, M, -M * y_mean],\n",
    "        [0, 0, 1]\n",
    "    ])\n",
    "    return T\n",
    "\n",
    "def eight_point_algorithm(pts1, pts2):\n",
    "\n",
    "    pts1_homo = np.vstack((pts1, np.ones(pts1.shape[1]))).T\n",
    "    pts2_homo = np.vstack((pts2, np.ones(pts2.shape[1]))).T\n",
    "\n",
    "    # Normalization\n",
    "    T = normalize(pts1_homo)\n",
    "    T_prime = normalize(pts2_homo)\n",
    "\n",
    "\n",
    "    pts1_homo = (T @ pts1_homo.T).T\n",
    "    pts2_homo = (T_prime @ pts2_homo.T).T\n",
    "\n",
    "    # x2.T*F*x1=0\n",
    "    # A*f=0, f is F flattened into a 1D array\n",
    "    \n",
    "\n",
    "    # Create A\n",
    "    A = np.zeros((pts1.shape[1], 9))\n",
    "    for i in range(pts1.shape[1]):\n",
    "        A[i] = np.array([\n",
    "            pts1_homo[i,0]*pts2_homo[i,0], pts1_homo[i,1]*pts2_homo[i,0], pts1_homo[i,2]*pts2_homo[i,0],\n",
    "            pts1_homo[i,0]*pts2_homo[i,1], pts1_homo[i,1]*pts2_homo[i,1], pts1_homo[i,2]*pts2_homo[i,1],\n",
    "            pts1_homo[i,0]*pts2_homo[i,2], pts1_homo[i,1]*pts2_homo[i,2], pts1_homo[i,2]*pts2_homo[i,2]\n",
    "            ])\n",
    "    \n",
    "    # Solve Af=0 using svd\n",
    "    U,S,Vt = np.linalg.svd(A)\n",
    "    F = Vt[-1,:].reshape((3,3))\n",
    "\n",
    "    # Enforce rank2 constraint\n",
    "    U,S,Vt = np.linalg.svd(F)\n",
    "    S[-1] = 0\n",
    "    F = U @ np.diag(S) @ Vt\n",
    "\n",
    "    F = T_prime.T @ F @ T\n",
    "    return F"
   ]
  },
  {
   "cell_type": "code",
   "execution_count": 6,
   "metadata": {},
   "outputs": [],
   "source": [
    "def essential_from_fundamental(K1, F, K2):\n",
    "    return K1.T @ F @ K2"
   ]
  },
  {
   "cell_type": "code",
   "execution_count": 7,
   "metadata": {},
   "outputs": [],
   "source": [
    "def pose_from_essential(R1, T1, E):\n",
    "    U,_,Vt = np.linalg.svd(E)\n",
    "    W = np.array([[0, -1, 0], [1, 0, 0], [0, 0, 1]])\n",
    "    \n",
    "    # Array with all possible camera poses (extrinsics)\n",
    "    R = np.array([U @ W @ Vt, U @ W.T @ Vt])\n",
    "    T = np.array([U[:, 2], -U[:, 2]])\n",
    "\n",
    "    for i in range(R.shape[0]):\n",
    "        R[i] = R1 @ R[i]\n",
    "        if np.linalg.det(R[i]) < 0:\n",
    "            R[i] = R[i] * -1\n",
    "        T[i] = R1 @ T[i] + T1\n",
    "\n",
    "    return R, T"
   ]
  },
  {
   "cell_type": "code",
   "execution_count": 8,
   "metadata": {},
   "outputs": [],
   "source": [
    "def linear_triangulation(K1, RT1, K2, RT2, pts1, pts2):\n",
    "    # First, set all points to homogeneous\n",
    "    pts1_homo = np.vstack((pts1, np.ones(pts1.shape[1])))\n",
    "    pts2_homo = np.vstack((pts2, np.ones(pts2.shape[1])))\n",
    "\n",
    "    # Calculate every projection matrix\n",
    "    P1 = K1 @ RT1\n",
    "    P2 = K2 @ RT2\n",
    "\n",
    "    # Solve using svd\n",
    "    pts3d = np.zeros((3, pts1.shape[1]))\n",
    "    for i in range(pts1.shape[1]):\n",
    "        A = np.array([pts1_homo[1,i]*P1[2,:] - P1[1,:],\n",
    "            P1[0,:] - pts1_homo[0,i]*P1[2,:],\n",
    "            pts2_homo[1,i]*P2[2,:] - P2[1,:],\n",
    "            P2[0,:] - pts2_homo[0,i]*P2[2,:]])\n",
    "        ATA = A.T @ A\n",
    "        _, _, Vt = np.linalg.svd(ATA)\n",
    "        pts3d[:, i] = Vt[-1, :3]/Vt[-1, -1]\n",
    "    \n",
    "    return pts3d\n",
    "\n",
    "def linear_triangulation2(P1, P2, pts1, pts2):\n",
    "    # First, set all points to homogeneous\n",
    "    pts1_homo = np.vstack((pts1, np.ones(pts1.shape[1])))\n",
    "    pts2_homo = np.vstack((pts2, np.ones(pts2.shape[1])))\n",
    "\n",
    "    # Solve using svd\n",
    "    pts3d = np.zeros((3, pts1.shape[1]))\n",
    "    for i in range(pts1.shape[1]):\n",
    "        A = np.array([pts1_homo[1,i]*P1[2,:] - P1[1,:],\n",
    "                      P1[0,:] - pts1_homo[0,i]*P1[2,:],\n",
    "                      pts2_homo[1,i]*P2[2,:] - P2[1,:],\n",
    "                      P2[0,:] - pts2_homo[0,i]*P2[2,:]])\n",
    "        ATA = A.T @ A\n",
    "        _, _, Vt = np.linalg.svd(ATA)\n",
    "        pts3d[:, i] = Vt[-1, :3]/Vt[-1, -1]\n",
    "    \n",
    "    return pts3d\n",
    "\n",
    "def linear_triangulation3(K1, R1, T1, K2, R2, T2, pts1, pts2):\n",
    "    # First, set all points to homogeneous\n",
    "    pts1_homo = np.vstack((pts1, np.ones(pts1.shape[1])))\n",
    "    pts2_homo = np.vstack((pts2, np.ones(pts2.shape[1])))\n",
    "\n",
    "    # Calculate every projection matrix\n",
    "    P1 = K1 @ np.hstack((R1, T1[:, np.newaxis]))\n",
    "    P2 = K2 @ np.hstack((R2, T2[:, np.newaxis]))\n",
    "\n",
    "    # Solve using svd\n",
    "    pts3d = np.zeros((3, pts1.shape[1]))\n",
    "    for i in range(pts1.shape[1]):\n",
    "        A = np.array([pts1_homo[1,i]*P1[2,:] - P1[1,:],\n",
    "            P1[0,:] - pts1_homo[0,i]*P1[2,:],\n",
    "            pts2_homo[1,i]*P2[2,:] - P2[1,:],\n",
    "            P2[0,:] - pts2_homo[0,i]*P2[2,:]])\n",
    "        ATA = A.T @ A\n",
    "        _, _, Vt = np.linalg.svd(ATA)\n",
    "        pts3d[:, i] = Vt[-1, :3]/Vt[-1, -1]\n",
    "    \n",
    "    return pts3d"
   ]
  },
  {
   "cell_type": "code",
   "execution_count": 9,
   "metadata": {},
   "outputs": [],
   "source": [
    "def reprojection(P1, P2, pts3d):\n",
    "    pts3d_homo = np.vstack((pts3d, np.ones(pts3d.shape[1])))\n",
    "    pts2d1_homo = np.dot(P1, pts3d_homo)\n",
    "    pts2d2_homo = np.dot(P2, pts3d_homo)\n",
    "    return pts2d1_homo/pts2d1_homo[-1], pts2d2_homo/pts2d2_homo[-1]\n",
    "\n",
    "def double_disambiguation(K1, RT1, K2, RT2s, pts1, pts2, pts3d):\n",
    "    max_positive_z = 0\n",
    "    min_error = np.finfo('float').max\n",
    "    best_RT = None\n",
    "    best_pts3d = None\n",
    "    P1 = K1 @ RT1\n",
    "\n",
    "    pts1_homo = np.vstack((pts1, np.ones(pts1.shape[1])))\n",
    "    pts2_homo = np.vstack((pts2, np.ones(pts2.shape[1])))\n",
    "\n",
    "    for i in range(RT2s.shape[0]):\n",
    "        P2 = K2 @ RT2s[i]\n",
    "        num_positive_z = np.sum(pts3d[i][2, :] > 0)\n",
    "        re1_pts2, re2_pts2 = reprojection(P1, P2, pts3d[i])\n",
    "\n",
    "        err1 = np.sum(np.square(re1_pts2 - pts1_homo))\n",
    "        err2 = np.sum(np.square(re2_pts2 - pts2_homo))\n",
    "\n",
    "        err = err1 + err2\n",
    "\n",
    "        if num_positive_z >= max_positive_z and err < min_error:\n",
    "            max_positive_z = num_positive_z\n",
    "            min_error = err\n",
    "            best_RT = RT2s[i]\n",
    "            best_pts3d = pts3d[i]\n",
    "    \n",
    "    return best_RT, best_pts3d\n",
    "\n",
    "def double_disambiguation2(K1, R1, T1, K2, R2s, T2s, pts1, pts2, pts3d):\n",
    "    max_positive_z = 0\n",
    "    min_error = np.finfo('float').max\n",
    "    best_R = None\n",
    "    best_T = None\n",
    "    best_pts3d = None\n",
    "    P1 = K1 @ np.hstack((R1, T1[:, np.newaxis]))\n",
    "\n",
    "    pts1_homo = np.vstack((pts1, np.ones(pts1.shape[1])))\n",
    "    pts2_homo = np.vstack((pts2, np.ones(pts2.shape[1])))\n",
    "\n",
    "    for i in range(R2s.shape[0]):\n",
    "        P2 = K2 @ np.hstack((R2s[i], T2s[i, :, np.newaxis]))\n",
    "        \n",
    "        pts3d_cam2 = np.dot(np.linalg.inv(R2s[i]), pts3d[i] - T2s[i, :, np.newaxis])\n",
    "\n",
    "        num_positive_z = np.sum(pts3d_cam2[2, :] > 0)\n",
    "        re1_pts2, re2_pts2 = reprojection(P1, P2, pts3d[i])\n",
    "\n",
    "        err1 = np.sum(np.square(re1_pts2 - pts1_homo))\n",
    "        err2 = np.sum(np.square(re2_pts2 - pts2_homo))\n",
    "\n",
    "        err = err1 + err2\n",
    "\n",
    "        if num_positive_z >= max_positive_z and err < min_error:\n",
    "            max_positive_z = num_positive_z\n",
    "            min_error = err\n",
    "            best_R = R2s[i]\n",
    "            best_T = T2s[i]\n",
    "            best_pts3d = pts3d[i]\n",
    "    \n",
    "    return best_R, best_T, best_pts3d"
   ]
  },
  {
   "cell_type": "markdown",
   "metadata": {},
   "source": [
    "## Part 1: Two Images SfM\n",
    "\n",
    "We're following the \"guide\" provided by this [GitHub's README by rohana96](https://github.com/rohana96/SfM), following an incremental SfM. However, we tried to make the different steps by ourselves."
   ]
  },
  {
   "cell_type": "markdown",
   "metadata": {},
   "source": [
    "### Previous feature extraction and matching"
   ]
  },
  {
   "cell_type": "code",
   "execution_count": 10,
   "metadata": {},
   "outputs": [],
   "source": [
    "# Load all images\n",
    "images = np.array(load_images_from_folder('dinos'))"
   ]
  },
  {
   "cell_type": "code",
   "execution_count": 11,
   "metadata": {},
   "outputs": [],
   "source": [
    "# Intrinsic values of camera (assume all images were taken with the same camera)\n",
    "# K = np.loadtxt('intrinsic_matrix.txt', dtype=float)\n",
    "\n",
    "height, width = images.shape[1:3]\n",
    "K = np.array([  # for dino\n",
    "    [2360, 0, width / 2],\n",
    "    [0, 2360, height / 2],\n",
    "    [0, 0, 1]])"
   ]
  },
  {
   "cell_type": "code",
   "execution_count": 12,
   "metadata": {},
   "outputs": [],
   "source": [
    "# Initialize Projection matrix list\n",
    "P_list = [K @ np.hstack((np.eye(3), np.zeros((3, 1))))]\n",
    "R_list = [np.eye(3)]\n",
    "T_list = [np.zeros(3)]"
   ]
  },
  {
   "cell_type": "code",
   "execution_count": 13,
   "metadata": {},
   "outputs": [],
   "source": [
    "RT = np.hstack((np.eye(3), np.zeros((3, 1))))\n",
    "RT_homo = np.vstack((RT, np.array([0, 0, 0, 1])))"
   ]
  },
  {
   "cell_type": "code",
   "execution_count": 14,
   "metadata": {},
   "outputs": [],
   "source": [
    "# Initialize 3D point cloud\n",
    "pts3d_cloud = None"
   ]
  },
  {
   "cell_type": "code",
   "execution_count": 15,
   "metadata": {},
   "outputs": [],
   "source": [
    "# Feature extraction and matching\n",
    "kp, des = feature_extraction_set(images[:3])\n",
    "\n",
    "matches = feature_matching_set(kp, des)"
   ]
  },
  {
   "cell_type": "code",
   "execution_count": 16,
   "metadata": {},
   "outputs": [],
   "source": [
    "# Main for loop\n",
    "for i in range(1, 3):\n",
    "\n",
    "    # Define points for this iteration\n",
    "    pts1 = np.transpose([kp[i-1][m.queryIdx].pt for m in matches[(i-1,i)]])\n",
    "    pts2 = np.transpose([kp[i][m.trainIdx].pt for m in matches[(i-1,i)]])\n",
    "\n",
    "    # Get Fundamental matrix from i - 1\n",
    "    F = eight_point_algorithm(pts1, pts2)\n",
    "\n",
    "    # Get Essential matrix from F\n",
    "    E = essential_from_fundamental(K, F, K)\n",
    "\n",
    "    # Get camera extrinsics from Essential\n",
    "    R_set, T_set = pose_from_essential(R_list[i-1], T_list[i-1], E)\n",
    "\n",
    "    # Possible triangulations\n",
    "    pts3d = np.array([linear_triangulation3(K, R_list[i-1], T_list[i-1], K, R, T, pts1, pts2) for R in R_set for T in T_set])\n",
    "\n",
    "    # Disambiguation\n",
    "    R, T, pts3d = double_disambiguation2(K, R_list[i-1], T_list[i-1], K, R_set, T_set, pts1, pts2, pts3d)\n",
    "\n",
    "    # Add R, T and pts3d to their respective lists\n",
    "    P_list.append(K @ np.hstack((R, T[:, np.newaxis])))\n",
    "    R_list.append(R)\n",
    "    T_list.append(T)\n",
    "    if isinstance(pts3d_cloud, np.ndarray):\n",
    "        pts3d_cloud = np.hstack((pts3d_cloud, pts3d))\n",
    "    else:\n",
    "        pts3d_cloud = np.array(pts3d)"
   ]
  },
  {
   "cell_type": "code",
   "execution_count": 17,
   "metadata": {},
   "outputs": [],
   "source": [
    "# for i in range(1, 5):\n",
    "#     pts1 = np.transpose([kp[i-1][m.queryIdx].pt for m in matches[(i-1,i)]])\n",
    "#     pts2 = np.transpose([kp[i][m.trainIdx].pt for m in matches[(i-1,i)]])\n",
    "#     pts3d = linear_triangulation2(P_list[i-1], P_list[i], pts1, pts2)\n",
    "\n",
    "#     if isinstance(pts3d_cloud, np.ndarray):\n",
    "#         pts3d_cloud = np.hstack((pts3d_cloud, pts3d))\n",
    "#     else:\n",
    "#         pts3d_cloud = np.array(pts3d)"
   ]
  },
  {
   "cell_type": "code",
   "execution_count": 18,
   "metadata": {},
   "outputs": [
    {
     "data": {
      "application/vnd.plotly.v1+json": {
       "config": {
        "plotlyServerURL": "https://plot.ly"
       },
       "data": [
        {
         "name": "i",
         "sizemode": "scaled",
         "sizeref": 0.2,
         "type": "cone",
         "u": [
          1
         ],
         "v": [
          0
         ],
         "w": [
          0
         ],
         "x": [
          0
         ],
         "y": [
          0
         ],
         "z": [
          0
         ]
        },
        {
         "name": "j",
         "sizemode": "scaled",
         "sizeref": 0.2,
         "type": "cone",
         "u": [
          0
         ],
         "v": [
          -1
         ],
         "w": [
          0
         ],
         "x": [
          0
         ],
         "y": [
          0
         ],
         "z": [
          0
         ]
        },
        {
         "name": "k",
         "sizemode": "scaled",
         "sizeref": 0.2,
         "type": "cone",
         "u": [
          0
         ],
         "v": [
          0
         ],
         "w": [
          -1
         ],
         "x": [
          0
         ],
         "y": [
          0
         ],
         "z": [
          0
         ]
        },
        {
         "name": "i",
         "sizemode": "scaled",
         "sizeref": 0.2,
         "type": "cone",
         "u": [
          0.9581883100498794
         ],
         "v": [
          0.10510019640475421
         ],
         "w": [
          0.26613739158456934
         ],
         "x": [
          -0.9810570962312916
         ],
         "y": [
          -0.01288079707525435
         ],
         "z": [
          -0.19329009028124697
         ]
        },
        {
         "name": "j",
         "sizemode": "scaled",
         "sizeref": 0.2,
         "type": "cone",
         "u": [
          -0.10439719408651386
         ],
         "v": [
          0.994393291952602
         ],
         "w": [
          -0.01682874881059063
         ],
         "x": [
          -0.9810570962312916
         ],
         "y": [
          -0.01288079707525435
         ],
         "z": [
          -0.19329009028124697
         ]
        },
        {
         "name": "k",
         "sizemode": "scaled",
         "sizeref": 0.2,
         "type": "cone",
         "u": [
          -0.26641394173469796
         ],
         "v": [
          -0.011658886539859603
         ],
         "w": [
          0.9637881935435982
         ],
         "x": [
          -0.9810570962312916
         ],
         "y": [
          -0.01288079707525435
         ],
         "z": [
          -0.19329009028124697
         ]
        },
        {
         "name": "i",
         "sizemode": "scaled",
         "sizeref": 0.2,
         "type": "cone",
         "u": [
          0.36710006555874847
         ],
         "v": [
          0.004110430038417403
         ],
         "w": [
          0.9301723744724214
         ],
         "x": [
          -0.2129728934150833
         ],
         "y": [
          0.09292986373507381
         ],
         "z": [
          0.43825623536958935
         ]
        },
        {
         "name": "j",
         "sizemode": "scaled",
         "sizeref": 0.2,
         "type": "cone",
         "u": [
          0.09026546223844467
         ],
         "v": [
          -0.995428115506729
         ],
         "w": [
          -0.03122520112987965
         ],
         "x": [
          -0.2129728934150833
         ],
         "y": [
          0.09292986373507381
         ],
         "z": [
          0.43825623536958935
         ]
        },
        {
         "name": "k",
         "sizemode": "scaled",
         "sizeref": 0.2,
         "type": "cone",
         "u": [
          0.9257913848128221
         ],
         "v": [
          0.09542521272504888
         ],
         "w": [
          -0.36579275632895836
         ],
         "x": [
          -0.2129728934150833
         ],
         "y": [
          0.09292986373507381
         ],
         "z": [
          0.43825623536958935
         ]
        }
       ],
       "layout": {
        "scene": {
         "aspectmode": "data"
        },
        "template": {
         "data": {
          "bar": [
           {
            "error_x": {
             "color": "#2a3f5f"
            },
            "error_y": {
             "color": "#2a3f5f"
            },
            "marker": {
             "line": {
              "color": "#E5ECF6",
              "width": 0.5
             },
             "pattern": {
              "fillmode": "overlay",
              "size": 10,
              "solidity": 0.2
             }
            },
            "type": "bar"
           }
          ],
          "barpolar": [
           {
            "marker": {
             "line": {
              "color": "#E5ECF6",
              "width": 0.5
             },
             "pattern": {
              "fillmode": "overlay",
              "size": 10,
              "solidity": 0.2
             }
            },
            "type": "barpolar"
           }
          ],
          "carpet": [
           {
            "aaxis": {
             "endlinecolor": "#2a3f5f",
             "gridcolor": "white",
             "linecolor": "white",
             "minorgridcolor": "white",
             "startlinecolor": "#2a3f5f"
            },
            "baxis": {
             "endlinecolor": "#2a3f5f",
             "gridcolor": "white",
             "linecolor": "white",
             "minorgridcolor": "white",
             "startlinecolor": "#2a3f5f"
            },
            "type": "carpet"
           }
          ],
          "choropleth": [
           {
            "colorbar": {
             "outlinewidth": 0,
             "ticks": ""
            },
            "type": "choropleth"
           }
          ],
          "contour": [
           {
            "colorbar": {
             "outlinewidth": 0,
             "ticks": ""
            },
            "colorscale": [
             [
              0,
              "#0d0887"
             ],
             [
              0.1111111111111111,
              "#46039f"
             ],
             [
              0.2222222222222222,
              "#7201a8"
             ],
             [
              0.3333333333333333,
              "#9c179e"
             ],
             [
              0.4444444444444444,
              "#bd3786"
             ],
             [
              0.5555555555555556,
              "#d8576b"
             ],
             [
              0.6666666666666666,
              "#ed7953"
             ],
             [
              0.7777777777777778,
              "#fb9f3a"
             ],
             [
              0.8888888888888888,
              "#fdca26"
             ],
             [
              1,
              "#f0f921"
             ]
            ],
            "type": "contour"
           }
          ],
          "contourcarpet": [
           {
            "colorbar": {
             "outlinewidth": 0,
             "ticks": ""
            },
            "type": "contourcarpet"
           }
          ],
          "heatmap": [
           {
            "colorbar": {
             "outlinewidth": 0,
             "ticks": ""
            },
            "colorscale": [
             [
              0,
              "#0d0887"
             ],
             [
              0.1111111111111111,
              "#46039f"
             ],
             [
              0.2222222222222222,
              "#7201a8"
             ],
             [
              0.3333333333333333,
              "#9c179e"
             ],
             [
              0.4444444444444444,
              "#bd3786"
             ],
             [
              0.5555555555555556,
              "#d8576b"
             ],
             [
              0.6666666666666666,
              "#ed7953"
             ],
             [
              0.7777777777777778,
              "#fb9f3a"
             ],
             [
              0.8888888888888888,
              "#fdca26"
             ],
             [
              1,
              "#f0f921"
             ]
            ],
            "type": "heatmap"
           }
          ],
          "heatmapgl": [
           {
            "colorbar": {
             "outlinewidth": 0,
             "ticks": ""
            },
            "colorscale": [
             [
              0,
              "#0d0887"
             ],
             [
              0.1111111111111111,
              "#46039f"
             ],
             [
              0.2222222222222222,
              "#7201a8"
             ],
             [
              0.3333333333333333,
              "#9c179e"
             ],
             [
              0.4444444444444444,
              "#bd3786"
             ],
             [
              0.5555555555555556,
              "#d8576b"
             ],
             [
              0.6666666666666666,
              "#ed7953"
             ],
             [
              0.7777777777777778,
              "#fb9f3a"
             ],
             [
              0.8888888888888888,
              "#fdca26"
             ],
             [
              1,
              "#f0f921"
             ]
            ],
            "type": "heatmapgl"
           }
          ],
          "histogram": [
           {
            "marker": {
             "pattern": {
              "fillmode": "overlay",
              "size": 10,
              "solidity": 0.2
             }
            },
            "type": "histogram"
           }
          ],
          "histogram2d": [
           {
            "colorbar": {
             "outlinewidth": 0,
             "ticks": ""
            },
            "colorscale": [
             [
              0,
              "#0d0887"
             ],
             [
              0.1111111111111111,
              "#46039f"
             ],
             [
              0.2222222222222222,
              "#7201a8"
             ],
             [
              0.3333333333333333,
              "#9c179e"
             ],
             [
              0.4444444444444444,
              "#bd3786"
             ],
             [
              0.5555555555555556,
              "#d8576b"
             ],
             [
              0.6666666666666666,
              "#ed7953"
             ],
             [
              0.7777777777777778,
              "#fb9f3a"
             ],
             [
              0.8888888888888888,
              "#fdca26"
             ],
             [
              1,
              "#f0f921"
             ]
            ],
            "type": "histogram2d"
           }
          ],
          "histogram2dcontour": [
           {
            "colorbar": {
             "outlinewidth": 0,
             "ticks": ""
            },
            "colorscale": [
             [
              0,
              "#0d0887"
             ],
             [
              0.1111111111111111,
              "#46039f"
             ],
             [
              0.2222222222222222,
              "#7201a8"
             ],
             [
              0.3333333333333333,
              "#9c179e"
             ],
             [
              0.4444444444444444,
              "#bd3786"
             ],
             [
              0.5555555555555556,
              "#d8576b"
             ],
             [
              0.6666666666666666,
              "#ed7953"
             ],
             [
              0.7777777777777778,
              "#fb9f3a"
             ],
             [
              0.8888888888888888,
              "#fdca26"
             ],
             [
              1,
              "#f0f921"
             ]
            ],
            "type": "histogram2dcontour"
           }
          ],
          "mesh3d": [
           {
            "colorbar": {
             "outlinewidth": 0,
             "ticks": ""
            },
            "type": "mesh3d"
           }
          ],
          "parcoords": [
           {
            "line": {
             "colorbar": {
              "outlinewidth": 0,
              "ticks": ""
             }
            },
            "type": "parcoords"
           }
          ],
          "pie": [
           {
            "automargin": true,
            "type": "pie"
           }
          ],
          "scatter": [
           {
            "fillpattern": {
             "fillmode": "overlay",
             "size": 10,
             "solidity": 0.2
            },
            "type": "scatter"
           }
          ],
          "scatter3d": [
           {
            "line": {
             "colorbar": {
              "outlinewidth": 0,
              "ticks": ""
             }
            },
            "marker": {
             "colorbar": {
              "outlinewidth": 0,
              "ticks": ""
             }
            },
            "type": "scatter3d"
           }
          ],
          "scattercarpet": [
           {
            "marker": {
             "colorbar": {
              "outlinewidth": 0,
              "ticks": ""
             }
            },
            "type": "scattercarpet"
           }
          ],
          "scattergeo": [
           {
            "marker": {
             "colorbar": {
              "outlinewidth": 0,
              "ticks": ""
             }
            },
            "type": "scattergeo"
           }
          ],
          "scattergl": [
           {
            "marker": {
             "colorbar": {
              "outlinewidth": 0,
              "ticks": ""
             }
            },
            "type": "scattergl"
           }
          ],
          "scattermapbox": [
           {
            "marker": {
             "colorbar": {
              "outlinewidth": 0,
              "ticks": ""
             }
            },
            "type": "scattermapbox"
           }
          ],
          "scatterpolar": [
           {
            "marker": {
             "colorbar": {
              "outlinewidth": 0,
              "ticks": ""
             }
            },
            "type": "scatterpolar"
           }
          ],
          "scatterpolargl": [
           {
            "marker": {
             "colorbar": {
              "outlinewidth": 0,
              "ticks": ""
             }
            },
            "type": "scatterpolargl"
           }
          ],
          "scatterternary": [
           {
            "marker": {
             "colorbar": {
              "outlinewidth": 0,
              "ticks": ""
             }
            },
            "type": "scatterternary"
           }
          ],
          "surface": [
           {
            "colorbar": {
             "outlinewidth": 0,
             "ticks": ""
            },
            "colorscale": [
             [
              0,
              "#0d0887"
             ],
             [
              0.1111111111111111,
              "#46039f"
             ],
             [
              0.2222222222222222,
              "#7201a8"
             ],
             [
              0.3333333333333333,
              "#9c179e"
             ],
             [
              0.4444444444444444,
              "#bd3786"
             ],
             [
              0.5555555555555556,
              "#d8576b"
             ],
             [
              0.6666666666666666,
              "#ed7953"
             ],
             [
              0.7777777777777778,
              "#fb9f3a"
             ],
             [
              0.8888888888888888,
              "#fdca26"
             ],
             [
              1,
              "#f0f921"
             ]
            ],
            "type": "surface"
           }
          ],
          "table": [
           {
            "cells": {
             "fill": {
              "color": "#EBF0F8"
             },
             "line": {
              "color": "white"
             }
            },
            "header": {
             "fill": {
              "color": "#C8D4E3"
             },
             "line": {
              "color": "white"
             }
            },
            "type": "table"
           }
          ]
         },
         "layout": {
          "annotationdefaults": {
           "arrowcolor": "#2a3f5f",
           "arrowhead": 0,
           "arrowwidth": 1
          },
          "autotypenumbers": "strict",
          "coloraxis": {
           "colorbar": {
            "outlinewidth": 0,
            "ticks": ""
           }
          },
          "colorscale": {
           "diverging": [
            [
             0,
             "#8e0152"
            ],
            [
             0.1,
             "#c51b7d"
            ],
            [
             0.2,
             "#de77ae"
            ],
            [
             0.3,
             "#f1b6da"
            ],
            [
             0.4,
             "#fde0ef"
            ],
            [
             0.5,
             "#f7f7f7"
            ],
            [
             0.6,
             "#e6f5d0"
            ],
            [
             0.7,
             "#b8e186"
            ],
            [
             0.8,
             "#7fbc41"
            ],
            [
             0.9,
             "#4d9221"
            ],
            [
             1,
             "#276419"
            ]
           ],
           "sequential": [
            [
             0,
             "#0d0887"
            ],
            [
             0.1111111111111111,
             "#46039f"
            ],
            [
             0.2222222222222222,
             "#7201a8"
            ],
            [
             0.3333333333333333,
             "#9c179e"
            ],
            [
             0.4444444444444444,
             "#bd3786"
            ],
            [
             0.5555555555555556,
             "#d8576b"
            ],
            [
             0.6666666666666666,
             "#ed7953"
            ],
            [
             0.7777777777777778,
             "#fb9f3a"
            ],
            [
             0.8888888888888888,
             "#fdca26"
            ],
            [
             1,
             "#f0f921"
            ]
           ],
           "sequentialminus": [
            [
             0,
             "#0d0887"
            ],
            [
             0.1111111111111111,
             "#46039f"
            ],
            [
             0.2222222222222222,
             "#7201a8"
            ],
            [
             0.3333333333333333,
             "#9c179e"
            ],
            [
             0.4444444444444444,
             "#bd3786"
            ],
            [
             0.5555555555555556,
             "#d8576b"
            ],
            [
             0.6666666666666666,
             "#ed7953"
            ],
            [
             0.7777777777777778,
             "#fb9f3a"
            ],
            [
             0.8888888888888888,
             "#fdca26"
            ],
            [
             1,
             "#f0f921"
            ]
           ]
          },
          "colorway": [
           "#636efa",
           "#EF553B",
           "#00cc96",
           "#ab63fa",
           "#FFA15A",
           "#19d3f3",
           "#FF6692",
           "#B6E880",
           "#FF97FF",
           "#FECB52"
          ],
          "font": {
           "color": "#2a3f5f"
          },
          "geo": {
           "bgcolor": "white",
           "lakecolor": "white",
           "landcolor": "#E5ECF6",
           "showlakes": true,
           "showland": true,
           "subunitcolor": "white"
          },
          "hoverlabel": {
           "align": "left"
          },
          "hovermode": "closest",
          "mapbox": {
           "style": "light"
          },
          "paper_bgcolor": "white",
          "plot_bgcolor": "#E5ECF6",
          "polar": {
           "angularaxis": {
            "gridcolor": "white",
            "linecolor": "white",
            "ticks": ""
           },
           "bgcolor": "#E5ECF6",
           "radialaxis": {
            "gridcolor": "white",
            "linecolor": "white",
            "ticks": ""
           }
          },
          "scene": {
           "xaxis": {
            "backgroundcolor": "#E5ECF6",
            "gridcolor": "white",
            "gridwidth": 2,
            "linecolor": "white",
            "showbackground": true,
            "ticks": "",
            "zerolinecolor": "white"
           },
           "yaxis": {
            "backgroundcolor": "#E5ECF6",
            "gridcolor": "white",
            "gridwidth": 2,
            "linecolor": "white",
            "showbackground": true,
            "ticks": "",
            "zerolinecolor": "white"
           },
           "zaxis": {
            "backgroundcolor": "#E5ECF6",
            "gridcolor": "white",
            "gridwidth": 2,
            "linecolor": "white",
            "showbackground": true,
            "ticks": "",
            "zerolinecolor": "white"
           }
          },
          "shapedefaults": {
           "line": {
            "color": "#2a3f5f"
           }
          },
          "ternary": {
           "aaxis": {
            "gridcolor": "white",
            "linecolor": "white",
            "ticks": ""
           },
           "baxis": {
            "gridcolor": "white",
            "linecolor": "white",
            "ticks": ""
           },
           "bgcolor": "#E5ECF6",
           "caxis": {
            "gridcolor": "white",
            "linecolor": "white",
            "ticks": ""
           }
          },
          "title": {
           "x": 0.05
          },
          "xaxis": {
           "automargin": true,
           "gridcolor": "white",
           "linecolor": "white",
           "ticks": "",
           "title": {
            "standoff": 15
           },
           "zerolinecolor": "white",
           "zerolinewidth": 2
          },
          "yaxis": {
           "automargin": true,
           "gridcolor": "white",
           "linecolor": "white",
           "ticks": "",
           "title": {
            "standoff": 15
           },
           "zerolinecolor": "white",
           "zerolinewidth": 2
          }
         }
        }
       }
      }
     },
     "metadata": {},
     "output_type": "display_data"
    }
   ],
   "source": [
    "# Visualize Cameras\n",
    "import numpy as np\n",
    "import plotly.graph_objects as go\n",
    "\n",
    "def plot_transforms(transforms):\n",
    "    # Create a 3D figure\n",
    "    fig = go.Figure()\n",
    "\n",
    "    # Create the unit vectors\n",
    "    i = np.array([1, 0, 0])\n",
    "    j = np.array([0, 1, 0])\n",
    "    k = np.array([0, 0, 1])\n",
    "\n",
    "    for idx, transform in enumerate(transforms):\n",
    "        R, T = transform\n",
    "\n",
    "        # Apply the rotation matrix to the unit vectors\n",
    "        i_prime = R @ i\n",
    "        j_prime = R @ j\n",
    "        k_prime = R @ k\n",
    "\n",
    "        # Plot the new coordinate system\n",
    "        fig.add_trace(go.Cone(x=[T[0]], y=[T[1]], z=[T[2]], u=[i_prime[0]], v=[i_prime[1]], w=[i_prime[2]], sizemode=\"scaled\", sizeref=0.2, name='i'))\n",
    "        fig.add_trace(go.Cone(x=[T[0]], y=[T[1]], z=[T[2]], u=[j_prime[0]], v=[j_prime[1]], w=[j_prime[2]], sizemode=\"scaled\", sizeref=0.2, name='j'))\n",
    "        fig.add_trace(go.Cone(x=[T[0]], y=[T[1]], z=[T[2]], u=[k_prime[0]], v=[k_prime[1]], w=[k_prime[2]], sizemode=\"scaled\", sizeref=0.2, name='k'))\n",
    "\n",
    "    fig.update_layout(scene=dict(aspectmode='data'))\n",
    "\n",
    "    fig.show()\n",
    "\n",
    "plot_transforms(zip(R_list, T_list))"
   ]
  },
  {
   "cell_type": "code",
   "execution_count": 19,
   "metadata": {},
   "outputs": [
    {
     "data": {
      "application/vnd.plotly.v1+json": {
       "config": {
        "plotlyServerURL": "https://plot.ly"
       },
       "data": [
        {
         "marker": {
          "color": [
           -26.54954054439604,
           -24.54921533630457,
           -23.059798131942586,
           -23.346085333015434,
           -23.34404739182212,
           -21.96343565591784,
           -19.31906890005768,
           -19.25081837741886,
           -18.430350279191707,
           -18.038019687279835,
           -18.038019687279835,
           -17.435515288515486,
           -17.358167014243755,
           -16.556748643745024,
           -16.729986259951822,
           -16.058079753781115,
           -15.867733546600295,
           -15.48607201019656,
           -15.52702520855657,
           -14.116222268182298,
           -13.85705790333483,
           -13.85705790333483,
           -13.847298850482971,
           -13.445222803483851,
           -13.347558367360916,
           -13.39072437178882,
           -12.887361599477538,
           -12.704098841593245,
           -12.142813295721867,
           -11.74994092938742,
           -11.5220444041183,
           -11.657715046241886,
           -11.538129808029062,
           -11.567251849113548,
           -11.176058086758841,
           -11.176058086758841,
           -11.014511726881528,
           -10.786460789701916,
           -10.622646887360316,
           -10.490496158678964,
           -10.699895488369442,
           -10.648365336780495,
           -10.463670776583445,
           -10.166725012479056,
           -10.109011727924013,
           -10.220142335207774,
           -10.105347262767982,
           -9.83023169072621,
           -9.914115178362684,
           -9.44572837564311,
           -9.361447422412823,
           -9.425185060931645,
           -9.316569044869922,
           -9.45453855467576,
           -9.07410746090341,
           -9.170015072674342,
           -9.184686927161891,
           -9.059415581484052,
           -8.871395773828798,
           -8.745643638093513,
           -8.745643638093513,
           -8.754082571880398,
           -8.555147955513966,
           -8.624750812374627,
           -8.4892437533765,
           -8.464134607412735,
           -8.464134607412735,
           -8.391828816930612,
           -8.300108464958978,
           -8.231440090534312,
           -8.2908242595122,
           -8.178414611296851,
           -8.178414611296851,
           -8.137613916108524,
           -8.065580938798082,
           -7.697383432992343,
           -7.697383432992343,
           -7.647120054945825,
           -7.586598534647397,
           -7.615917148991476,
           -7.538627703320696,
           -7.557591775248843,
           -7.469204030373963,
           -7.40491035337302,
           -7.362915562286893,
           -7.357395417137017,
           -7.240728318603178,
           -7.198749125149762,
           -7.111889305327273,
           -6.7722650394863315,
           -6.758095426579716,
           -6.758095426579716,
           -6.729893028084371,
           -6.714669833258927,
           -6.625116728073602,
           -6.530072957789362,
           -6.388285909596791,
           -6.399123748684547,
           -6.403697462381732,
           -6.369204459123624,
           -6.317384828020858,
           -6.163733773022943,
           -5.977622926562126,
           -5.947127634209322,
           -5.890558164694295,
           -5.898843925378693,
           -5.828500947063973,
           -5.769361055665199,
           -5.7009697646778745,
           -5.7009697646778745,
           -5.671991114261992,
           -5.626054953668248,
           -5.662455570870966,
           -5.6329317966157815,
           -5.576978692237221,
           -5.565328552202526,
           -5.542117044053373,
           -5.566347435287069,
           -5.503980141343215,
           -5.414082913075375,
           -5.414082913075375,
           -5.423469237092781,
           -5.449181718411967,
           -5.402772344796772,
           -5.190368003291226,
           -5.153156057859678,
           -5.148918266856876,
           -5.11302950786641,
           -5.072639871609034,
           -5.100355080670244,
           -5.100642030396254,
           -4.959927184810297,
           -5.017626939458112,
           -4.939972428719023,
           -4.964602323085708,
           -4.967412994189174,
           -4.875852218752275,
           -4.875852218752275,
           -4.886135278659881,
           -4.909084157885837,
           -4.828439621637352,
           -4.828439621637352,
           -4.814172583437236,
           -4.822298082741702,
           -4.861428650628929,
           -4.843531061940214,
           -4.843531061940214,
           -4.845798956305185,
           -4.740663447578181,
           -4.752353689856399,
           -4.752353689856399,
           -4.764263825897414,
           -4.795449606128098,
           -4.711085920838996,
           -4.714589659622712,
           -4.717018217156792,
           -4.644432477738923,
           -4.644432477738923,
           -4.705906830158025,
           -4.7493979443509176,
           -4.730141028390297,
           -4.661228538195854,
           -4.6606609993550165,
           -4.630544533233945,
           -4.627871824433402,
           -4.627871824433402,
           -4.602133833072555,
           -4.602133833072555,
           -4.691661753752245,
           -4.635454734220572,
           -4.598595395862426,
           -4.5574897343054515,
           -4.545337893431015,
           -4.584669903538667,
           -4.648294962049323,
           -4.593371890457226,
           -4.514757957349479,
           -4.586519717102579,
           -4.586519717102579,
           -4.527873498334095,
           -4.487965212321768,
           -4.516873414857021,
           -4.516873414857021,
           -4.458111293411875,
           -4.520177836681594,
           -4.490101328982974,
           -4.473491425582765,
           -4.432140274827979,
           -4.432140274827979,
           -4.451566499466923,
           -4.4482722511042505,
           -4.438078766159077,
           -4.3900663512382625,
           -4.417342862877431,
           -4.462743688120091,
           -4.417576860534996,
           -4.417576860534996,
           -4.433081851236505,
           -4.404579842948953,
           -4.366252586994886,
           -4.387623968997086,
           -4.387623968997086,
           -4.371285888168402,
           -4.371285888168402,
           -4.349261860936601,
           -4.365642994698322,
           -4.365642994698322,
           -4.368063987384284,
           -4.329439045804588,
           -4.328583472181599,
           -4.299952012063272,
           -4.299858214248787,
           -4.279445656084168,
           -4.284140573707172,
           -4.283650982363672,
           -4.283650982363672,
           -4.293751562901543,
           -4.3032392426795605,
           -4.251606194064736,
           -4.2770400362865555,
           -4.263522342314944,
           -4.263522342314944,
           -4.265912911480534,
           -4.249075334395029,
           -4.249075334395029,
           -4.275172193143536,
           -4.284206950705347,
           -4.249282747693501,
           -4.230164272004047,
           -4.257541929377058,
           -4.2302643015398615,
           -4.21454457796208,
           -4.225559278895996,
           -4.198545272385442,
           -4.2340274348348,
           -4.2003097539046514,
           -4.180155665533266,
           -4.150690740591778,
           -4.236293799823605,
           -4.139741592005316,
           -4.139741592005316,
           -4.187975661307957,
           -4.2033655068144915,
           -4.195738589998942,
           -4.122831553511499,
           -4.067069352309562,
           -4.071279678134188,
           -4.071279678134188,
           -4.0739494689857905,
           -4.0739494689857905,
           -4.10171961113189,
           -4.143411365372867,
           -4.147828996621814,
           -4.11189032716087,
           -4.078840636409415,
           -4.049913627747869,
           -4.075745652453726,
           -4.068077353081343,
           -4.116790938873537,
           -4.06048707654845,
           -4.047017528390417,
           -4.020870517093547,
           -4.031214094036244,
           -4.040977399073862,
           -4.013190043034929,
           -4.0868861109758035,
           -4.012958499834548,
           -4.092112701305518,
           -4.000033510122381,
           -4.000033510122381,
           -4.009298180857747,
           -4.012200725855566,
           -3.9835799887195393,
           -3.967166275516631,
           -3.9671058320609154,
           -3.962794038279952,
           -3.962794038279952,
           -4.027677631289033,
           -4.033898661902815,
           -3.976334315921921,
           -4.00895130202131,
           -4.019257358508111,
           -4.009164659119917,
           -3.843272705355371,
           -3.928366404171271,
           -3.919631627577022,
           -3.8963060041691615,
           -3.9703549575348696,
           -3.961044406425073,
           -3.9753785763200074,
           -3.9532797492491105,
           -3.8719173590515665,
           -3.949063287390276,
           -3.949063287390276,
           -3.9369218427642316,
           -3.8373775128709875,
           -3.917052324062032,
           -3.8320984404967047,
           -3.810321352926051,
           -3.773530085052011,
           -3.794699314259864,
           -3.794699314259864,
           -3.801945342799426,
           -3.7285513614891075,
           -3.8767452368572455,
           -3.7911300677730027,
           -3.765200429805007,
           -3.765200429805007,
           -3.765200429805007,
           -3.7901051874460925,
           -3.752489152103383,
           -3.752489152103383,
           -3.6871919507858837,
           -3.7533000173152917,
           -3.8282143494377094,
           -3.6686485650521488,
           -3.6870456518219874,
           -3.6654539734332516,
           -3.713384094432273,
           -3.7824049621899567,
           -3.7310637550225896,
           -3.7264151344777923,
           -3.7155838958392073,
           -3.6749946077080033,
           -3.6944748047461067,
           -3.7727180637842626,
           -3.692110253853674,
           -3.7751183372684225,
           -3.6546809884278617,
           -3.744612727332261,
           -3.686409940914836,
           -3.637578725964637,
           -3.6847641187809668,
           -3.6670004345329823,
           -3.603965118272196,
           -3.6644384294006853,
           -3.739786890300732,
           -3.6336653016561145,
           -3.5836566450274017,
           -3.636150073255478,
           -3.610324139791935,
           -3.610324139791935,
           -3.6161675499079386,
           -3.607195812392767,
           -3.5501160632246487,
           -3.598133260570623,
           -3.5936087267682004,
           -3.526967918865485,
           -3.581171024297524,
           -3.5272556649661415,
           -3.5186997837267153,
           -3.5251725643757634,
           -3.538626770055001,
           -3.5556200051605096,
           -3.565993140229398,
           -3.5288897800322894,
           -3.538392952202864,
           -3.630658713564611,
           -3.503011464772417,
           -3.5291542207782265,
           -3.4130258625579644,
           -3.504551538586185,
           -3.3278745428060033,
           -3.4449265458917258,
           -3.3959866830277865,
           -3.3843698072744672,
           -3.3289113834017527,
           -3.2885199797018734,
           -3.2771821330800157,
           -3.2682441411556136,
           -3.15693163996885,
           -3.121734591301644,
           -3.1081682987563477,
           -3.101779885078141,
           -3.098085809505892,
           -3.0418113838380076,
           -3.0280591376093606,
           -3.027551672008528,
           -3.019537541542711,
           -3.0126188196342563,
           -3.0053956055598037,
           -3.0053956055598037,
           -0.3570392214400567,
           -0.3540271550302272,
           -0.35249752318219685,
           -0.34952772131615184,
           -0.349235628417716,
           -0.3494362148103582,
           -0.34554438151742173,
           -0.3473085161209827,
           -0.33948953616257094,
           -0.33948953616257094,
           -0.3407594672323568,
           -0.33792244874363747,
           -0.3361264823342426,
           -0.33486078026292593,
           -0.33534553381877175,
           -0.3332467852184313,
           -0.3321778451200496,
           -0.33065334710073757,
           -0.3308544636359624,
           -0.3285471369104435,
           -0.32489664905949833,
           -0.32733739136453316,
           -0.32623676128222084,
           -0.32566114927770434,
           -0.3243545860841416,
           -0.32263366148824724,
           -0.32263366148824724,
           -0.3232488073426139,
           -0.32405217558848276,
           -0.32405217558848276,
           -0.3219083633329978,
           -0.3224155705544667,
           -0.3164119987168471,
           -0.32127078917130997,
           -0.31855722153304167,
           -0.3206619900856753,
           -0.31615703081266694,
           -0.31395768190040413,
           -0.3124383698846656,
           -0.31284005621099653,
           -0.31015069319560135,
           -0.3060369985574977,
           -0.30847515455781777,
           -0.30847515455781777,
           -0.29962842070153034,
           -0.300276297851165,
           -0.30387497951478315,
           -0.3030805971289601,
           -0.29640267324457853,
           -0.3003997038176298,
           -0.2985764985548698,
           -0.2942196825793537,
           -0.29770709275128326,
           -0.2938727743796033,
           -0.29487882770756485,
           -0.2923573933143792,
           -0.2923573933143792,
           -0.2929861897283888,
           -0.29264706103190785,
           -0.2966241940114018,
           -0.2941917519050143,
           -0.29542613029130893,
           -0.29262278088872257,
           -0.2914320527337959,
           -0.29024563014209265,
           -0.2876756399213018,
           -0.2869601226201889,
           -0.2866096108722228,
           -0.28413085685711026,
           -0.2825465951260202,
           -0.28515195369766677,
           -0.28259435383819365,
           -0.2822348959257198,
           -0.2822348959257198,
           -0.28249831655873914,
           -0.28249831655873914,
           -0.2813772944919006,
           -0.2795573298206531,
           -0.2809714813455655,
           -0.27927989157354616,
           -0.2767829379154182,
           -0.279235478078414,
           -0.27862292865282356,
           -0.2755471966266959,
           -0.2755656308125042,
           -0.27271066113859044,
           -0.27271066113859044,
           -0.27271066113859044,
           -0.27283521215861495,
           -0.27283521215861495,
           -0.27075848991094986,
           -0.2720267302370767,
           -0.2713799834019502,
           -0.27048336677592355,
           -0.2656589192283954,
           -0.2578841837903859,
           -0.2578841837903859,
           -0.2583599620162621,
           -0.25627236639126677,
           -0.25473724497861955,
           -0.25473724497861955,
           -0.25455395831877403,
           -0.2534549051607198,
           -0.2488151130096858,
           -0.2501019579700904,
           -0.24809489141903093,
           -0.24542273050016067,
           -0.24470843795258965,
           -0.2451588047386703,
           -0.24321205423746675,
           -0.24131059028863025,
           -0.24391619995209696,
           -0.24134786504050032,
           -0.2416266191328661,
           -0.23985221395440093,
           -0.24022340543494086,
           -0.23754624656068285,
           -0.23754624656068285,
           -0.2341705304113015,
           -0.2356918871074146,
           -0.2334641011697468,
           -0.2341813596316081,
           -0.23124106235884992,
           -0.2308828543391274,
           -0.23262189093805885,
           -0.23057381831478058,
           -0.22734179993917963,
           -0.2295467776356044,
           -0.22713429092778747,
           -0.22349371423536676,
           -0.2215136248538651,
           -0.22197343318081902,
           -0.22271898961302142,
           -0.22456185220760663,
           -0.21992711020546715,
           -0.21898633116338953,
           -0.21821815474219605,
           -0.21821815474219605,
           -0.21725863507538945,
           -0.2177081999581746,
           -0.22474207278956135,
           -0.21629948365104304,
           -0.21737216523940403,
           -0.22523693044371443,
           -0.21541027170436178,
           -0.22377751109054816,
           -0.22055846687724348,
           -0.218382063860927,
           -0.21715207020883392,
           -0.21284930092797033,
           -0.2162706019794257,
           -0.2119807722842737,
           -0.2119807722842737,
           -0.21151825275443142,
           -0.20929678924997333,
           -0.21444428078185446,
           -0.20994968496113686,
           -0.20994968496113686,
           -0.2190673792578188,
           -0.21741634635237753,
           -0.21228401201807365,
           -0.20921497926579066,
           -0.21132243416826585,
           -0.21920583405847538,
           -0.21370380583803233,
           -0.2108738152259333,
           -0.2063085250226284,
           -0.20861368805578429,
           -0.20861368805578429,
           -0.21226069174585524,
           -0.20979853936561096,
           -0.20979853936561096,
           -0.21744248629246377,
           -0.20331432418884762,
           -0.21582882584874383,
           -0.2167078833248272,
           -0.20203014549017656,
           -0.21241125750327736,
           -0.21241067629018634,
           -0.210855005312714,
           -0.21287854591704067,
           -0.2093176313065788,
           -0.21014134974165954,
           -0.21487295195602263,
           -0.20515657724768063,
           -0.20725044171455523,
           -0.21606302723577372,
           -0.21606302723577372,
           -0.21420664501358838,
           -0.21155530685729912,
           -0.21155530685729912,
           -0.19991047908949822,
           -0.19991047908949822,
           -0.20738196709561835,
           -0.20711008835690006,
           -0.2102580351863608,
           -0.2102580351863608,
           -0.20962814603534277,
           -0.21072763370251046,
           -0.20892285113720946,
           -0.20953909834378015,
           -0.20953909834378015,
           -0.21485680047015895,
           -0.20340132866880403,
           -0.20340132866880403,
           -0.2023919679875544,
           -0.20731961846024763,
           -0.20432452621343924,
           -0.20432452621343924,
           -0.20548828215014533,
           -0.2072556143741409,
           -0.2072556143741409,
           -0.20466092670652922,
           -0.19984916058953905,
           -0.20611981229154738,
           -0.20611981229154738,
           -0.20268897813805806,
           -0.20846065265169067,
           -0.20589093302986738,
           -0.2024261760993527,
           -0.2036605293377784,
           -0.20491623998519023,
           -0.20491623998519023,
           -0.20413463256125705,
           -0.20565465777750983,
           -0.20836375456580755,
           -0.20279087259807135,
           -0.2003937543147306,
           -0.2003937543147306,
           -0.20131211332317292,
           -0.2040215465513652,
           -0.20612381830526316,
           -0.20253836393760768,
           -0.1988122201787533,
           -0.20357141770161588,
           -0.20357141770161588,
           -0.20246858839053425,
           -0.20918081106828765,
           -0.19667627562134188,
           -0.21009545206683874,
           -0.2022730967285381,
           -0.1985021522251066,
           -0.1985021522251066,
           -0.19757532235920228,
           -0.19423318265010805,
           -0.2050112650968312,
           -0.1960312425442408,
           -0.1960312425442408,
           -0.19774751735376572,
           -0.19774751735376572,
           -0.1922197081866929,
           -0.19272169383746243,
           -0.1968654141886074,
           -0.19343608191891346,
           -0.19238514668823833,
           -0.19468809630649878,
           -0.196294402515056,
           -0.20476719852765116,
           -0.1947283448962042,
           -0.19069025188401215,
           -0.19069025188401215,
           -0.1905443047135287,
           -0.193023479452596,
           -0.1942932198257552,
           -0.2035794483682488,
           -0.2035794483682488,
           -0.17826059186439544,
           -0.19303561866718125,
           -0.19206410932227952,
           -0.19456263639443155,
           -0.1878400842816877,
           -0.2022243123751174,
           -0.19094558634212944,
           -0.18945230574039318,
           -0.1781143457434192,
           -0.18699407560521605,
           -0.19142874597240334,
           -0.20165301122356116,
           -0.18782158397101192,
           -0.18483898583783862,
           -0.18483898583783862,
           -0.19975273472682964,
           -0.20089656955105498,
           -0.1887697053395352,
           -0.18655989316847288,
           -0.18655989316847288,
           -0.19974312431062483,
           -0.18406926099132284,
           -0.18374172946643275,
           -0.1735280171119256,
           -0.18550359206675057,
           -0.17639665638379706,
           -0.1783030585808078,
           -0.18164883382734726,
           -0.1781640743539366,
           -0.19643836032842876,
           -0.17993647933044288,
           -0.180659925696093,
           -0.180659925696093,
           -0.17048824971687515,
           -0.1710440758748135,
           -0.18468411068530124,
           -0.17484561183338293,
           -0.17282650083831472,
           -0.1802558564453844,
           -0.19183298195083812,
           -0.18168061775874186,
           -0.17628739687939568,
           -0.1914352326060361,
           -0.1896855133481673,
           -0.17762760383311244,
           -0.1715276924243343,
           -0.17483799773540093,
           -0.17483799773540093,
           -0.17703615827077868,
           -0.1808972691737103,
           -0.19241553563416572,
           -0.17900805502045364,
           -0.17573650344910105,
           -0.17986628603663726,
           -0.16759302816960525,
           -0.17034871899562032,
           -0.18975232282256868,
           -0.18725923132639502,
           -0.17355953346929992,
           -0.17762676392313131,
           -0.1723696689695901,
           -0.1658963749612998,
           -0.17035963959255968,
           -0.18809471620794133,
           -0.169806782890426,
           -0.169806782890426,
           -0.17373997119111717,
           -0.16661204531955978,
           -0.1699651104519848,
           -0.16318029031862621,
           -0.17119602125939826,
           -0.17119602125939826,
           -0.17161371991501703,
           -0.16380899613136243,
           -0.1696845118303842,
           -0.1651787390339832,
           -0.18387860015049892,
           -0.1664266468269371,
           -0.16766427409921594,
           -0.16278662420251744,
           -0.1663391327513701,
           -0.16114898222795562,
           -0.18171781687065147,
           -0.1658213272231409,
           -0.15878859938042064,
           -0.16621314717160482,
           -0.1610812617403308,
           -0.16045094030615661,
           -0.15662910718116935,
           -0.15662910718116935,
           -0.1623610035686243,
           -0.1551837378246907,
           -0.1597546212398371,
           -0.15424866405100512,
           -0.1567423882625962,
           -0.1702014712034406,
           -0.15214895223164854,
           -0.15592782342720052,
           -0.15209397056568874,
           -0.14923977926319262,
           -0.14666057339746208,
           -0.16370598095980618,
           -0.14552688411303494,
           -0.14440632418835153,
           -0.1433903516046982,
           -0.15715063804790255,
           -0.15715063804790255,
           -0.15610378803503885,
           -0.15610378803503885,
           -0.14048623975381183,
           -0.13745409195966263,
           -0.1466619939759428,
           -0.1438684313158712,
           -0.13732765394756308,
           -0.13605383661676046,
           -0.13698251599077643,
           -0.13495401741098315
          ],
          "colorscale": [
           [
            0,
            "#440154"
           ],
           [
            0.1111111111111111,
            "#482878"
           ],
           [
            0.2222222222222222,
            "#3e4989"
           ],
           [
            0.3333333333333333,
            "#31688e"
           ],
           [
            0.4444444444444444,
            "#26828e"
           ],
           [
            0.5555555555555556,
            "#1f9e89"
           ],
           [
            0.6666666666666666,
            "#35b779"
           ],
           [
            0.7777777777777778,
            "#6ece58"
           ],
           [
            0.8888888888888888,
            "#b5de2b"
           ],
           [
            1,
            "#fde725"
           ]
          ],
          "size": 2
         },
         "mode": "markers",
         "type": "scatter3d",
         "x": [
          -3.0180826836719676,
          -2.755793027018558,
          -2.563852322074738,
          -2.595139442691503,
          -2.5934265801670415,
          -2.4168199336070915,
          -2.0724560234647424,
          -2.0553670362203325,
          -1.9457922811433097,
          -1.9040524806988917,
          -1.9040524806988917,
          -1.8288254382005256,
          -1.8127836791468461,
          -1.703932409496751,
          -1.7195834675568664,
          -1.6329545360083548,
          -1.6094860459034832,
          -1.5665298112195627,
          -1.5641999916928988,
          -1.3792245468923392,
          -1.3525344751828594,
          -1.3525344751828594,
          -1.3465682512060446,
          -1.2961719946400445,
          -1.2810543417557005,
          -1.2826971371773779,
          -1.2242007513664739,
          -1.1965982365315861,
          -1.1238739246594887,
          -1.0846667158616514,
          -1.053124707237068,
          -1.0584069733580772,
          -1.0441190128672218,
          -1.0436526874050003,
          -1.007750681339181,
          -1.007750681339181,
          -0.9768771013205517,
          -0.952373616536537,
          -0.9332601474238363,
          -0.9199460360977065,
          -0.9361657983189471,
          -0.9280270821116816,
          -0.904111538922944,
          -0.8757529932365923,
          -0.8642951190753948,
          -0.8685319245617434,
          -0.8547481751637279,
          -0.8308366791322095,
          -0.836056904856765,
          -0.777124150283328,
          -0.769209798560119,
          -0.773578412888725,
          -0.7610871640801158,
          -0.7712034832956821,
          -0.733993903985032,
          -0.7407289263492249,
          -0.7417608473723748,
          -0.7215761263961269,
          -0.7009437814345336,
          -0.6840602154357999,
          -0.6840602154357999,
          -0.6845580960362264,
          -0.6656913785749006,
          -0.6675722217625303,
          -0.6550472191263497,
          -0.6511486971461383,
          -0.6511486971461383,
          -0.6380462459260811,
          -0.626098253431953,
          -0.6202400594494839,
          -0.6245010648026029,
          -0.6091204808968346,
          -0.6091204808968346,
          -0.6056469459222078,
          -0.5955286860561818,
          -0.5470594146161278,
          -0.5470594146161278,
          -0.5416189925282774,
          -0.5361885668018297,
          -0.5352490673089514,
          -0.5258634148737741,
          -0.5271380604415207,
          -0.5139319222120052,
          -0.5065981350852159,
          -0.5029335410727167,
          -0.5004677920447084,
          -0.4840645603673384,
          -0.4799707193559123,
          -0.46825154433796096,
          -0.4229940955175731,
          -0.42086857005639217,
          -0.42086857005639217,
          -0.4168693819414493,
          -0.41476572812116913,
          -0.40104627144904936,
          -0.3887522634564456,
          -0.3738345895617746,
          -0.37442476550057996,
          -0.3727681295052629,
          -0.36729217813247284,
          -0.3615278678909203,
          -0.3401230361666193,
          -0.31892687004604003,
          -0.31186517475372555,
          -0.30418869930663184,
          -0.3040728909274095,
          -0.2967628403668339,
          -0.28758511749538307,
          -0.2775791767592646,
          -0.2775791767592646,
          -0.27372732414147993,
          -0.27133793639485365,
          -0.27301879166642967,
          -0.26772140879209383,
          -0.2613193834992495,
          -0.25864129688437226,
          -0.25696805815063084,
          -0.25624976201063554,
          -0.25215488857100904,
          -0.23984803338654498,
          -0.23984803338654498,
          -0.23941174734002155,
          -0.24015098892021994,
          -0.23805342613781488,
          -0.20729385529239794,
          -0.20355624473033687,
          -0.20232073640962617,
          -0.19220372365991178,
          -0.18685198834496516,
          -0.18726485993311032,
          -0.18387790085324587,
          -0.1771480397798891,
          -0.1732032269370109,
          -0.16797173194215573,
          -0.16643641113538646,
          -0.1660332956007118,
          -0.1591833762712684,
          -0.1591833762712684,
          -0.15908384810305987,
          -0.15853839236385672,
          -0.15190014472175947,
          -0.15190014472175947,
          -0.15060401343316107,
          -0.14953494489063285,
          -0.15010967134198772,
          -0.14689260944757362,
          -0.14689260944757362,
          -0.14586966007048746,
          -0.1401271317681877,
          -0.1373661487602901,
          -0.1373661487602901,
          -0.13729691811926012,
          -0.13663779358399578,
          -0.1325930829664837,
          -0.12957495756293502,
          -0.12806343927937608,
          -0.1258428658648353,
          -0.1258428658648353,
          -0.1273976153901555,
          -0.12835110604958166,
          -0.12675831828671677,
          -0.12505889469878467,
          -0.12415959016643097,
          -0.12160126972100897,
          -0.12082257130021301,
          -0.12082257130021301,
          -0.11998908753946783,
          -0.11998908753946783,
          -0.12181203767876113,
          -0.11905164278244389,
          -0.1175174409959787,
          -0.11337300924032678,
          -0.11257897978176684,
          -0.11321477227606645,
          -0.11375268744183753,
          -0.11088635748229568,
          -0.10544863612382303,
          -0.10493497149141831,
          -0.10493497149141831,
          -0.10059780706261767,
          -0.09933623006793035,
          -0.09702898556586902,
          -0.09702898556586902,
          -0.09492341584609855,
          -0.09554693555966186,
          -0.09456380679140944,
          -0.09413715176958078,
          -0.09228247987889365,
          -0.09228247987889365,
          -0.0912964653466357,
          -0.08947621930836366,
          -0.08903909645575266,
          -0.08679425052007769,
          -0.08682996100149788,
          -0.08739649237444301,
          -0.08636463346344302,
          -0.08636463346344302,
          -0.086471233118208,
          -0.08554779674309332,
          -0.08237699747350788,
          -0.0819267789665883,
          -0.0819267789665883,
          -0.08138465241063256,
          -0.08138465241063256,
          -0.07990946675830138,
          -0.07945333023201467,
          -0.07945333023201467,
          -0.0790874168629372,
          -0.07700136035381488,
          -0.07499703980309201,
          -0.07361150503836854,
          -0.07212830021192086,
          -0.07145348340127214,
          -0.07077200818634294,
          -0.07030997452001889,
          -0.07030997452001889,
          -0.07011223558672594,
          -0.06891571774019001,
          -0.06714373898222575,
          -0.06727536332489291,
          -0.06624416835930953,
          -0.06624416835930953,
          -0.0655224593925141,
          -0.0652162602416004,
          -0.0652162602416004,
          -0.0653776530856957,
          -0.06550786074502796,
          -0.06452397962392324,
          -0.06349697862756645,
          -0.0636939947346575,
          -0.06284252555883206,
          -0.06160377939644217,
          -0.060360464818442656,
          -0.05890321446643198,
          -0.05934250501168584,
          -0.05634204398283547,
          -0.05592229763133996,
          -0.055401848563678524,
          -0.0564133140209526,
          -0.05489429803163674,
          -0.05489429803163674,
          -0.05538384383021014,
          -0.05202348510585326,
          -0.05075377965758578,
          -0.04814035054674583,
          -0.04633568618710724,
          -0.04619367294208282,
          -0.04619367294208282,
          -0.04588204617795406,
          -0.04588204617795406,
          -0.04547903824117118,
          -0.0450338566463504,
          -0.044761035883819376,
          -0.04408881716856679,
          -0.042932979267288146,
          -0.041655861056641985,
          -0.04185054661233789,
          -0.04109845368256259,
          -0.04034832663064529,
          -0.03967274074208179,
          -0.039160989350857905,
          -0.038817179388876265,
          -0.038431037721335756,
          -0.03797028885189596,
          -0.03755645222895919,
          -0.03764742792809945,
          -0.03638008002947086,
          -0.036851886562579726,
          -0.03440994624253873,
          -0.03440994624253873,
          -0.03429437203090881,
          -0.0329817438186101,
          -0.03108637032845491,
          -0.03097285517572698,
          -0.030243576276768908,
          -0.029394674633803727,
          -0.029394674633803727,
          -0.029057168163702275,
          -0.02887811715966112,
          -0.028410244360676525,
          -0.027978983663432624,
          -0.027412937619735473,
          -0.02653183740421263,
          -0.025555721998090277,
          -0.024646487177548294,
          -0.02331051646164394,
          -0.021896914074237484,
          -0.02102979629042605,
          -0.020666186434078217,
          -0.020426549465566678,
          -0.01934377948436367,
          -0.017653829511023754,
          -0.01771999482937937,
          -0.01771999482937937,
          -0.015807519759182376,
          -0.014657306928422846,
          -0.014567395464424737,
          -0.013293875874388792,
          -0.010293985663384568,
          -0.00971262041516903,
          -0.009153393845543095,
          -0.009153393845543095,
          -0.008700365222941936,
          -0.008590379940023117,
          -0.008604618972470675,
          -0.00841689833022527,
          -0.008148743451064174,
          -0.008148743451064174,
          -0.008148743451064174,
          -0.006384363169628973,
          -0.00634093854929768,
          -0.00634093854929768,
          -0.004722341757668414,
          -0.0046892343241740405,
          -0.004479811391999166,
          -0.00153301153495935,
          -0.0005823498574162183,
          0.000024554791973911916,
          0.00015477682673714277,
          0.0008429008628663041,
          0.0010700249073669402,
          0.0013488899581520807,
          0.0014269551491976158,
          0.0015865334402511047,
          0.001624117663495971,
          0.003399154162573341,
          0.0032975541180192795,
          0.00424513594775676,
          0.004367487102093314,
          0.005824581901454732,
          0.00642685669634797,
          0.006265243883016659,
          0.0069771102054237534,
          0.007597460289198177,
          0.007539941004123255,
          0.008373119750002113,
          0.009420551484155307,
          0.01059846782110635,
          0.010635168062929886,
          0.012092037005224082,
          0.01207296562277134,
          0.01207296562277134,
          0.012157777945391322,
          0.01476843405447823,
          0.015758888852521802,
          0.016595110892523586,
          0.016906552809439035,
          0.01754277945802919,
          0.01797805365193356,
          0.01890473110210677,
          0.019099965533176538,
          0.01964111489005955,
          0.02010343574686528,
          0.02038837501146397,
          0.021425535114290236,
          0.02172905834830227,
          0.02243857148510036,
          0.023778823422444518,
          0.02343692559143463,
          0.024515827189869024,
          0.03508336332834379,
          0.036604281441034545,
          0.04470011956126675,
          0.047455984879056674,
          0.04934882167918018,
          0.049958655129134145,
          0.05818563267247975,
          0.06307524046729564,
          0.06409529580989154,
          0.0646705174702256,
          0.07814147128179656,
          0.0815245982733914,
          0.08427327590523212,
          0.08480033797772621,
          0.08570443426623758,
          0.09295148687578181,
          0.09387080497692996,
          0.09454251519585212,
          0.09602498989958196,
          0.09737208379056872,
          0.09744816359695006,
          0.09744816359695006,
          0.9606901024830823,
          0.9607229996622767,
          0.9608694874729029,
          0.9602956035450879,
          0.9604535207822188,
          0.9608091875507968,
          0.960254044929531,
          0.9603598914194146,
          0.9601227190938397,
          0.9601227190938397,
          0.9605149872590689,
          0.9600329293130163,
          0.9600218957013649,
          0.9601419129013488,
          0.9604704666814939,
          0.9602400824463662,
          0.960685610505247,
          0.9601234643416062,
          0.9604507937909365,
          0.9601966695698171,
          0.9597992026080245,
          0.9604196399234696,
          0.9601030890960628,
          0.9600163689813737,
          0.9602174584293605,
          0.9598671383967518,
          0.9598671383967518,
          0.9600179115647237,
          0.9604148698463258,
          0.9604148698463258,
          0.9601297667652241,
          0.9603784256328511,
          0.959241731174446,
          0.9603853101203221,
          0.9597033274250476,
          0.9602038016203805,
          0.9597991264797823,
          0.9600432159250689,
          0.9599939395200395,
          0.960826152215431,
          0.960158657684268,
          0.959034758376577,
          0.9598123559007884,
          0.9598123559007884,
          0.9585879834564686,
          0.9587234159269288,
          0.9605104296537497,
          0.9603554040399608,
          0.9587716218937964,
          0.9597393395593944,
          0.9593837969481923,
          0.9585287482900756,
          0.9602154336779015,
          0.9588691735988005,
          0.9591431935367873,
          0.9585479320296834,
          0.9585479320296834,
          0.9592028882771126,
          0.9587561282182329,
          0.9600166217711553,
          0.9595440503565009,
          0.9601762416089626,
          0.9595290875322803,
          0.9594268489311463,
          0.9593847287593865,
          0.9588914381411905,
          0.9590703251401675,
          0.9592930379896413,
          0.9586872174091059,
          0.9585704945327496,
          0.9595029171499413,
          0.9586106420476297,
          0.9590043824673333,
          0.9590043824673333,
          0.9590117950771617,
          0.9590117950771617,
          0.9591546484206336,
          0.9589200222397969,
          0.9595452149845718,
          0.9591695472535707,
          0.9588811524307954,
          0.9598159534136647,
          0.9599597729931049,
          0.9595392816963059,
          0.9599983518691514,
          0.9597886304546752,
          0.9597886304546752,
          0.9597886304546752,
          0.9593474524989408,
          0.9593474524989408,
          0.9590606769361324,
          0.9600946678956479,
          0.95998102300284,
          0.9598685447637012,
          0.9603293828213241,
          0.9600988006423996,
          0.9600988006423996,
          0.9605600935496698,
          0.961454519725479,
          0.9613705212882516,
          0.9613705212882516,
          0.9615253348673268,
          0.9609691861634899,
          0.9607725561801594,
          0.961826843943577,
          0.962201188211674,
          0.9621668751683721,
          0.9621220448190315,
          0.9628262019539189,
          0.9616350918433036,
          0.961707728202862,
          0.9628395916576911,
          0.962615562743436,
          0.9630297618297834,
          0.9622356787212356,
          0.9623764035677693,
          0.9632320893308807,
          0.9632320893308807,
          0.9625788257970301,
          0.9638128818308707,
          0.9631970750458582,
          0.9636739647944802,
          0.9633011263909056,
          0.9638886200343789,
          0.9648071909978732,
          0.9643046496553931,
          0.9642958655863768,
          0.9652418771275795,
          0.9654958127855853,
          0.9650679448039983,
          0.9651504007805055,
          0.9654710544179478,
          0.9659107380262867,
          0.966592724110999,
          0.9659246056939838,
          0.9659632567695992,
          0.9659817450038818,
          0.9659817450038818,
          0.9656928021408472,
          0.9658524933003021,
          0.9675578796623413,
          0.965951884495703,
          0.9668393111161315,
          0.9679597610734669,
          0.9663470027650316,
          0.9682595481119023,
          0.9681181670409931,
          0.9681428219596274,
          0.9681589865940784,
          0.9674459714083259,
          0.9681996336439425,
          0.9678160610206057,
          0.9678160610206057,
          0.9677500157152091,
          0.9672898817872924,
          0.9684090023561244,
          0.9677818140305763,
          0.9677818140305763,
          0.969178931085504,
          0.9688276964693742,
          0.9684379945111182,
          0.9682239779789078,
          0.9687118839630484,
          0.9698071747178318,
          0.9691342920880688,
          0.9690223630649102,
          0.968665049390762,
          0.9689472619561493,
          0.9689472619561493,
          0.9691897373988531,
          0.9693119224056469,
          0.9693119224056469,
          0.9700730061779607,
          0.9689547088616219,
          0.9703178820767846,
          0.9703721279228449,
          0.9691067192203694,
          0.9700589615175248,
          0.9700560608596911,
          0.9698569684873963,
          0.9704479580608046,
          0.9698503741389499,
          0.9701245214294854,
          0.9706963082243178,
          0.9700047215583036,
          0.9702120645294728,
          0.9709957400927541,
          0.9709957400927541,
          0.9710223595153097,
          0.9708907547713393,
          0.9708907547713393,
          0.9702822841720434,
          0.9702822841720434,
          0.970554461114319,
          0.9705198363580863,
          0.9710392851615741,
          0.9710392851615741,
          0.9709669835915125,
          0.9710622352669429,
          0.9713661867433505,
          0.9714192927287002,
          0.9714192927287002,
          0.97150086898199,
          0.971065927911393,
          0.971065927911393,
          0.9709122426092138,
          0.9714705243174868,
          0.9713402789811884,
          0.9713402789811884,
          0.9715003718361347,
          0.9715976861582081,
          0.9715976861582081,
          0.9715152103190435,
          0.9708257863108687,
          0.9717267762383615,
          0.9717267762383615,
          0.9714778294368706,
          0.9718332097852938,
          0.9718579048593109,
          0.9716452038285921,
          0.9717931680023182,
          0.9718613525094764,
          0.9718613525094764,
          0.9718517872244593,
          0.9719474624256642,
          0.971924167955009,
          0.9718733286748623,
          0.971765302406113,
          0.971765302406113,
          0.9720553621610194,
          0.9721552376240714,
          0.9722160308206921,
          0.9722489653634551,
          0.972270351415394,
          0.9723565170821886,
          0.9723565170821886,
          0.9723589117457936,
          0.9721753878643278,
          0.9721619367685626,
          0.9723390806831623,
          0.972505907374694,
          0.9725894844343266,
          0.9725894844343266,
          0.9726695532494861,
          0.9718937405643524,
          0.9724101777628618,
          0.9726372634665957,
          0.9726372634665957,
          0.9729067897841405,
          0.9729067897841405,
          0.971893843001931,
          0.9722104173389733,
          0.9729489530190246,
          0.9726716124259781,
          0.972419727719627,
          0.9731548405124847,
          0.9732046866597558,
          0.9729804413499682,
          0.9732800736833437,
          0.9725140380065495,
          0.9725140380065495,
          0.9727867247346369,
          0.9733966470449329,
          0.9735501951905209,
          0.9733587581730622,
          0.9733587581730622,
          0.970926874425456,
          0.9735420170227052,
          0.9733857507034689,
          0.9736158043798091,
          0.9726613038867974,
          0.9732371825981653,
          0.9737489436520614,
          0.9731873017485921,
          0.9719638604131448,
          0.972899502028072,
          0.9739304642874647,
          0.9735833000472827,
          0.9737765313476595,
          0.97297189157067,
          0.97297189157067,
          0.9734922757245745,
          0.9738435820864528,
          0.9740657524025788,
          0.9734740257557525,
          0.9734740257557525,
          0.9739322185804651,
          0.9734762371335608,
          0.973764781776429,
          0.9720953988735278,
          0.9747177800977223,
          0.9733460367772372,
          0.973472336631391,
          0.9737336430274605,
          0.9736433296632492,
          0.9744614251407597,
          0.9737976806662415,
          0.974048506570818,
          0.974048506570818,
          0.9724812976608058,
          0.9719758255561854,
          0.9749734521144867,
          0.9739384135764416,
          0.9733954770120843,
          0.9745128547335978,
          0.974609468918685,
          0.9754734924328674,
          0.9743020310951567,
          0.9745610935414434,
          0.9744964377370287,
          0.9745594530592274,
          0.9741240993895476,
          0.9743429342697963,
          0.9743429342697963,
          0.9745373631402137,
          0.9757740749781842,
          0.9753976236965126,
          0.9749959023823643,
          0.9746312762426739,
          0.9758837395966571,
          0.9729906818453278,
          0.97400608592097,
          0.9749642311454915,
          0.9749347120248327,
          0.9746704336109697,
          0.9755582309512801,
          0.9752382702737249,
          0.9731675603515725,
          0.9753199819427237,
          0.9760044664989942,
          0.9752036880016582,
          0.9752036880016582,
          0.9756025217466227,
          0.9746525231455867,
          0.9754642649099452,
          0.9735251647461678,
          0.9757717737188594,
          0.9757717737188594,
          0.9757501224343433,
          0.9744601190184405,
          0.9759708333440325,
          0.9755525529387118,
          0.9767082692814162,
          0.9760262290398263,
          0.9760550043824237,
          0.9751441977807782,
          0.9761751344550881,
          0.9751123931032648,
          0.9770903905934412,
          0.9765488605377735,
          0.9752247611875874,
          0.9768247114305173,
          0.9762464510943878,
          0.9765537710792741,
          0.9752418429770967,
          0.9752418429770967,
          0.9772932820912162,
          0.9751303579384597,
          0.9770695988174553,
          0.9757795499465958,
          0.9767950500347666,
          0.9777552165591665,
          0.9757822700859305,
          0.9780984916464034,
          0.97602449141052,
          0.9773909298081805,
          0.9771377737198732,
          0.9793729076615433,
          0.9773047943608989,
          0.9783365133305031,
          0.9779932821180535,
          0.9803917178077379,
          0.9803917178077379,
          0.980498511442991,
          0.980498511442991,
          0.9786651347256939,
          0.9796467195505386,
          0.9832675507941454,
          0.9839768132818597,
          0.9844885913762037,
          0.9851117615113709,
          0.985381104692721,
          0.9852785366102783
         ],
         "y": [
          -0.2525675560840806,
          -0.20625345270667814,
          -0.33840788573268477,
          -0.12147344344710385,
          -0.2820288438426838,
          -0.3472925449999592,
          -0.3825553887737648,
          -0.14308939581395266,
          -0.16065258267369284,
          -0.35428404991368856,
          -0.35428404991368856,
          -0.3890217784606951,
          -0.3610428265859266,
          -0.33261301936199417,
          -0.17380040688811285,
          -0.18539287771583088,
          -0.21753383471925666,
          -0.3742233872679527,
          -0.24696130071963918,
          -0.20424929711673992,
          -0.3643494011034824,
          -0.3643494011034824,
          -0.3023650562043665,
          -0.39077274832653247,
          -0.3014335864641146,
          -0.20738150476540818,
          -0.3745268560881704,
          -0.2908343374963655,
          -0.35986381292371017,
          -0.43407846827891905,
          -0.5673507544920167,
          -0.18269231290715088,
          -0.3247333008175399,
          -0.21814686192359167,
          -0.5893761004422873,
          -0.5893761004422873,
          -0.3666104325104615,
          -0.5034766753688639,
          -0.5569857127554565,
          -0.6162843171152097,
          -0.4164475462306796,
          -0.28783610358790895,
          -0.27117393603224427,
          -0.5904867417377467,
          -0.5536614781669791,
          -0.28041010176287695,
          -0.291737581266992,
          -0.5767472000072077,
          -0.4663146231447417,
          -0.5429694637643779,
          -0.5934319774639191,
          -0.5189855249990518,
          -0.5560674150998625,
          -0.3417848662094215,
          -0.6257445262256358,
          -0.5401899918847242,
          -0.3981447912297067,
          -0.4029157870041807,
          -0.5387969097488763,
          -0.4988152550219949,
          -0.4988152550219949,
          -0.5237215084177014,
          -0.6131288364823562,
          -0.4796444244603457,
          -0.5963256653163946,
          -0.5535415190781268,
          -0.5535415190781268,
          -0.5391718091658246,
          -0.48696732084337857,
          -0.5656283946481545,
          -0.5232910151330148,
          -0.4669191883513599,
          -0.4669191883513599,
          -0.5250775781704938,
          -0.5359598964012946,
          -0.5034879332079583,
          -0.5034879332079583,
          -0.5586377468361268,
          -0.5668563335902401,
          -0.51233237727079,
          -0.5369151060730968,
          -0.4641292662129516,
          -0.43519248827529006,
          -0.40859105861789785,
          -0.5355999912519931,
          -0.43609558217370825,
          -0.43203531596323047,
          -0.45324565651526494,
          -0.5083559460312757,
          -0.4197746159445275,
          -0.4297282748522028,
          -0.4297282748522028,
          -0.37896621714538026,
          -0.47604641053535357,
          -0.3875479183016498,
          -0.38820219293568886,
          -0.4735715478859369,
          -0.4510496201540176,
          -0.4292940993120928,
          -0.37261801571403214,
          -0.3861233415983475,
          -0.34583706379641527,
          -0.4545665197642846,
          -0.39382194141720395,
          -0.3666821544371995,
          -0.33356693419618294,
          -0.40571588421113763,
          -0.3539329002571955,
          -0.3358086044817965,
          -0.3358086044817965,
          -0.357023245979424,
          -0.41771002847254946,
          -0.34646463398546223,
          -0.30768471122064295,
          -0.34496885440695585,
          -0.3266610458677445,
          -0.3653956081459615,
          -0.2619455865354037,
          -0.35183916613249605,
          -0.3579654712142533,
          -0.3579654712142533,
          -0.3035092329987065,
          -0.2550927428083013,
          -0.3488405858502277,
          -0.27680732065283276,
          -0.3023176285273521,
          -0.2939048739001753,
          -0.16281089875962548,
          -0.16734132330105247,
          -0.0958962095848042,
          -0.026402134423078268,
          -0.28454602752231567,
          -0.027541523934599008,
          -0.12703656015412423,
          -0.02931387031174729,
          -0.01841939853141267,
          -0.11929090818857989,
          -0.11929090818857989,
          -0.08939605061485968,
          0.003188823392850131,
          -0.10543919943575972,
          -0.10543919943575972,
          -0.11587189799777631,
          -0.07347973805659606,
          0.024869884760507114,
          0.0635691338261174,
          0.0635691338261174,
          0.045779092510142984,
          -0.11310146682775662,
          -0.037146272681662096,
          -0.037146272681662096,
          0.025518792870325734,
          0.12298390900035469,
          -0.054487975370589296,
          0.044513363933604395,
          0.08179797458709463,
          -0.09524084573584471,
          -0.09524084573584471,
          0.06062512812630248,
          0.20798828590972732,
          0.18437886539873694,
          -0.04547092645211422,
          -0.02914033833464563,
          -0.058631717393783284,
          -0.051109519942055544,
          -0.051109519942055544,
          -0.09905997415743974,
          -0.09905997415743974,
          0.17330096776417345,
          0.020787474188373466,
          -0.06423815280978033,
          -0.08704009325448867,
          -0.09876070167045946,
          -0.014220743582990553,
          0.22669950874571065,
          0.08848899822585489,
          -0.05512386303388205,
          0.23466137192084355,
          0.23466137192084355,
          0.11679611085169185,
          -0.01666784653398246,
          0.17146261902815593,
          0.17146261902815593,
          -0.0018494991088838062,
          0.23301577489070407,
          0.13973727268844638,
          0.10566779366184438,
          -0.025923272373322714,
          -0.025923272373322714,
          0.08517181363439033,
          0.11738481136310715,
          0.09974710049946607,
          -0.03005740385298554,
          0.08053099525637407,
          0.2338486700585074,
          0.09166000125856608,
          0.09166000125856608,
          0.14268561390532747,
          0.06677278443982074,
          -0.004940646753675979,
          0.10276074038299411,
          0.10276074038299411,
          0.06019664076857546,
          0.06019664076857546,
          0.01208290169922258,
          0.09398422068007517,
          0.09398422068007517,
          0.11041858477449595,
          0.02138558837667703,
          0.08059780504414836,
          0.0021862391559924,
          0.0556162286249552,
          -0.01016043790704965,
          0.025231471994495096,
          0.04513619669037866,
          0.04513619669037866,
          0.07447419619992023,
          0.13921519638635976,
          0.01473411313709564,
          0.09632020969909469,
          0.0813690486204588,
          0.0813690486204588,
          0.10092755150201024,
          0.05620147903875012,
          0.05620147903875012,
          0.13313500763561115,
          0.14923242077568996,
          0.06915305111675905,
          0.026945085110612783,
          0.11758727139050809,
          0.05015198318848933,
          0.020964187668815037,
          0.09668565969582141,
          0.04428056721934383,
          0.14077982401283404,
          0.11061170021475746,
          0.05665138664655259,
          -0.05937099888315093,
          0.20114119576437875,
          -0.07708760294362549,
          -0.07708760294362549,
          0.09165468445613373,
          0.21587900706333615,
          0.24905374607507624,
          0.050363757643565744,
          -0.10677844066167785,
          -0.09247862078395519,
          -0.09247862078395519,
          -0.07940736629204984,
          -0.07940736629204984,
          0.06430805698536055,
          0.1697691764840527,
          0.25348652644487224,
          0.12176742884323166,
          0.046299449394921074,
          -0.05276298071847582,
          0.057641888414088745,
          0.021924368007597082,
          0.20877334654747962,
          0.07060205864822752,
          0.04079957832463045,
          -0.08335949329431537,
          -0.03420308821955065,
          0.051653442434152125,
          -0.0763690781892458,
          0.17079696401634578,
          -0.04881105403171748,
          0.3001664828337004,
          -0.038217528041422914,
          -0.038217528041422914,
          0.03794103707286825,
          0.08093012674036612,
          0.02704486722439768,
          -0.06722907674232478,
          -0.0512176154148704,
          -0.03605464388773889,
          -0.03605464388773889,
          0.22932351862782122,
          0.21639179853188956,
          0.07575989223922759,
          0.11209362709142007,
          0.28772164947061235,
          0.17379275048067452,
          -0.2752192004450518,
          0.02920054153748315,
          -0.0046884458469878465,
          -0.06934221338341218,
          0.21211745521295067,
          0.23576122123377174,
          0.1766196827598618,
          0.2643021244582234,
          0.029821158771665572,
          0.19338800644830412,
          0.19338800644830412,
          0.31091444008346675,
          -0.08298765711150058,
          0.2733161375052116,
          -0.06586221737370015,
          -0.060513367089566686,
          -0.1346649782524072,
          -0.0828906950995847,
          -0.0828906950995847,
          0.03009495106006429,
          -0.2536241383823665,
          0.28843848283675444,
          -0.07752110243950315,
          -0.12565064656829242,
          -0.12565064656829242,
          -0.12565064656829242,
          -0.009574765039243519,
          -0.13054961601256004,
          -0.13054961601256004,
          -0.26160420549616903,
          -0.10178296578103721,
          0.22901175134799592,
          -0.2751656670093094,
          -0.19246692021545478,
          -0.25274781134750995,
          -0.10669675602257424,
          0.09207884730943554,
          -0.009923058806011796,
          0.0385174233592244,
          -0.07345076348502305,
          -0.16325445214726506,
          -0.12044957822165518,
          0.20328632875487873,
          -0.0922736246014319,
          0.14670201846254705,
          -0.1785775291374054,
          0.2531916431540651,
          -0.02794984475773378,
          -0.1847987304793679,
          -0.02124611627246206,
          -0.06540037557675249,
          -0.28265583686188434,
          -0.05261309026499121,
          0.29852347797799,
          -0.10028389242612748,
          -0.2685786980808081,
          -0.055337011533965426,
          -0.12717931193717713,
          -0.12717931193717713,
          -0.11524840177578534,
          -0.07757234964884507,
          -0.2579350362513217,
          -0.07002519212449328,
          -0.08869887655578194,
          -0.272640546995793,
          -0.08303727188390499,
          -0.23075848385728695,
          -0.2675885441912152,
          -0.2210612549193535,
          -0.1570710517015212,
          -0.1022016734186561,
          -0.044028647442889195,
          -0.14703599844776447,
          -0.11102890737005587,
          0.3096169684126634,
          -0.19845369473370697,
          -0.07701274361608136,
          -0.17996382431778657,
          0.0792655083265598,
          -0.25006510630247775,
          0.29705332343036045,
          0.03141647644978505,
          0.0252846484134177,
          0.03827683071754092,
          0.04538476452556997,
          0.030431926535665902,
          0.021183522793421457,
          0.04684482324546372,
          0.0482316232724267,
          0.03404225521876626,
          0.006704211135225699,
          0.043934270305474254,
          -0.010870884528090338,
          -0.01363536528934614,
          -0.0034929687049287043,
          0.021848216381672204,
          0.010300433847427648,
          0.001926686952319885,
          0.001926686952319885,
          -0.0119521471910016,
          -0.011090517067344326,
          -0.008164620410838022,
          -0.016844104289164913,
          -0.013157924167203986,
          -0.0082578468528716,
          -0.019184631471979848,
          -0.014243370453366629,
          -0.020120112876641345,
          -0.020120112876641345,
          -0.012658555346704249,
          -0.020936280172921186,
          -0.020309549764982403,
          -0.018298596992133306,
          -0.013187873757440093,
          -0.016852708304094258,
          -0.0118239492139148,
          -0.018843399521316438,
          -0.014334405295824271,
          -0.01790958133621774,
          -0.025343830202796673,
          -0.015481869500996857,
          -0.020273282153043165,
          -0.021690045589008243,
          -0.018930621440619334,
          -0.024831962685822186,
          -0.024831962685822186,
          -0.022190753142900862,
          -0.01630042070875649,
          -0.01630042070875649,
          -0.021017718129971837,
          -0.01705016610053848,
          -0.03693865277605379,
          -0.018290308751648474,
          -0.028585267754943394,
          -0.02009886551469739,
          -0.027817091535783642,
          -0.025452415891712238,
          -0.02643447427269838,
          -0.016139309504802555,
          -0.025523476320130974,
          -0.04180877578809619,
          -0.030570749711956904,
          -0.030570749711956904,
          -0.050517661467210574,
          -0.04776518756968818,
          -0.024382389799364076,
          -0.025619989669447722,
          -0.050572853456547225,
          -0.03540191599610019,
          -0.04135537020814461,
          -0.05397246049119995,
          -0.03167305963878984,
          -0.04969914579233385,
          -0.04557474888383887,
          -0.0544253390875477,
          -0.0544253390875477,
          -0.0476308481886642,
          -0.05134060953008212,
          -0.03362165207256452,
          -0.04153871494808487,
          -0.0325135430276093,
          -0.04289699275273784,
          -0.04454634056457816,
          -0.045993994318913343,
          -0.0530784358746333,
          -0.05118174505664668,
          -0.049023945138887685,
          -0.057302045477875874,
          -0.06059283235586336,
          -0.047791399611939886,
          -0.059435339375555986,
          -0.05554280628506233,
          -0.05554280628506233,
          -0.05459228661719959,
          -0.05459228661719959,
          -0.05360319473920992,
          -0.05799637428316193,
          -0.05010240146484569,
          -0.054670652315730796,
          -0.06079925633461567,
          -0.048770336948707436,
          -0.04639198766277063,
          -0.05342654026802626,
          -0.04927664690289035,
          -0.053171005923271085,
          -0.053171005923271085,
          -0.053171005923271085,
          -0.05665993974592762,
          -0.05665993974592762,
          -0.06227670791613301,
          -0.05000903724249472,
          -0.05177924833881869,
          -0.05341253319521652,
          -0.05273172424587084,
          -0.061580188194584114,
          -0.061580188194584114,
          -0.05594328994837813,
          -0.04887809611768594,
          -0.050602826869849134,
          -0.050602826869849134,
          -0.04956919165108148,
          -0.05608905959912422,
          -0.0626498075975073,
          -0.050749711012282865,
          -0.049528030098499716,
          -0.051773198885007206,
          -0.053051454539480666,
          -0.04503005019972289,
          -0.05865037467074706,
          -0.060633367454345784,
          -0.0459794027363127,
          -0.05122408701978406,
          -0.04671865003853582,
          -0.056727949782265634,
          -0.054577655230954605,
          -0.04855645171679442,
          -0.04855645171679442,
          -0.05998244142978571,
          -0.04499559243263221,
          -0.053744315532737355,
          -0.04813687364229655,
          -0.05556730752708249,
          -0.04980168525708554,
          -0.037737577227320324,
          -0.04587121870004103,
          -0.049770113028008565,
          -0.036847845464136525,
          -0.037027617818031884,
          -0.046518208629203056,
          -0.048481154680600456,
          -0.04445376509946798,
          -0.0385520902425164,
          -0.02715106974780137,
          -0.04226555696645173,
          -0.04311078369984147,
          -0.044236849072728665,
          -0.044236849072728665,
          -0.04864645677461822,
          -0.04635080252903742,
          -0.013949893594355561,
          -0.04686956375370395,
          -0.03578200670316152,
          -0.006561648184390266,
          -0.044186653007129,
          -0.005198783771559576,
          -0.013888453352656597,
          -0.01752276693569251,
          -0.0193849092040389,
          -0.03577003748915425,
          -0.020749038849068206,
          -0.03297429177710885,
          -0.03297429177710885,
          -0.03439813366007606,
          -0.04322841670250347,
          -0.020815634119993466,
          -0.03676046423921558,
          -0.03676046423921558,
          -0.0006309943588565284,
          -0.008540547958830299,
          -0.024098957361661674,
          -0.03282349671077532,
          -0.02203209926145969,
          0.011118482744562886,
          -0.010833592121891266,
          -0.018872305067829446,
          -0.032715850855840535,
          -0.024597893573915487,
          -0.024597893573915487,
          -0.013126523634575078,
          -0.016921354223518988,
          -0.016921354223518988,
          0.012237344331161673,
          -0.034427495562821,
          0.01252953131929555,
          0.015833445289234867,
          -0.034994332336262424,
          0.000286332528893605,
          0.00028702893425338585,
          -0.005234320218033811,
          0.007751795540813482,
          -0.008451509461737951,
          -0.0027398991931591597,
          0.017632337461867237,
          -0.015487339740963406,
          -0.007582646616176076,
          0.027074561161604928,
          0.027074561161604928,
          0.021936155026442042,
          0.01249877243836931,
          0.01249877243836931,
          -0.024718767842177684,
          -0.024718767842177684,
          -0.0026492761231230954,
          -0.0032769818525755384,
          0.01176769135327315,
          0.01176769135327315,
          0.00922189071832712,
          0.01367729936667479,
          0.014319152882745953,
          0.01712930792419767,
          0.01712930792419767,
          0.035980584661037276,
          -0.004001075662329646,
          -0.004001075662329646,
          -0.008217446532379553,
          0.012044182907483127,
          0.0022278285544613872,
          0.0022278285544613872,
          0.007613482876332866,
          0.014144709194430068,
          0.014144709194430068,
          0.005795699652360666,
          -0.01473225010239985,
          0.013071731232184702,
          0.013071731232184702,
          0.0003369102772309161,
          0.022590134724404076,
          0.015010042993419188,
          0.002530945994509354,
          0.007815239515370425,
          0.012389318703606877,
          0.012389318703606877,
          0.010139543884892509,
          0.01598961328370842,
          0.024457238164825517,
          0.006826591619289214,
          -0.0009988477170085025,
          -0.0009988477170085025,
          0.005836179815921252,
          0.015234086793140247,
          0.023273263499971487,
          0.012639405736714921,
          0.0023640553979023364,
          0.017792895560769257,
          0.017792895560769257,
          0.014456186091201455,
          0.034301528951339755,
          -0.004270954347948006,
          0.04045454037509358,
          0.016773921939757058,
          0.006989513161522388,
          0.006989513161522388,
          0.005358732905060621,
          -0.012261162580492785,
          0.0265286776957412,
          0.0016627400103774615,
          0.0016627400103774615,
          0.009986842705779998,
          0.009986842705779998,
          -0.016721222242897325,
          -0.011576829128701095,
          0.008652161315194777,
          -0.0039042571274270836,
          -0.009511150775701806,
          0.005507202402518427,
          0.011061941839033109,
          0.03690988120658245,
          0.0076342025080886455,
          -0.012219693146458257,
          -0.012219693146458257,
          -0.009164780668172919,
          0.004901130681047119,
          0.010701227630162177,
          0.04016698996850836,
          0.04016698996850836,
          -0.05584864023723386,
          0.007141769278935858,
          0.002707576638244092,
          0.01315864571741731,
          -0.016736712441575142,
          0.034438556501910085,
          0.004486377875262536,
          -0.006063841664918958,
          -0.04647565655634025,
          -0.01573173063962732,
          0.008596867216089637,
          0.03914021625454156,
          -0.003613081102247341,
          -0.01984029552452582,
          -0.01984029552452582,
          0.03214744516964456,
          0.041530898725085336,
          0.00340864716503438,
          -0.009190409931357483,
          -0.009190409931357483,
          0.039690386882099755,
          -0.015157827151008043,
          -0.012316753726876031,
          -0.05303694879079993,
          0.0036531452562724694,
          -0.035200167275073364,
          -0.02907092798017983,
          -0.017723489522304813,
          -0.027371877135866897,
          0.03875930114007928,
          -0.021037835250030196,
          -0.01610233336136137,
          -0.01610233336136137,
          -0.055200833052982186,
          -0.05801580937699862,
          0.0062327428589346,
          -0.031684971740340406,
          -0.041278797520343934,
          -0.011122697482497553,
          0.026915080198716135,
          0.0038219066213145887,
          -0.023847915385554596,
          0.02538873665677185,
          0.018824590267441772,
          -0.01721707301245021,
          -0.03710929790218807,
          -0.026671945476455534,
          -0.026671945476455534,
          -0.018735544068548132,
          0.00606187637203561,
          0.042371558518679214,
          -0.008096073171403902,
          -0.02094443298483824,
          0.004697328916687049,
          -0.05528529532870611,
          -0.0400807709035638,
          0.027078311390730823,
          0.01833472286162786,
          -0.025531334059789565,
          -0.0043759235841897,
          -0.021773879104261207,
          -0.05611128270483702,
          -0.026091073245972447,
          0.03878626492073311,
          -0.02854833053512705,
          -0.02854833053512705,
          -0.013723828735897559,
          -0.041159081384928776,
          -0.025124962540949078,
          -0.05838241108347516,
          -0.018341007177557146,
          -0.018341007177557146,
          -0.01699167828725925,
          -0.04866663184128118,
          -0.019625276471265926,
          -0.03511978219263357,
          0.03656188646211689,
          -0.027302766161612604,
          -0.023641110582361423,
          -0.04419249216462269,
          -0.025599719021500263,
          -0.04797765255949679,
          0.03542847851934153,
          -0.022588266845611965,
          -0.0520191641931423,
          -0.018471452165310372,
          -0.03703029674525784,
          -0.03539688872124039,
          -0.055715314011611713,
          -0.055715314011611713,
          -0.02257737603806281,
          -0.0593545683743661,
          -0.03143184516507572,
          -0.05580084496657884,
          -0.041220991846039,
          0.008813487202600246,
          -0.059467614610335354,
          -0.03011504514019143,
          -0.057396625843571844,
          -0.052210550244065713,
          -0.05859475493478079,
          0.011325066323825126,
          -0.059559997608859924,
          -0.0538386042632084,
          -0.058061339614760975,
          0.004530446595089722,
          0.004530446595089722,
          0.0025030520995733513,
          0.0025030520995733513,
          -0.058335799998776,
          -0.056546475889748045,
          0.008685964791898126,
          0.009148198484265027,
          -0.005819927356898757,
          -0.0020098375156324,
          0.004663352394264788,
          -0.0036978713915335913
         ],
         "z": [
          -26.54954054439604,
          -24.54921533630457,
          -23.059798131942586,
          -23.346085333015434,
          -23.34404739182212,
          -21.96343565591784,
          -19.31906890005768,
          -19.25081837741886,
          -18.430350279191707,
          -18.038019687279835,
          -18.038019687279835,
          -17.435515288515486,
          -17.358167014243755,
          -16.556748643745024,
          -16.729986259951822,
          -16.058079753781115,
          -15.867733546600295,
          -15.48607201019656,
          -15.52702520855657,
          -14.116222268182298,
          -13.85705790333483,
          -13.85705790333483,
          -13.847298850482971,
          -13.445222803483851,
          -13.347558367360916,
          -13.39072437178882,
          -12.887361599477538,
          -12.704098841593245,
          -12.142813295721867,
          -11.74994092938742,
          -11.5220444041183,
          -11.657715046241886,
          -11.538129808029062,
          -11.567251849113548,
          -11.176058086758841,
          -11.176058086758841,
          -11.014511726881528,
          -10.786460789701916,
          -10.622646887360316,
          -10.490496158678964,
          -10.699895488369442,
          -10.648365336780495,
          -10.463670776583445,
          -10.166725012479056,
          -10.109011727924013,
          -10.220142335207774,
          -10.105347262767982,
          -9.83023169072621,
          -9.914115178362684,
          -9.44572837564311,
          -9.361447422412823,
          -9.425185060931645,
          -9.316569044869922,
          -9.45453855467576,
          -9.07410746090341,
          -9.170015072674342,
          -9.184686927161891,
          -9.059415581484052,
          -8.871395773828798,
          -8.745643638093513,
          -8.745643638093513,
          -8.754082571880398,
          -8.555147955513966,
          -8.624750812374627,
          -8.4892437533765,
          -8.464134607412735,
          -8.464134607412735,
          -8.391828816930612,
          -8.300108464958978,
          -8.231440090534312,
          -8.2908242595122,
          -8.178414611296851,
          -8.178414611296851,
          -8.137613916108524,
          -8.065580938798082,
          -7.697383432992343,
          -7.697383432992343,
          -7.647120054945825,
          -7.586598534647397,
          -7.615917148991476,
          -7.538627703320696,
          -7.557591775248843,
          -7.469204030373963,
          -7.40491035337302,
          -7.362915562286893,
          -7.357395417137017,
          -7.240728318603178,
          -7.198749125149762,
          -7.111889305327273,
          -6.7722650394863315,
          -6.758095426579716,
          -6.758095426579716,
          -6.729893028084371,
          -6.714669833258927,
          -6.625116728073602,
          -6.530072957789362,
          -6.388285909596791,
          -6.399123748684547,
          -6.403697462381732,
          -6.369204459123624,
          -6.317384828020858,
          -6.163733773022943,
          -5.977622926562126,
          -5.947127634209322,
          -5.890558164694295,
          -5.898843925378693,
          -5.828500947063973,
          -5.769361055665199,
          -5.7009697646778745,
          -5.7009697646778745,
          -5.671991114261992,
          -5.626054953668248,
          -5.662455570870966,
          -5.6329317966157815,
          -5.576978692237221,
          -5.565328552202526,
          -5.542117044053373,
          -5.566347435287069,
          -5.503980141343215,
          -5.414082913075375,
          -5.414082913075375,
          -5.423469237092781,
          -5.449181718411967,
          -5.402772344796772,
          -5.190368003291226,
          -5.153156057859678,
          -5.148918266856876,
          -5.11302950786641,
          -5.072639871609034,
          -5.100355080670244,
          -5.100642030396254,
          -4.959927184810297,
          -5.017626939458112,
          -4.939972428719023,
          -4.964602323085708,
          -4.967412994189174,
          -4.875852218752275,
          -4.875852218752275,
          -4.886135278659881,
          -4.909084157885837,
          -4.828439621637352,
          -4.828439621637352,
          -4.814172583437236,
          -4.822298082741702,
          -4.861428650628929,
          -4.843531061940214,
          -4.843531061940214,
          -4.845798956305185,
          -4.740663447578181,
          -4.752353689856399,
          -4.752353689856399,
          -4.764263825897414,
          -4.795449606128098,
          -4.711085920838996,
          -4.714589659622712,
          -4.717018217156792,
          -4.644432477738923,
          -4.644432477738923,
          -4.705906830158025,
          -4.7493979443509176,
          -4.730141028390297,
          -4.661228538195854,
          -4.6606609993550165,
          -4.630544533233945,
          -4.627871824433402,
          -4.627871824433402,
          -4.602133833072555,
          -4.602133833072555,
          -4.691661753752245,
          -4.635454734220572,
          -4.598595395862426,
          -4.5574897343054515,
          -4.545337893431015,
          -4.584669903538667,
          -4.648294962049323,
          -4.593371890457226,
          -4.514757957349479,
          -4.586519717102579,
          -4.586519717102579,
          -4.527873498334095,
          -4.487965212321768,
          -4.516873414857021,
          -4.516873414857021,
          -4.458111293411875,
          -4.520177836681594,
          -4.490101328982974,
          -4.473491425582765,
          -4.432140274827979,
          -4.432140274827979,
          -4.451566499466923,
          -4.4482722511042505,
          -4.438078766159077,
          -4.3900663512382625,
          -4.417342862877431,
          -4.462743688120091,
          -4.417576860534996,
          -4.417576860534996,
          -4.433081851236505,
          -4.404579842948953,
          -4.366252586994886,
          -4.387623968997086,
          -4.387623968997086,
          -4.371285888168402,
          -4.371285888168402,
          -4.349261860936601,
          -4.365642994698322,
          -4.365642994698322,
          -4.368063987384284,
          -4.329439045804588,
          -4.328583472181599,
          -4.299952012063272,
          -4.299858214248787,
          -4.279445656084168,
          -4.284140573707172,
          -4.283650982363672,
          -4.283650982363672,
          -4.293751562901543,
          -4.3032392426795605,
          -4.251606194064736,
          -4.2770400362865555,
          -4.263522342314944,
          -4.263522342314944,
          -4.265912911480534,
          -4.249075334395029,
          -4.249075334395029,
          -4.275172193143536,
          -4.284206950705347,
          -4.249282747693501,
          -4.230164272004047,
          -4.257541929377058,
          -4.2302643015398615,
          -4.21454457796208,
          -4.225559278895996,
          -4.198545272385442,
          -4.2340274348348,
          -4.2003097539046514,
          -4.180155665533266,
          -4.150690740591778,
          -4.236293799823605,
          -4.139741592005316,
          -4.139741592005316,
          -4.187975661307957,
          -4.2033655068144915,
          -4.195738589998942,
          -4.122831553511499,
          -4.067069352309562,
          -4.071279678134188,
          -4.071279678134188,
          -4.0739494689857905,
          -4.0739494689857905,
          -4.10171961113189,
          -4.143411365372867,
          -4.147828996621814,
          -4.11189032716087,
          -4.078840636409415,
          -4.049913627747869,
          -4.075745652453726,
          -4.068077353081343,
          -4.116790938873537,
          -4.06048707654845,
          -4.047017528390417,
          -4.020870517093547,
          -4.031214094036244,
          -4.040977399073862,
          -4.013190043034929,
          -4.0868861109758035,
          -4.012958499834548,
          -4.092112701305518,
          -4.000033510122381,
          -4.000033510122381,
          -4.009298180857747,
          -4.012200725855566,
          -3.9835799887195393,
          -3.967166275516631,
          -3.9671058320609154,
          -3.962794038279952,
          -3.962794038279952,
          -4.027677631289033,
          -4.033898661902815,
          -3.976334315921921,
          -4.00895130202131,
          -4.019257358508111,
          -4.009164659119917,
          -3.843272705355371,
          -3.928366404171271,
          -3.919631627577022,
          -3.8963060041691615,
          -3.9703549575348696,
          -3.961044406425073,
          -3.9753785763200074,
          -3.9532797492491105,
          -3.8719173590515665,
          -3.949063287390276,
          -3.949063287390276,
          -3.9369218427642316,
          -3.8373775128709875,
          -3.917052324062032,
          -3.8320984404967047,
          -3.810321352926051,
          -3.773530085052011,
          -3.794699314259864,
          -3.794699314259864,
          -3.801945342799426,
          -3.7285513614891075,
          -3.8767452368572455,
          -3.7911300677730027,
          -3.765200429805007,
          -3.765200429805007,
          -3.765200429805007,
          -3.7901051874460925,
          -3.752489152103383,
          -3.752489152103383,
          -3.6871919507858837,
          -3.7533000173152917,
          -3.8282143494377094,
          -3.6686485650521488,
          -3.6870456518219874,
          -3.6654539734332516,
          -3.713384094432273,
          -3.7824049621899567,
          -3.7310637550225896,
          -3.7264151344777923,
          -3.7155838958392073,
          -3.6749946077080033,
          -3.6944748047461067,
          -3.7727180637842626,
          -3.692110253853674,
          -3.7751183372684225,
          -3.6546809884278617,
          -3.744612727332261,
          -3.686409940914836,
          -3.637578725964637,
          -3.6847641187809668,
          -3.6670004345329823,
          -3.603965118272196,
          -3.6644384294006853,
          -3.739786890300732,
          -3.6336653016561145,
          -3.5836566450274017,
          -3.636150073255478,
          -3.610324139791935,
          -3.610324139791935,
          -3.6161675499079386,
          -3.607195812392767,
          -3.5501160632246487,
          -3.598133260570623,
          -3.5936087267682004,
          -3.526967918865485,
          -3.581171024297524,
          -3.5272556649661415,
          -3.5186997837267153,
          -3.5251725643757634,
          -3.538626770055001,
          -3.5556200051605096,
          -3.565993140229398,
          -3.5288897800322894,
          -3.538392952202864,
          -3.630658713564611,
          -3.503011464772417,
          -3.5291542207782265,
          -3.4130258625579644,
          -3.504551538586185,
          -3.3278745428060033,
          -3.4449265458917258,
          -3.3959866830277865,
          -3.3843698072744672,
          -3.3289113834017527,
          -3.2885199797018734,
          -3.2771821330800157,
          -3.2682441411556136,
          -3.15693163996885,
          -3.121734591301644,
          -3.1081682987563477,
          -3.101779885078141,
          -3.098085809505892,
          -3.0418113838380076,
          -3.0280591376093606,
          -3.027551672008528,
          -3.019537541542711,
          -3.0126188196342563,
          -3.0053956055598037,
          -3.0053956055598037,
          -0.3570392214400567,
          -0.3540271550302272,
          -0.35249752318219685,
          -0.34952772131615184,
          -0.349235628417716,
          -0.3494362148103582,
          -0.34554438151742173,
          -0.3473085161209827,
          -0.33948953616257094,
          -0.33948953616257094,
          -0.3407594672323568,
          -0.33792244874363747,
          -0.3361264823342426,
          -0.33486078026292593,
          -0.33534553381877175,
          -0.3332467852184313,
          -0.3321778451200496,
          -0.33065334710073757,
          -0.3308544636359624,
          -0.3285471369104435,
          -0.32489664905949833,
          -0.32733739136453316,
          -0.32623676128222084,
          -0.32566114927770434,
          -0.3243545860841416,
          -0.32263366148824724,
          -0.32263366148824724,
          -0.3232488073426139,
          -0.32405217558848276,
          -0.32405217558848276,
          -0.3219083633329978,
          -0.3224155705544667,
          -0.3164119987168471,
          -0.32127078917130997,
          -0.31855722153304167,
          -0.3206619900856753,
          -0.31615703081266694,
          -0.31395768190040413,
          -0.3124383698846656,
          -0.31284005621099653,
          -0.31015069319560135,
          -0.3060369985574977,
          -0.30847515455781777,
          -0.30847515455781777,
          -0.29962842070153034,
          -0.300276297851165,
          -0.30387497951478315,
          -0.3030805971289601,
          -0.29640267324457853,
          -0.3003997038176298,
          -0.2985764985548698,
          -0.2942196825793537,
          -0.29770709275128326,
          -0.2938727743796033,
          -0.29487882770756485,
          -0.2923573933143792,
          -0.2923573933143792,
          -0.2929861897283888,
          -0.29264706103190785,
          -0.2966241940114018,
          -0.2941917519050143,
          -0.29542613029130893,
          -0.29262278088872257,
          -0.2914320527337959,
          -0.29024563014209265,
          -0.2876756399213018,
          -0.2869601226201889,
          -0.2866096108722228,
          -0.28413085685711026,
          -0.2825465951260202,
          -0.28515195369766677,
          -0.28259435383819365,
          -0.2822348959257198,
          -0.2822348959257198,
          -0.28249831655873914,
          -0.28249831655873914,
          -0.2813772944919006,
          -0.2795573298206531,
          -0.2809714813455655,
          -0.27927989157354616,
          -0.2767829379154182,
          -0.279235478078414,
          -0.27862292865282356,
          -0.2755471966266959,
          -0.2755656308125042,
          -0.27271066113859044,
          -0.27271066113859044,
          -0.27271066113859044,
          -0.27283521215861495,
          -0.27283521215861495,
          -0.27075848991094986,
          -0.2720267302370767,
          -0.2713799834019502,
          -0.27048336677592355,
          -0.2656589192283954,
          -0.2578841837903859,
          -0.2578841837903859,
          -0.2583599620162621,
          -0.25627236639126677,
          -0.25473724497861955,
          -0.25473724497861955,
          -0.25455395831877403,
          -0.2534549051607198,
          -0.2488151130096858,
          -0.2501019579700904,
          -0.24809489141903093,
          -0.24542273050016067,
          -0.24470843795258965,
          -0.2451588047386703,
          -0.24321205423746675,
          -0.24131059028863025,
          -0.24391619995209696,
          -0.24134786504050032,
          -0.2416266191328661,
          -0.23985221395440093,
          -0.24022340543494086,
          -0.23754624656068285,
          -0.23754624656068285,
          -0.2341705304113015,
          -0.2356918871074146,
          -0.2334641011697468,
          -0.2341813596316081,
          -0.23124106235884992,
          -0.2308828543391274,
          -0.23262189093805885,
          -0.23057381831478058,
          -0.22734179993917963,
          -0.2295467776356044,
          -0.22713429092778747,
          -0.22349371423536676,
          -0.2215136248538651,
          -0.22197343318081902,
          -0.22271898961302142,
          -0.22456185220760663,
          -0.21992711020546715,
          -0.21898633116338953,
          -0.21821815474219605,
          -0.21821815474219605,
          -0.21725863507538945,
          -0.2177081999581746,
          -0.22474207278956135,
          -0.21629948365104304,
          -0.21737216523940403,
          -0.22523693044371443,
          -0.21541027170436178,
          -0.22377751109054816,
          -0.22055846687724348,
          -0.218382063860927,
          -0.21715207020883392,
          -0.21284930092797033,
          -0.2162706019794257,
          -0.2119807722842737,
          -0.2119807722842737,
          -0.21151825275443142,
          -0.20929678924997333,
          -0.21444428078185446,
          -0.20994968496113686,
          -0.20994968496113686,
          -0.2190673792578188,
          -0.21741634635237753,
          -0.21228401201807365,
          -0.20921497926579066,
          -0.21132243416826585,
          -0.21920583405847538,
          -0.21370380583803233,
          -0.2108738152259333,
          -0.2063085250226284,
          -0.20861368805578429,
          -0.20861368805578429,
          -0.21226069174585524,
          -0.20979853936561096,
          -0.20979853936561096,
          -0.21744248629246377,
          -0.20331432418884762,
          -0.21582882584874383,
          -0.2167078833248272,
          -0.20203014549017656,
          -0.21241125750327736,
          -0.21241067629018634,
          -0.210855005312714,
          -0.21287854591704067,
          -0.2093176313065788,
          -0.21014134974165954,
          -0.21487295195602263,
          -0.20515657724768063,
          -0.20725044171455523,
          -0.21606302723577372,
          -0.21606302723577372,
          -0.21420664501358838,
          -0.21155530685729912,
          -0.21155530685729912,
          -0.19991047908949822,
          -0.19991047908949822,
          -0.20738196709561835,
          -0.20711008835690006,
          -0.2102580351863608,
          -0.2102580351863608,
          -0.20962814603534277,
          -0.21072763370251046,
          -0.20892285113720946,
          -0.20953909834378015,
          -0.20953909834378015,
          -0.21485680047015895,
          -0.20340132866880403,
          -0.20340132866880403,
          -0.2023919679875544,
          -0.20731961846024763,
          -0.20432452621343924,
          -0.20432452621343924,
          -0.20548828215014533,
          -0.2072556143741409,
          -0.2072556143741409,
          -0.20466092670652922,
          -0.19984916058953905,
          -0.20611981229154738,
          -0.20611981229154738,
          -0.20268897813805806,
          -0.20846065265169067,
          -0.20589093302986738,
          -0.2024261760993527,
          -0.2036605293377784,
          -0.20491623998519023,
          -0.20491623998519023,
          -0.20413463256125705,
          -0.20565465777750983,
          -0.20836375456580755,
          -0.20279087259807135,
          -0.2003937543147306,
          -0.2003937543147306,
          -0.20131211332317292,
          -0.2040215465513652,
          -0.20612381830526316,
          -0.20253836393760768,
          -0.1988122201787533,
          -0.20357141770161588,
          -0.20357141770161588,
          -0.20246858839053425,
          -0.20918081106828765,
          -0.19667627562134188,
          -0.21009545206683874,
          -0.2022730967285381,
          -0.1985021522251066,
          -0.1985021522251066,
          -0.19757532235920228,
          -0.19423318265010805,
          -0.2050112650968312,
          -0.1960312425442408,
          -0.1960312425442408,
          -0.19774751735376572,
          -0.19774751735376572,
          -0.1922197081866929,
          -0.19272169383746243,
          -0.1968654141886074,
          -0.19343608191891346,
          -0.19238514668823833,
          -0.19468809630649878,
          -0.196294402515056,
          -0.20476719852765116,
          -0.1947283448962042,
          -0.19069025188401215,
          -0.19069025188401215,
          -0.1905443047135287,
          -0.193023479452596,
          -0.1942932198257552,
          -0.2035794483682488,
          -0.2035794483682488,
          -0.17826059186439544,
          -0.19303561866718125,
          -0.19206410932227952,
          -0.19456263639443155,
          -0.1878400842816877,
          -0.2022243123751174,
          -0.19094558634212944,
          -0.18945230574039318,
          -0.1781143457434192,
          -0.18699407560521605,
          -0.19142874597240334,
          -0.20165301122356116,
          -0.18782158397101192,
          -0.18483898583783862,
          -0.18483898583783862,
          -0.19975273472682964,
          -0.20089656955105498,
          -0.1887697053395352,
          -0.18655989316847288,
          -0.18655989316847288,
          -0.19974312431062483,
          -0.18406926099132284,
          -0.18374172946643275,
          -0.1735280171119256,
          -0.18550359206675057,
          -0.17639665638379706,
          -0.1783030585808078,
          -0.18164883382734726,
          -0.1781640743539366,
          -0.19643836032842876,
          -0.17993647933044288,
          -0.180659925696093,
          -0.180659925696093,
          -0.17048824971687515,
          -0.1710440758748135,
          -0.18468411068530124,
          -0.17484561183338293,
          -0.17282650083831472,
          -0.1802558564453844,
          -0.19183298195083812,
          -0.18168061775874186,
          -0.17628739687939568,
          -0.1914352326060361,
          -0.1896855133481673,
          -0.17762760383311244,
          -0.1715276924243343,
          -0.17483799773540093,
          -0.17483799773540093,
          -0.17703615827077868,
          -0.1808972691737103,
          -0.19241553563416572,
          -0.17900805502045364,
          -0.17573650344910105,
          -0.17986628603663726,
          -0.16759302816960525,
          -0.17034871899562032,
          -0.18975232282256868,
          -0.18725923132639502,
          -0.17355953346929992,
          -0.17762676392313131,
          -0.1723696689695901,
          -0.1658963749612998,
          -0.17035963959255968,
          -0.18809471620794133,
          -0.169806782890426,
          -0.169806782890426,
          -0.17373997119111717,
          -0.16661204531955978,
          -0.1699651104519848,
          -0.16318029031862621,
          -0.17119602125939826,
          -0.17119602125939826,
          -0.17161371991501703,
          -0.16380899613136243,
          -0.1696845118303842,
          -0.1651787390339832,
          -0.18387860015049892,
          -0.1664266468269371,
          -0.16766427409921594,
          -0.16278662420251744,
          -0.1663391327513701,
          -0.16114898222795562,
          -0.18171781687065147,
          -0.1658213272231409,
          -0.15878859938042064,
          -0.16621314717160482,
          -0.1610812617403308,
          -0.16045094030615661,
          -0.15662910718116935,
          -0.15662910718116935,
          -0.1623610035686243,
          -0.1551837378246907,
          -0.1597546212398371,
          -0.15424866405100512,
          -0.1567423882625962,
          -0.1702014712034406,
          -0.15214895223164854,
          -0.15592782342720052,
          -0.15209397056568874,
          -0.14923977926319262,
          -0.14666057339746208,
          -0.16370598095980618,
          -0.14552688411303494,
          -0.14440632418835153,
          -0.1433903516046982,
          -0.15715063804790255,
          -0.15715063804790255,
          -0.15610378803503885,
          -0.15610378803503885,
          -0.14048623975381183,
          -0.13745409195966263,
          -0.1466619939759428,
          -0.1438684313158712,
          -0.13732765394756308,
          -0.13605383661676046,
          -0.13698251599077643,
          -0.13495401741098315
         ]
        }
       ],
       "layout": {
        "scene": {
         "xaxis": {
          "title": {
           "text": "X"
          }
         },
         "yaxis": {
          "title": {
           "text": "Y"
          }
         },
         "zaxis": {
          "title": {
           "text": "Z"
          }
         }
        },
        "template": {
         "data": {
          "bar": [
           {
            "error_x": {
             "color": "#2a3f5f"
            },
            "error_y": {
             "color": "#2a3f5f"
            },
            "marker": {
             "line": {
              "color": "#E5ECF6",
              "width": 0.5
             },
             "pattern": {
              "fillmode": "overlay",
              "size": 10,
              "solidity": 0.2
             }
            },
            "type": "bar"
           }
          ],
          "barpolar": [
           {
            "marker": {
             "line": {
              "color": "#E5ECF6",
              "width": 0.5
             },
             "pattern": {
              "fillmode": "overlay",
              "size": 10,
              "solidity": 0.2
             }
            },
            "type": "barpolar"
           }
          ],
          "carpet": [
           {
            "aaxis": {
             "endlinecolor": "#2a3f5f",
             "gridcolor": "white",
             "linecolor": "white",
             "minorgridcolor": "white",
             "startlinecolor": "#2a3f5f"
            },
            "baxis": {
             "endlinecolor": "#2a3f5f",
             "gridcolor": "white",
             "linecolor": "white",
             "minorgridcolor": "white",
             "startlinecolor": "#2a3f5f"
            },
            "type": "carpet"
           }
          ],
          "choropleth": [
           {
            "colorbar": {
             "outlinewidth": 0,
             "ticks": ""
            },
            "type": "choropleth"
           }
          ],
          "contour": [
           {
            "colorbar": {
             "outlinewidth": 0,
             "ticks": ""
            },
            "colorscale": [
             [
              0,
              "#0d0887"
             ],
             [
              0.1111111111111111,
              "#46039f"
             ],
             [
              0.2222222222222222,
              "#7201a8"
             ],
             [
              0.3333333333333333,
              "#9c179e"
             ],
             [
              0.4444444444444444,
              "#bd3786"
             ],
             [
              0.5555555555555556,
              "#d8576b"
             ],
             [
              0.6666666666666666,
              "#ed7953"
             ],
             [
              0.7777777777777778,
              "#fb9f3a"
             ],
             [
              0.8888888888888888,
              "#fdca26"
             ],
             [
              1,
              "#f0f921"
             ]
            ],
            "type": "contour"
           }
          ],
          "contourcarpet": [
           {
            "colorbar": {
             "outlinewidth": 0,
             "ticks": ""
            },
            "type": "contourcarpet"
           }
          ],
          "heatmap": [
           {
            "colorbar": {
             "outlinewidth": 0,
             "ticks": ""
            },
            "colorscale": [
             [
              0,
              "#0d0887"
             ],
             [
              0.1111111111111111,
              "#46039f"
             ],
             [
              0.2222222222222222,
              "#7201a8"
             ],
             [
              0.3333333333333333,
              "#9c179e"
             ],
             [
              0.4444444444444444,
              "#bd3786"
             ],
             [
              0.5555555555555556,
              "#d8576b"
             ],
             [
              0.6666666666666666,
              "#ed7953"
             ],
             [
              0.7777777777777778,
              "#fb9f3a"
             ],
             [
              0.8888888888888888,
              "#fdca26"
             ],
             [
              1,
              "#f0f921"
             ]
            ],
            "type": "heatmap"
           }
          ],
          "heatmapgl": [
           {
            "colorbar": {
             "outlinewidth": 0,
             "ticks": ""
            },
            "colorscale": [
             [
              0,
              "#0d0887"
             ],
             [
              0.1111111111111111,
              "#46039f"
             ],
             [
              0.2222222222222222,
              "#7201a8"
             ],
             [
              0.3333333333333333,
              "#9c179e"
             ],
             [
              0.4444444444444444,
              "#bd3786"
             ],
             [
              0.5555555555555556,
              "#d8576b"
             ],
             [
              0.6666666666666666,
              "#ed7953"
             ],
             [
              0.7777777777777778,
              "#fb9f3a"
             ],
             [
              0.8888888888888888,
              "#fdca26"
             ],
             [
              1,
              "#f0f921"
             ]
            ],
            "type": "heatmapgl"
           }
          ],
          "histogram": [
           {
            "marker": {
             "pattern": {
              "fillmode": "overlay",
              "size": 10,
              "solidity": 0.2
             }
            },
            "type": "histogram"
           }
          ],
          "histogram2d": [
           {
            "colorbar": {
             "outlinewidth": 0,
             "ticks": ""
            },
            "colorscale": [
             [
              0,
              "#0d0887"
             ],
             [
              0.1111111111111111,
              "#46039f"
             ],
             [
              0.2222222222222222,
              "#7201a8"
             ],
             [
              0.3333333333333333,
              "#9c179e"
             ],
             [
              0.4444444444444444,
              "#bd3786"
             ],
             [
              0.5555555555555556,
              "#d8576b"
             ],
             [
              0.6666666666666666,
              "#ed7953"
             ],
             [
              0.7777777777777778,
              "#fb9f3a"
             ],
             [
              0.8888888888888888,
              "#fdca26"
             ],
             [
              1,
              "#f0f921"
             ]
            ],
            "type": "histogram2d"
           }
          ],
          "histogram2dcontour": [
           {
            "colorbar": {
             "outlinewidth": 0,
             "ticks": ""
            },
            "colorscale": [
             [
              0,
              "#0d0887"
             ],
             [
              0.1111111111111111,
              "#46039f"
             ],
             [
              0.2222222222222222,
              "#7201a8"
             ],
             [
              0.3333333333333333,
              "#9c179e"
             ],
             [
              0.4444444444444444,
              "#bd3786"
             ],
             [
              0.5555555555555556,
              "#d8576b"
             ],
             [
              0.6666666666666666,
              "#ed7953"
             ],
             [
              0.7777777777777778,
              "#fb9f3a"
             ],
             [
              0.8888888888888888,
              "#fdca26"
             ],
             [
              1,
              "#f0f921"
             ]
            ],
            "type": "histogram2dcontour"
           }
          ],
          "mesh3d": [
           {
            "colorbar": {
             "outlinewidth": 0,
             "ticks": ""
            },
            "type": "mesh3d"
           }
          ],
          "parcoords": [
           {
            "line": {
             "colorbar": {
              "outlinewidth": 0,
              "ticks": ""
             }
            },
            "type": "parcoords"
           }
          ],
          "pie": [
           {
            "automargin": true,
            "type": "pie"
           }
          ],
          "scatter": [
           {
            "fillpattern": {
             "fillmode": "overlay",
             "size": 10,
             "solidity": 0.2
            },
            "type": "scatter"
           }
          ],
          "scatter3d": [
           {
            "line": {
             "colorbar": {
              "outlinewidth": 0,
              "ticks": ""
             }
            },
            "marker": {
             "colorbar": {
              "outlinewidth": 0,
              "ticks": ""
             }
            },
            "type": "scatter3d"
           }
          ],
          "scattercarpet": [
           {
            "marker": {
             "colorbar": {
              "outlinewidth": 0,
              "ticks": ""
             }
            },
            "type": "scattercarpet"
           }
          ],
          "scattergeo": [
           {
            "marker": {
             "colorbar": {
              "outlinewidth": 0,
              "ticks": ""
             }
            },
            "type": "scattergeo"
           }
          ],
          "scattergl": [
           {
            "marker": {
             "colorbar": {
              "outlinewidth": 0,
              "ticks": ""
             }
            },
            "type": "scattergl"
           }
          ],
          "scattermapbox": [
           {
            "marker": {
             "colorbar": {
              "outlinewidth": 0,
              "ticks": ""
             }
            },
            "type": "scattermapbox"
           }
          ],
          "scatterpolar": [
           {
            "marker": {
             "colorbar": {
              "outlinewidth": 0,
              "ticks": ""
             }
            },
            "type": "scatterpolar"
           }
          ],
          "scatterpolargl": [
           {
            "marker": {
             "colorbar": {
              "outlinewidth": 0,
              "ticks": ""
             }
            },
            "type": "scatterpolargl"
           }
          ],
          "scatterternary": [
           {
            "marker": {
             "colorbar": {
              "outlinewidth": 0,
              "ticks": ""
             }
            },
            "type": "scatterternary"
           }
          ],
          "surface": [
           {
            "colorbar": {
             "outlinewidth": 0,
             "ticks": ""
            },
            "colorscale": [
             [
              0,
              "#0d0887"
             ],
             [
              0.1111111111111111,
              "#46039f"
             ],
             [
              0.2222222222222222,
              "#7201a8"
             ],
             [
              0.3333333333333333,
              "#9c179e"
             ],
             [
              0.4444444444444444,
              "#bd3786"
             ],
             [
              0.5555555555555556,
              "#d8576b"
             ],
             [
              0.6666666666666666,
              "#ed7953"
             ],
             [
              0.7777777777777778,
              "#fb9f3a"
             ],
             [
              0.8888888888888888,
              "#fdca26"
             ],
             [
              1,
              "#f0f921"
             ]
            ],
            "type": "surface"
           }
          ],
          "table": [
           {
            "cells": {
             "fill": {
              "color": "#EBF0F8"
             },
             "line": {
              "color": "white"
             }
            },
            "header": {
             "fill": {
              "color": "#C8D4E3"
             },
             "line": {
              "color": "white"
             }
            },
            "type": "table"
           }
          ]
         },
         "layout": {
          "annotationdefaults": {
           "arrowcolor": "#2a3f5f",
           "arrowhead": 0,
           "arrowwidth": 1
          },
          "autotypenumbers": "strict",
          "coloraxis": {
           "colorbar": {
            "outlinewidth": 0,
            "ticks": ""
           }
          },
          "colorscale": {
           "diverging": [
            [
             0,
             "#8e0152"
            ],
            [
             0.1,
             "#c51b7d"
            ],
            [
             0.2,
             "#de77ae"
            ],
            [
             0.3,
             "#f1b6da"
            ],
            [
             0.4,
             "#fde0ef"
            ],
            [
             0.5,
             "#f7f7f7"
            ],
            [
             0.6,
             "#e6f5d0"
            ],
            [
             0.7,
             "#b8e186"
            ],
            [
             0.8,
             "#7fbc41"
            ],
            [
             0.9,
             "#4d9221"
            ],
            [
             1,
             "#276419"
            ]
           ],
           "sequential": [
            [
             0,
             "#0d0887"
            ],
            [
             0.1111111111111111,
             "#46039f"
            ],
            [
             0.2222222222222222,
             "#7201a8"
            ],
            [
             0.3333333333333333,
             "#9c179e"
            ],
            [
             0.4444444444444444,
             "#bd3786"
            ],
            [
             0.5555555555555556,
             "#d8576b"
            ],
            [
             0.6666666666666666,
             "#ed7953"
            ],
            [
             0.7777777777777778,
             "#fb9f3a"
            ],
            [
             0.8888888888888888,
             "#fdca26"
            ],
            [
             1,
             "#f0f921"
            ]
           ],
           "sequentialminus": [
            [
             0,
             "#0d0887"
            ],
            [
             0.1111111111111111,
             "#46039f"
            ],
            [
             0.2222222222222222,
             "#7201a8"
            ],
            [
             0.3333333333333333,
             "#9c179e"
            ],
            [
             0.4444444444444444,
             "#bd3786"
            ],
            [
             0.5555555555555556,
             "#d8576b"
            ],
            [
             0.6666666666666666,
             "#ed7953"
            ],
            [
             0.7777777777777778,
             "#fb9f3a"
            ],
            [
             0.8888888888888888,
             "#fdca26"
            ],
            [
             1,
             "#f0f921"
            ]
           ]
          },
          "colorway": [
           "#636efa",
           "#EF553B",
           "#00cc96",
           "#ab63fa",
           "#FFA15A",
           "#19d3f3",
           "#FF6692",
           "#B6E880",
           "#FF97FF",
           "#FECB52"
          ],
          "font": {
           "color": "#2a3f5f"
          },
          "geo": {
           "bgcolor": "white",
           "lakecolor": "white",
           "landcolor": "#E5ECF6",
           "showlakes": true,
           "showland": true,
           "subunitcolor": "white"
          },
          "hoverlabel": {
           "align": "left"
          },
          "hovermode": "closest",
          "mapbox": {
           "style": "light"
          },
          "paper_bgcolor": "white",
          "plot_bgcolor": "#E5ECF6",
          "polar": {
           "angularaxis": {
            "gridcolor": "white",
            "linecolor": "white",
            "ticks": ""
           },
           "bgcolor": "#E5ECF6",
           "radialaxis": {
            "gridcolor": "white",
            "linecolor": "white",
            "ticks": ""
           }
          },
          "scene": {
           "xaxis": {
            "backgroundcolor": "#E5ECF6",
            "gridcolor": "white",
            "gridwidth": 2,
            "linecolor": "white",
            "showbackground": true,
            "ticks": "",
            "zerolinecolor": "white"
           },
           "yaxis": {
            "backgroundcolor": "#E5ECF6",
            "gridcolor": "white",
            "gridwidth": 2,
            "linecolor": "white",
            "showbackground": true,
            "ticks": "",
            "zerolinecolor": "white"
           },
           "zaxis": {
            "backgroundcolor": "#E5ECF6",
            "gridcolor": "white",
            "gridwidth": 2,
            "linecolor": "white",
            "showbackground": true,
            "ticks": "",
            "zerolinecolor": "white"
           }
          },
          "shapedefaults": {
           "line": {
            "color": "#2a3f5f"
           }
          },
          "ternary": {
           "aaxis": {
            "gridcolor": "white",
            "linecolor": "white",
            "ticks": ""
           },
           "baxis": {
            "gridcolor": "white",
            "linecolor": "white",
            "ticks": ""
           },
           "bgcolor": "#E5ECF6",
           "caxis": {
            "gridcolor": "white",
            "linecolor": "white",
            "ticks": ""
           }
          },
          "title": {
           "x": 0.05
          },
          "xaxis": {
           "automargin": true,
           "gridcolor": "white",
           "linecolor": "white",
           "ticks": "",
           "title": {
            "standoff": 15
           },
           "zerolinecolor": "white",
           "zerolinewidth": 2
          },
          "yaxis": {
           "automargin": true,
           "gridcolor": "white",
           "linecolor": "white",
           "ticks": "",
           "title": {
            "standoff": 15
           },
           "zerolinecolor": "white",
           "zerolinewidth": 2
          }
         }
        }
       }
      }
     },
     "metadata": {},
     "output_type": "display_data"
    }
   ],
   "source": [
    "# Visualize 3D points\n",
    "import plotly.graph_objects as go\n",
    "\n",
    "# Assuming points_3D is your array of 3D points\n",
    "x = pts3d_cloud[0]\n",
    "y = pts3d_cloud[1]\n",
    "z = pts3d_cloud[2]\n",
    "\n",
    "fig = go.Figure(data=[go.Scatter3d(x=x, y=y, z=z,\n",
    "                                   mode='markers',\n",
    "                                   marker=dict(size=2, color=z, colorscale='Viridis'))])\n",
    "\n",
    "fig.update_layout(scene=dict(xaxis_title='X',\n",
    "                             yaxis_title='Y',\n",
    "                             zaxis_title='Z'))\n",
    "\n",
    "fig.show()"
   ]
  }
 ],
 "metadata": {
  "kernelspec": {
   "display_name": "base",
   "language": "python",
   "name": "python3"
  },
  "language_info": {
   "codemirror_mode": {
    "name": "ipython",
    "version": 3
   },
   "file_extension": ".py",
   "mimetype": "text/x-python",
   "name": "python",
   "nbconvert_exporter": "python",
   "pygments_lexer": "ipython3",
   "version": "3.11.5"
  }
 },
 "nbformat": 4,
 "nbformat_minor": 2
}
