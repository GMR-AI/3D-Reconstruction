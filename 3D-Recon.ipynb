{
 "cells": [
  {
   "cell_type": "markdown",
   "metadata": {},
   "source": [
    "# 3D Reconstruction"
   ]
  },
  {
   "cell_type": "markdown",
   "metadata": {},
   "source": [
    "Imports:"
   ]
  },
  {
   "cell_type": "code",
   "execution_count": 1,
   "metadata": {},
   "source": [
    "import numpy as np\n",
    "import cv2 as cv\n",
    "import os\n",
    "from scipy.optimize import least_squares\n",
    "from tomlkit import boolean\n",
    "from tqdm import tqdm\n",
    "import matplotlib.pyplot as plt"
   ],
   "outputs": []
  },
  {
   "cell_type": "markdown",
   "metadata": {},
   "source": [
    "Load dataset:"
   ]
  },
  {
   "cell_type": "code",
   "execution_count": 7,
   "metadata": {},
   "source": [
    "def load_images_from_folder(folder):\n",
    "    images = []\n",
    "    for filename in os.listdir(folder):\n",
    "        if filename.endswith(\".jpg\") or filename.endswith(\".png\"): # add file types as needed\n",
    "            img = cv.imread(os.path.join(folder, filename))\n",
    "            if img is not None:\n",
    "                img_rgb = img\n",
    "                images.append(img_rgb)\n",
    "    return images\n",
    "\n",
    "folder = \"dataset\"\n",
    "images = load_images_from_folder(folder)"
   ],
   "outputs": []
  },
  {
   "cell_type": "code",
   "execution_count": 3,
   "metadata": {},
   "source": [
    "# Define the size of the chessboard\n",
    "chessboard_size = (7, 7)\n",
    "\n",
    "# Define arrays to save the object points and image points from all the images\n",
    "object_points = [] # 3D points in real world space\n",
    "image_points = [] # 2D points in image plane\n",
    "\n",
    "# Prepare grid and points to display\n",
    "objp = np.zeros((np.prod(chessboard_size), 3), dtype=np.float32)\n",
    "\n",
    "# Populate objp with coordinated for each grid point\n",
    "objp[:,:2] = np.mgrid[0:chessboard_size[0], 0:chessboard_size[1]].T.reshape(-1, 2)\n",
    "\n",
    "# Loop over the images\n",
    "for image in images:\n",
    "    gray_image = cv.cvtColor(image, cv.COLOR_BGR2GRAY)\n",
    "\n",
    "    # Find the chessboard corners\n",
    "    ret, corners = cv.findChessboardCorners(gray_image, chessboard_size, None)\n",
    "\n",
    "    # If corners are found, add object points and image points\n",
    "    if ret == True:\n",
    "        object_points.append(objp)\n",
    "        image_points.append(corners)\n",
    "\n",
    "# Calibrate the camera and save the results\n",
    "ret, mtx, dist, rvecs, tvecs = cv.calibrateCamera(object_points, image_points, gray_image.shape[::-1], None, None)"
   ],
   "outputs": []
  },
  {
   "cell_type": "code",
   "execution_count": 13,
   "metadata": {},
   "source": [
    "# Set the print options to suppress the scientific notation\n",
    "np.set_printoptions(suppress=True)\n",
    "\n",
    "# Save the intrinsic parameters to a txt file\n",
    "np.savetxt(\"intrinsic_parameters.txt\", mtx, fmt='%.2f')\n",
    "\n",
    "# Print a success message\n",
    "print(\"The intrinsic parameters were successfully saved to intrinsic_parameters.txt in normal format.\")"
   ],
   "outputs": []
  },
  {
   "cell_type": "code",
   "execution_count": 13,
   "metadata": {},
   "source": [
    "# 1. Detect 2D features in every input image.\n",
    "def detect_features(images):\n",
    "    sift = cv.SIFT_create()\n",
    "    keypoints, descriptors = [], []\n",
    "    for img in images:\n",
    "        kp, des = sift.detectAndCompute(img, None)\n",
    "        keypoints.append(kp)\n",
    "        descriptors.append(des)\n",
    "    return keypoints, descriptors"
   ],
   "outputs": []
  },
  {
   "cell_type": "code",
   "execution_count": 14,
   "metadata": {},
   "source": [
    "# 2. Match 2D features between images.\n",
    "def match_features(descriptors):\n",
    "    bf = cv.BFMatcher(cv.NORM_L2, crossCheck=True)\n",
    "    matches = []\n",
    "    for i in range(len(descriptors) - 1):\n",
    "        matches.append(bf.match(descriptors[i], descriptors[i+1]))\n",
    "    return matches"
   ],
   "outputs": []
  },
  {
   "cell_type": "code",
   "execution_count": 15,
   "metadata": {},
   "source": [
    "# 3. Generate correspondence (fundamental matrix) RANSAC\n",
    "def generate_correspondence(matches, keypoints):\n",
    "    fundamental_matrices = []\n",
    "    for i in range(len(matches) - 1):\n",
    "        pts1 = np.float32([keypoints[i][m.queryIdx].pt for m in matches[i]]).reshape(-1,1,2)\n",
    "        pts2 = np.float32([keypoints[i+1][m.trainIdx].pt for m in matches[i]]).reshape(-1,1,2)\n",
    "        F, mask = cv.findFundamentalMat(pts1,pts2,cv.FM_RANSAC)\n",
    "        fundamental_matrices.append(F)\n",
    "    return fundamental_matrices"
   ],
   "outputs": []
  },
  {
   "cell_type": "code",
   "execution_count": 16,
   "metadata": {},
   "source": [
    "# 3. Generate correspondence (fundamental matrix) RANSAC\n",
    "def generate_correspondence(matches, keypoints):\n",
    "    fundamental_matrices = []\n",
    "    for i in range(len(matches) - 1):\n",
    "        pts1 = np.float32([keypoints[i][m.queryIdx].pt for m in matches[i]]).reshape(-1,1,2)\n",
    "        pts2 = np.float32([keypoints[i+1][m.trainIdx].pt for m in matches[i]]).reshape(-1,1,2)\n",
    "        F, mask = cv.findFundamentalMat(pts1,pts2,cv.FM_RANSAC)\n",
    "        fundamental_matrices.append(F)\n",
    "    return fundamental_matrices"
   ],
   "outputs": []
  },
  {
   "cell_type": "code",
   "execution_count": 17,
   "metadata": {},
   "source": [
    "# Now we can use the functions we defined above\n",
    "keypoints, descriptors = detect_features(images)\n",
    "matches = match_features(descriptors)\n",
    "fundamental_matrices = generate_correspondence(matches, keypoints)"
   ],
   "outputs": []
  }
 ],
 "metadata": {
  "kernelspec": {
   "display_name": "base",
   "language": "python",
   "name": "python3"
  },
  "language_info": {
   "codemirror_mode": {
    "name": "ipython",
    "version": 3
   },
   "file_extension": ".py",
   "mimetype": "text/x-python",
   "name": "python",
   "nbconvert_exporter": "python",
   "pygments_lexer": "ipython3",
   "version": "3.9.19"
  }
 },
 "nbformat": 4,
 "nbformat_minor": 2
}
