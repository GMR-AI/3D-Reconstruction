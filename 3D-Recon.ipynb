{
 "cells": [
  {
   "cell_type": "markdown",
   "metadata": {},
   "source": [
    "# 3D Reconstruction"
   ]
  },
  {
   "cell_type": "markdown",
   "metadata": {},
   "source": [
    "Imports:"
   ]
  },
  {
   "cell_type": "code",
   "execution_count": 1,
   "metadata": {
    "ExecuteTime": {
     "end_time": "2024-05-04T16:57:56.111384Z",
     "start_time": "2024-05-04T16:57:56.096386Z"
    }
   },
   "source": [
    "import numpy as np\n",
    "import cv2 as cv\n",
    "import os\n",
    "import camera_treatment\n",
    "import feature_extraction\n",
    "import ransacImplement\n",
    "import triangulation\n",
    "import matplotlib.pyplot as plt"
   ],
   "outputs": []
  },
  {
   "cell_type": "markdown",
   "metadata": {},
   "source": [
    "Load dataset:"
   ]
  },
  {
   "cell_type": "code",
   "execution_count": 2,
   "metadata": {
    "ExecuteTime": {
     "end_time": "2024-05-04T16:58:00.913333Z",
     "start_time": "2024-05-04T16:57:56.125388Z"
    }
   },
   "source": [
    "def load_images_from_folder(folder):\n",
    "    images = []\n",
    "    for filename in os.listdir(folder):\n",
    "        if filename.endswith(\".jpg\") or filename.endswith(\".png\"): # add file types as needed\n",
    "            img = cv.imread(os.path.join(folder, filename))\n",
    "            if img is not None:\n",
    "                img = cv.cvtColor(img, cv.COLOR_BGR2RGB)\n",
    "                images.append(img)\n",
    "    return images\n",
    "\n",
    "folder = \"dataset\"\n",
    "images = load_images_from_folder(folder)"
   ],
   "outputs": []
  },
  {
   "cell_type": "code",
   "execution_count": 3,
   "metadata": {
    "ExecuteTime": {
     "end_time": "2024-05-04T16:58:01.331334Z",
     "start_time": "2024-05-04T16:58:00.915336Z"
    }
   },
   "source": [
    "plt.imshow(images[0])"
   ],
   "outputs": []
  },
  {
   "cell_type": "code",
   "execution_count": 4,
   "metadata": {},
   "source": [
    "# Calibrate camera\n",
    "K = np.array([[1518.317676, 0.000000, 582.870546],\n",
    "    [0.000000, 1545.440926, 440.079523],\n",
    "    [0.000000, 0.000000, 1.000000]])\n",
    "print(K)"
   ],
   "outputs": []
  },
  {
   "cell_type": "code",
   "execution_count": 5,
   "metadata": {
    "ExecuteTime": {
     "end_time": "2024-05-04T16:58:01.346337Z",
     "start_time": "2024-05-04T16:58:01.333335Z"
    }
   },
   "source": [
    "# Extract features\n",
    "keypoints, descriptors = feature_extraction.multi_feature_extraction(images)\n",
    "print(np.shape(keypoints))\n",
    "print(np.shape(descriptors))"
   ],
   "outputs": []
  },
  {
   "cell_type": "code",
   "execution_count": 6,
   "metadata": {
    "ExecuteTime": {
     "end_time": "2024-05-04T16:58:01.362335Z",
     "start_time": "2024-05-04T16:58:01.348339Z"
    }
   },
   "source": [
    "# Match features and keep only matching points\n",
    "simple_matches, multi_matches = feature_extraction.multi_feature_matching(descriptors, window_size=20)"
   ],
   "outputs": []
  },
  {
   "cell_type": "code",
   "execution_count": 7,
   "metadata": {
    "ExecuteTime": {
     "end_time": "2024-05-04T16:58:01.378334Z",
     "start_time": "2024-05-04T16:58:01.363336Z"
    }
   },
   "source": [
    "# Find Essential Matrices\n",
    "fundamental_matrices = ransacImplement.simple_ransac_matrix(matches=simple_matches, keypoints=keypoints)\n",
    "essential_matrices = ransacImplement.simple_get_essential_matrix(K, fundamental_matrices=fundamental_matrices)\n",
    "print(np.shape(essential_matrices))"
   ],
   "outputs": []
  },
  {
   "cell_type": "code",
   "execution_count": 8,
   "metadata": {
    "ExecuteTime": {
     "end_time": "2024-05-04T16:58:01.393334Z",
     "start_time": "2024-05-04T16:58:01.379337Z"
    }
   },
   "source": [
    "# Calculate projection matrices\n",
    "proj_mats = [camera_treatment.ExtractCameraPose(E, K)[0] for E in essential_matrices]\n",
    "Rs = [camera_treatment.ExtractCameraPose(E, K)[1] for E in essential_matrices]\n",
    "Ts = [camera_treatment.ExtractCameraPose(E, K)[2] for E in essential_matrices]\n",
    "\n",
    "print(np.shape(proj_mats))\n",
    "proj_mats[0] = np.hstack((np.identity(3), np.transpose([np.zeros(3)])))"
   ],
   "outputs": []
  },
  {
   "cell_type": "code",
   "execution_count": 9,
   "metadata": {
    "ExecuteTime": {
     "end_time": "2024-05-04T16:58:01.409334Z",
     "start_time": "2024-05-04T16:58:01.394336Z"
    }
   },
   "source": [
    "# Desambiguation\n",
    "proj_mats_final = [proj_mats[0]]\n",
    "for i in range(len(proj_mats) - 1):\n",
    "    pts1 = np.array([keypoints[i][m.queryIdx].pt for m in simple_matches[i]]).T\n",
    "    pts2 = np.array([keypoints[i+1][m.trainIdx].pt for m in simple_matches[i]]).T\n",
    "    P2 = camera_treatment.disambiguate(pts1, pts2, proj_mats_final[i], proj_mats[i+1])\n",
    "    proj_mats_final.append(P2)\n",
    "print(np.shape(proj_mats_final))"
   ],
   "outputs": []
  },
  {
   "cell_type": "code",
   "execution_count": null,
   "metadata": {
    "ExecuteTime": {
     "end_time": "2024-05-04T16:58:01.425335Z",
     "start_time": "2024-05-04T16:58:01.410336Z"
    }
   },
   "source": [],
   "outputs": []
  }
 ],
 "metadata": {
  "kernelspec": {
   "display_name": "base",
   "language": "python",
   "name": "python3"
  },
  "language_info": {
   "codemirror_mode": {
    "name": "ipython",
    "version": 3
   },
   "file_extension": ".py",
   "mimetype": "text/x-python",
   "name": "python",
   "nbconvert_exporter": "python",
   "pygments_lexer": "ipython3",
   "version": "3.11.5"
  }
 },
 "nbformat": 4,
 "nbformat_minor": 2
}
